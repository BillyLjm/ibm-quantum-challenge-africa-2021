{
 "cells": [
  {
   "cell_type": "markdown",
   "metadata": {},
   "source": [
    "<h1>IBM Quantum Challenge Africa 2021</h1>\n",
    "<p style=\"font-size:xx-large;\">Introduction and the Crop-Yield Problem</p>"
   ]
  },
  {
   "cell_type": "markdown",
   "metadata": {},
   "source": [
    "Quantum Computing has the potential to revolutionize computing, as it can solve problems that are not possible to solve on a classical computer. This extra ability that quantum computers have is called quantum advantage. To achieve this goal, the world needs passionate and competent end-users: those who know how to apply the technology to their field.\n",
    "\n",
    "In this challenge you will be exposed, at a high-level, to quantum computing through Qiskit. As current or future users of quantum computers, you need to know what problems are appropriate for quantum computation, how to structure the problem model/inputs so that they are compatible with your chosen algorithm, and how to execute a given algorithm and quantum solution to solve the problem.\n",
    "\n",
    "This is the first notebook for the IBM Quantum Challenge Africa. Before starting here, ensure you have completed the Week 0 content in preparation for the following exercises."
   ]
  },
  {
   "cell_type": "markdown",
   "metadata": {},
   "source": [
    "## Initialization"
   ]
  },
  {
   "cell_type": "markdown",
   "metadata": {},
   "source": [
    "To ensure the demonstrations and exercises have the required Python modules and libraries, run the following cell before continuing."
   ]
  },
  {
   "cell_type": "code",
   "execution_count": 1,
   "metadata": {},
   "outputs": [],
   "source": [
    "# Import auxiliary libraries\n",
    "import numpy as np\n",
    "\n",
    "# Import Qiskit\n",
    "from qiskit import IBMQ, Aer\n",
    "from qiskit.algorithms import QAOA, VQE, NumPyMinimumEigensolver\n",
    "from qiskit.algorithms.optimizers import COBYLA\n",
    "from qiskit.utils import QuantumInstance, algorithm_globals\n",
    "from qiskit.providers.aer.noise.noise_model import NoiseModel\n",
    "\n",
    "from qiskit_optimization import QuadraticProgram\n",
    "from qiskit_optimization.algorithms import MinimumEigenOptimizer\n",
    "from qiskit_optimization.converters import QuadraticProgramToQubo\n",
    "\n",
    "import qiskit.test.mock as Fake"
   ]
  },
  {
   "cell_type": "markdown",
   "metadata": {},
   "source": [
    "## Table of Contents"
   ]
  },
  {
   "cell_type": "markdown",
   "metadata": {},
   "source": [
    "The notebook is structured as follows:"
   ]
  },
  {
   "cell_type": "markdown",
   "metadata": {},
   "source": [
    "1. Initialization\n",
    "2. Table of Contents\n",
    "3. Qiskit and its parts\n",
    "4. Setting up the Qiskit Environment\n",
    "5. Quadratic Problems\n",
    "6. Crop-Yield Problem as a Quadratic Problem\n",
    "7. Solving the Crop-Yield Problem using Quantum Computing\n",
    "8. Simulating a Real Quantum Computer for the Crop-Yield Problem"
   ]
  },
  {
   "cell_type": "markdown",
   "metadata": {},
   "source": [
    "## Qiskit and its parts"
   ]
  },
  {
   "cell_type": "markdown",
   "metadata": {},
   "source": [
    "Qiskit is divided into multiple modules for different purposes, with Terra at the core of the Qiskit ecosystem. It helps to be familiar with what each module can do and whether you will need to utilize the software contained within them for your specific problem. There are four modules that deal with the application of quantum computing; with tools and algorithms built specifically for their fields.\n",
    "\n",
    "Have a quick look at the [Qiskit documentation](https://qiskit.org/overview) and this IBM Research [blog post](https://www.ibm.com/blogs/research/2021/04/qiskit-application-modules/) to see what these modules are called. Once you have done so, you can complete the first exercise of the challenge: replace the ficticious module names, in the python cell below, with the correct module names. Though it would be fun to have a Qiskit Gaming module, it has not yet been developed. If you are interested in contributing to the open-source Qiskit community, have a look at the [contribution guide](https://qiskit.org/documentation/contributing_to_qiskit.html)."
   ]
  },
  {
   "cell_type": "markdown",
   "metadata": {},
   "source": [
    "\n",
    "### Exercise 1a: Qiskit Applications Modules"
   ]
  },
  {
   "cell_type": "code",
   "execution_count": 2,
   "metadata": {},
   "outputs": [],
   "source": [
    "# Definitely real Qiskit module names\n",
    "qiskit_module_names = [\n",
    "    \"Qiskit Nature\",\n",
    "    \"Qiskit Finance\", \n",
    "    \"Qiskit Optimization\",\n",
    "    \"Qiskit Machine Learning\"\n",
    "]"
   ]
  },
  {
   "cell_type": "markdown",
   "metadata": {},
   "source": [
    "Run the following python cell to check if you have the correct module names."
   ]
  },
  {
   "cell_type": "code",
   "execution_count": 3,
   "metadata": {},
   "outputs": [
    {
     "name": "stderr",
     "output_type": "stream",
     "text": [
      "/opt/conda/lib/python3.8/site-packages/pyscf/lib/misc.py:47: H5pyDeprecationWarning: Using default_file_mode other than 'r' is deprecated. Pass the mode to h5py.File() instead.\n",
      "  h5py.get_config().default_file_mode = 'a'\n"
     ]
    },
    {
     "name": "stdout",
     "output_type": "stream",
     "text": [
      "Submitting your answer for ex1/partA. Please wait...\n",
      "Congratulations 🎉! Your answer is correct and has been submitted.\n"
     ]
    }
   ],
   "source": [
    "from qc_grader import grade_ex1a\n",
    "\n",
    "grade_ex1a(qiskit_module_names)"
   ]
  },
  {
   "cell_type": "markdown",
   "metadata": {},
   "source": [
    "### Qiskit Applications Modules"
   ]
  },
  {
   "cell_type": "markdown",
   "metadata": {},
   "source": [
    "In this notebook, we will use the `Qiskit Optimization` applications module for a specific problem to illustrate how\n",
    "\n",
    "1. classical and mathematical problem definitions are represented in Qiskit,\n",
    "2. some quantum algorithms are defined,\n",
    "3. to execute a quantum algorithm for a given problem definition,\n",
    "4. and algorithms and Qiskit problems are executed on real and simulated quantum computers.\n",
    "\n",
    "We will also be using Qiskit Terra and Aer as they provide the foundation of Qiskit and high-performance quantum simulators respectively."
   ]
  },
  {
   "cell_type": "markdown",
   "metadata": {},
   "source": [
    "## Quadratic Problems"
   ]
  },
  {
   "cell_type": "markdown",
   "metadata": {},
   "source": [
    "Some computational problems can be formulated into quadratic equations such that the minimum of the quadratic equations is the optimal solution, if any exist. These problems are encountered in finance, agriculture, operations and production management, and economics.\n",
    "\n",
    "Quadratic programming is also used to identify an optimal financial portfolio with minimum risk and optimizing the layout of production components in a factory to minimize the travel distance of resources. This notebook focuses on agriculture as it is a relevant application of quantum computing to problems facing the African continent. However, all of these applications share two common characteristics: the system can be modelled as a quadratic equation and the system variables may be constrained, with their values limited to within a given range.\n",
    "\n",
    "---\n",
    "\n",
    "Quadratic problems take on the following structure. Given a vector of $n$ variables $x\\in\\mathbb{R}^n$, the quadratic function to minimize is as follows.\n",
    "\n",
    "$$\n",
    "\\begin{align}\n",
    "\\text{minimize}\\quad & f\\left(x\\right)=\\frac{1}{2}x^\\top{}\\mathbf{Q}x + c^\\top{}x &\\\\\n",
    "\\text{subject to}\\quad & \\mathbf{A}x\\leq{}b&\\\\\n",
    "& x^\\top{}\\mathbf{Q}_ix + c_{i}^\\top{}x\\leq{}r_i,\\quad&\\forall{}i\\in[1,k_q]\\\\\n",
    "& l_i\\leq{}x_i\\leq{}u_i,\\quad&\\forall{}i\\in[1,k_l]\\\\\n",
    "\\end{align}\n",
    "$$\n",
    "\n",
    "$\\mathbf{Q}$, $\\mathbf{Q}_i$, and $\\mathbf{A}$ are $n\\times{}n$ symmetric matrices. $c$ and $c_i$ are $n\\times{}1$ column vectors. $\\mathbf{Q}_i$, $\\mathbf{A}$, $c_i$, $l_i$, and $u_i$ define constraints on the variables in $x$. The quadratic equation at the core of the quadratic problem is found by multiplying out the matrices in the minimization function. Though '$\\leq{}$' is used in the constraint equations above, any identity relationship may be used for any number of constraints: i.e. \"$<$\", \"$=$\", \"$>$\", \"$\\geq$\", or \"$\\leq$\".\n",
    "\n",
    "A valid solution to the quadratic must satisfy all conditions for the problem. Examples of some constraints are given below. The first two are linear constraints whereas the third example is a quadratic constraint.\n",
    "\n",
    "$$ x_1 + x_4 \\leq{} 10$$\n",
    "\n",
    "$$ x_2 - 3x_6 = 10$$\n",
    "\n",
    "$$x_1x_2 - 4x_3x_4 + x_5 \\leq{} 15 $$\n"
   ]
  },
  {
   "cell_type": "markdown",
   "metadata": {},
   "source": [
    "Qiskit has Python code that allows you to implement a quadratic problem as a `QuadraticProgram` instance. Though our definition above used matrices to define the coefficients, `QuadraticProgram` allows you to define the objective (function overwhich to minimize) directly. To illustrate how to use `QuadraticProgram`, we will use the following quadratic problem definition, with three integer variables.\n",
    "\n",
    "$$\\begin{align}\n",
    "\\text{minimize}\\quad{} & f(x)=(x_1)^2 + (x_2)^2 - x_1x_2 - 6x_3 \\\\\n",
    "\\text{subject to}\\quad{} & x_1 + x_2 = 2             \\\\\n",
    "                         & x_2x_3 \\geq{} 1           \\\\\n",
    "                         & -2 \\leq{} x_2 \\leq{} 2    \\\\\n",
    "                         & -2 \\leq{} x_3 \\leq{} 4    \\\\\n",
    "\\end{align}$$"
   ]
  },
  {
   "cell_type": "markdown",
   "metadata": {},
   "source": [
    "The figure below shows the constraints on $x_1$ and $x_3$, with some simplifcation. The shaded area denotes valid values for $x_1$ and $x_3$, within which $f(x)$ must be minimized."
   ]
  },
  {
   "cell_type": "markdown",
   "metadata": {},
   "source": [
    "<img src=\"quadratic_example.svg\" width=512px/>"
   ]
  },
  {
   "cell_type": "markdown",
   "metadata": {},
   "source": [
    "In the following code, the above quadratic problem is defined as a `QuadraticProgram` instance. Have a look at the [Qiskit documentation for `QuadraticProgram`](https://qiskit.org/documentation/stubs/qiskit.optimization.QuadraticProgram.html), as it can be very useful in helping your understanding of its interface.\n",
    "\n",
    "The quadratic to minimize, called an objective, is implemented using dictionaries. This allows you, the developer, to explicitly define coefficients for specific variables and terms. The keys in the dictionaries are the variable names identifying a term in $f(x)$. For example, `(\"x_1\",\"x_2\")` is for $x_1x_2$. The values for each item are the coefficients for said terms. Terms that are subtracted in $f(x)$ must have a negative coefficient."
   ]
  },
  {
   "cell_type": "code",
   "execution_count": 4,
   "metadata": {},
   "outputs": [
    {
     "data": {
      "text/plain": [
       "<qiskit_optimization.problems.quadratic_constraint.QuadraticConstraint at 0x7f0063675f70>"
      ]
     },
     "execution_count": 4,
     "metadata": {},
     "output_type": "execute_result"
    }
   ],
   "source": [
    "quadprog = QuadraticProgram(name=\"example 1\")\n",
    "quadprog.integer_var(name=\"x_1\", lowerbound=0, upperbound=4)\n",
    "quadprog.integer_var(name=\"x_2\", lowerbound=-2, upperbound=2)\n",
    "quadprog.integer_var(name=\"x_3\", lowerbound=-2, upperbound=4)\n",
    "quadprog.minimize(\n",
    "    linear={\"x_3\": -6},\n",
    "    quadratic={(\"x_1\", \"x_1\"): 1, (\"x_2\", \"x_2\"): 1, (\"x_1\", \"x_2\"): -1},\n",
    ")\n",
    "quadprog.linear_constraint(linear={\"x_1\": 1, \"x_2\": 1}, sense=\"=\", rhs=2)\n",
    "quadprog.quadratic_constraint(quadratic={(\"x_2\", \"x_3\"): 1}, sense=\">=\", rhs=1)"
   ]
  },
  {
   "cell_type": "markdown",
   "metadata": {},
   "source": [
    "A `QuadraticProgram` can have three types of variables: binary, integer, and continuous. The Qiskit implementation of the algorithms we are going to use currently only support binary and integer variables. There are other algorithms that allow for the simulation of continuous variables, but they are not covered in this notebook. If you want to know more about them though, have a look at this Qiskit tutorial on [algorithms to solve mixed-variable quadratic problems](https://qiskit.org/documentation/tutorials/optimization/5_admm_optimizer.html)."
   ]
  },
  {
   "cell_type": "markdown",
   "metadata": {},
   "source": [
    "We can visualize the `QuadraticProgram` as an LP string, a portable text-based format used representating the model as a **L**inear **P**rogramming problem."
   ]
  },
  {
   "cell_type": "code",
   "execution_count": 5,
   "metadata": {},
   "outputs": [
    {
     "name": "stdout",
     "output_type": "stream",
     "text": [
      "\\ This file has been generated by DOcplex\n",
      "\\ ENCODING=ISO-8859-1\n",
      "\\Problem name: example 1\n",
      "\n",
      "Minimize\n",
      " obj: - 6 x_3 + [ 2 x_1^2 - 2 x_1*x_2 + 2 x_2^2 ]/2\n",
      "Subject To\n",
      " c0: x_1 + x_2 = 2\n",
      " q0: [ x_2*x_3 ] >= 1\n",
      "\n",
      "Bounds\n",
      "       x_1 <= 4\n",
      " -2 <= x_2 <= 2\n",
      " -2 <= x_3 <= 4\n",
      "\n",
      "Generals\n",
      " x_1 x_2 x_3\n",
      "End\n",
      "\n"
     ]
    }
   ],
   "source": [
    "print(quadprog.export_as_lp_string())"
   ]
  },
  {
   "cell_type": "markdown",
   "metadata": {},
   "source": [
    "Any optimization problem that can be represented as a single second-order equation, in that the greatest exponent of any term is 2, can be transformed into a quadratic problem or program of the form given above. The above example is arbitrary and does not necessarily represent a given real-world problem. The main problem of this notebook focuses on optimizing the yield of a farm, though only the problem definition need be changed to apply this technique to other quadratic problem applications."
   ]
  },
  {
   "cell_type": "markdown",
   "metadata": {},
   "source": [
    "## Crop-Yield Problem as a Quadratic Problem"
   ]
  },
  {
   "cell_type": "markdown",
   "metadata": {},
   "source": [
    "To show how to solve your quadratic program using a quantum computer, we will use two algorithms to solve the crop-yield problem. It is a common need to optimize the crops and management of a farm to reduce risk while increasing profits. One of the big challenges facing Africa and the whole world is how to produce enough food for everyone. The problem here focuses not on profits but on the tonnage of crops harvested. Imagine you have a farm with three hectares of land suitable for farming. You need to choose which crops to plant from a selection of four. Furthermore, you also need to determine how many hectares of each you should plant. The four crops you can plant are wheat, soybeans, maize, and a push-pull crop. The fourth cannot be sold once harvested but it can help increase the yield of the other crops.\n",
    "\n",
    "<table>\n",
    "    <tr>\n",
    "        <th>\n",
    "            <img src=\"farm_template.svg\" width=\"384px\"/>\n",
    "        </th>\n",
    "    </tr>\n",
    "    <tr>\n",
    "        <th>\n",
    "            Our beautiful three hectare farm\n",
    "        </th>\n",
    "    </tr>\n",
    "</table>\n",
    "\n",
    "<table>\n",
    "    <tr>\n",
    "        <th>\n",
    "        <img src=\"crop_wheat.svg\" width=\"256px\"/>\n",
    "        </th>\n",
    "        <th>\n",
    "            <img src=\"crop_soybeans.svg\" width=\"256px\"/>\n",
    "        </th>\n",
    "        <th>\n",
    "            <img src=\"crop_maize.svg\" width=\"256px\"/>\n",
    "        </th>\n",
    "        <th>\n",
    "            <img src=\"crop_pushpull.svg\" width=\"256px\"/>\n",
    "        </th>\n",
    "    </tr>\n",
    "    <tr>\n",
    "        <th>\n",
    "            Wheat\n",
    "        </th>\n",
    "        <th>\n",
    "            Soybeans\n",
    "        </th>\n",
    "        <th>\n",
    "            Maize\n",
    "        </th>\n",
    "        <th>\n",
    "            Push-Pull\n",
    "        </th>\n",
    "<!--         <th>\n",
    "            <p align=\"right\" style=\"height:32px;padding-top:10px;\">Wheat<img src=\"wheat.svg\" width=\"32px\" style=\"float:left;margin-top:-10px;margin-right:8px;\"/></p>\n",
    "        </th>\n",
    "        <th>\n",
    "            <p style=\"height:32px;padding-top:10px;\">Soybeans<img src=\"soybeans.svg\" width=\"32px\" style=\"float:left;margin-top:-10px;margin-right:8px;\"/></p>\n",
    "        </th>\n",
    "        <th>\n",
    "            <p style=\"height:32px;padding-top:10px;\">Maize<img src=\"maize.svg\" width=\"32px\" style=\"float:left;margin-top:-10px;margin-right:8px;\"/></p>\n",
    "        </th>\n",
    "        <th>\n",
    "            <p style=\"height:32px;padding-top:10px;\">Push-Pull<img src=\"pushpull.svg\" width=\"32px\" style=\"float:left;margin-top:-10px;margin-right:8px;\"/></p>\n",
    "        </th> -->\n",
    "    </tr>\n",
    "</table>\n",
    "\n",
    "There are three types of farming methods we can use: monocropping, intercropping, and push-pull farming. These are shown below. Monocropping is where only one crop is farmed. This is can make the farm susceptible to disease and pests as the entire yield would be affected. In some instances, growing two different plants nearby each other will increase the yield of both, though sometimes it can decrease the yield. Intercropping is the process where different plants are chosen to _increase_ the yield. Push-Pull crops are pairs of plants that repel pests and attract pests respectively. Integrating them into a larger farm increases the yield of harvested food but with the cost of not necessarily being able to use the harvest of Push-Pull crops as part of the total yield. This is because the Push-Pull crop may not be usable or even edible.\n",
    "\n",
    "<table>\n",
    "    <tr>\n",
    "        <th>\n",
    "        <img src=\"farm_mono.svg\" width=\"256px\"/>\n",
    "        </th>\n",
    "        <th>\n",
    "            <img src=\"farm_intercrop.svg\" width=\"256px\"/>\n",
    "        </th>\n",
    "        <th>\n",
    "            <img src=\"farm_intercrop_pushpull.svg\" width=\"256px\"/>\n",
    "        </th>\n",
    "    </tr>\n",
    "    <tr>\n",
    "        <th>\n",
    "            Monocropping\n",
    "        </th>\n",
    "        <th>\n",
    "            Intercropping\n",
    "        </th>\n",
    "        <th>\n",
    "            Push-Pull farming\n",
    "        </th>\n",
    "    </tr>\n",
    "</table>"
   ]
  },
  {
   "cell_type": "markdown",
   "metadata": {},
   "source": [
    "---\n",
    "Only in certain cases can quadratic programming problems be solved easily using classical problems. In their general sense, they are NP-Hard; a class of problems that is difficult to solve using classical computational methods. In fact, the best classical method to solve these problems involves heuristics, a technique that finds an approximate solution. Quantum Computers have been shown to provide significant speed-up and better scaling for some heuristic problems. The crop-yield problem is a combinatorial problem, in that the solution is a specific combination of input parameters. Though the problem shown here is small enough to solve classically, larger problems become intractable on a classical computer owing to the number of combinations of which to optimize.\n",
    "\n",
    "\n",
    "Solving the above problem using quantum computing involves three components:\n",
    "\n",
    "1. Defining the problem\n",
    "2. Defining the algorithm\n",
    "3. Executing the algorithm on a backend\n",
    "\n",
    "Many problems in Qiskit follow this structure as the algorithm you use can typically be swapped for another without significantly redefining your problem. Execution on different backends is the easiest, as long as the device has sufficient resource. The first component is given below, with the second and third in sections 1.5 and 1.6."
   ]
  },
  {
   "cell_type": "markdown",
   "metadata": {},
   "source": [
    "### Define the Crop-Yield problem"
   ]
  },
  {
   "cell_type": "markdown",
   "metadata": {},
   "source": [
    "The following problem is defined for you but the `QuadraticProgram` is not implemented. Your task at the end of this section is to implement the `QuadraticProgram` for the given crop-yield model.\n",
    "\n",
    "Your farm has three hectares available, $3~ha$, with each crop taking up $0~ha$ or $1~ha$. We define the yield of the farm as a quadratic function where the influence of each crop on eachother is represented by the quadratic coefficients. The variables in this quadratic are the number of hectares of the crop to be planted and the objective function to maximize is the yield of usable crops in tons. Here is the mathematical model for the problem. In this scenario, all crops increase the yield of other crops. However, the problem to solve is which crops to use to achieve the maximum yield."
   ]
  },
  {
   "cell_type": "markdown",
   "metadata": {},
   "source": [
    "<img src=\"qubo_problem_graphical_variables.svg\" width=\"534px\"/>\n",
    "\n",
    "The farm yield, in tons, is modelled as a quadratic equation, given below, with constraints on the hectares used by each crop and the total hectares available. Each crop is shown using a different symbol, as shown above, representing the number of hectares to be planted of said plant. Note that we can only plant up to 1 hectare of each crop and that our farm is constrained to 3 hectares.\n",
    "\n",
    "<img src=\"qubo_problem_graphical.svg\" width=\"400px\"/>"
   ]
  },
  {
   "cell_type": "markdown",
   "metadata": {},
   "source": [
    "----\n",
    "#### Non-graphical notation\n",
    "Here is a non-graphical representation of the above model, if you are struggling to interpret the above graphic.\n",
    "\n",
    "$$\n",
    "\\begin{align}\n",
    "    \\text{maximize} \\quad & 2(\\operatorname{Wheat}) + \\operatorname{Soybeans} + 4(\\operatorname{Maize}) \\\\\n",
    "    & + 2.4(\\operatorname{Wheat}\\times\\operatorname{Soybeans}) \\\\ & + 4(\\operatorname{Wheat}\\times\\operatorname{Maize})\\\\\n",
    "    &+ 4(\\operatorname{Wheat}\\times\\operatorname{PushPull}) \\\\ & + 2(\\operatorname{Soybeans}\\times\\operatorname{Maize}) \\\\\n",
    "                          & + (\\operatorname{Soybeans}\\times\\operatorname{PushPull}) \\\\ & + 5(\\operatorname{Maize}\\times\\operatorname{PushPull})\n",
    "\\end{align}\n",
    "$$\n",
    "\n",
    "$$\n",
    "\\begin{align}\n",
    "\\text{subject to} \\quad & \\operatorname{Wheat} + \\operatorname{Soybeans} + \\operatorname{Maize} + \\operatorname{PushPull} \\leq{} 3\\\\\n",
    "& 0\\leq{}\\operatorname{Wheat}\\leq{}1\\\\\n",
    "& 0\\leq{}\\operatorname{Soybeans}\\leq{}1\\\\\n",
    "& 0\\leq{}\\operatorname{Maize}\\leq{}1\\\\\n",
    "& 0\\leq{}\\operatorname{PushPull}\\leq{}1\n",
    "\\end{align}\n",
    "$$"
   ]
  },
  {
   "cell_type": "markdown",
   "metadata": {},
   "source": [
    "### Exercise 1b: Create Quadratic Program from crop-yield variables"
   ]
  },
  {
   "cell_type": "markdown",
   "metadata": {},
   "source": [
    "Your first exercise is to create a `QuadraticProgram` that represents the above model. Write your implementation in the `cropyield_quadratic_program` function below. Remember to use the example as a guide, and to look at the [QuadraticProgram documentation](https://qiskit.org/documentation/tutorials/optimization/1_quadratic_program.html?highlight=quadraticprogram) and [Qiskit reference](https://qiskit.org/documentation/stubs/qiskit.optimization.QuadraticProgram.html?highlight=quadraticprogram#qiskit.optimization.QuadraticProgram).\n",
    "\n",
    "**Note:** Ensure your variables are named `Wheat`, `Soybeans`, `Maize,` and `PushPull`. This is necessary for the grader to work."
   ]
  },
  {
   "cell_type": "code",
   "execution_count": 6,
   "metadata": {},
   "outputs": [],
   "source": [
    "def cropyield_quadratic_program():\n",
    "    cropyield = QuadraticProgram(name=\"Crop Yield\")\n",
    "    ##############################\n",
    "    # Put your implementation here\n",
    "    cropyield.integer_var(name=\"Wheat\", lowerbound=0, upperbound=1)\n",
    "    cropyield.integer_var(name=\"Soybeans\", lowerbound=0, upperbound=1)\n",
    "    cropyield.integer_var(name=\"Maize\", lowerbound=0, upperbound=1)\n",
    "    cropyield.integer_var(name=\"PushPull\", lowerbound=0, upperbound=1)\n",
    "    cropyield.maximize(\n",
    "        linear={\"Wheat\": 2, \"Soybeans\": 1, \"Maize\": 4},\n",
    "        quadratic={(\"Wheat\", \"Soybeans\"): 2.4, (\"Wheat\", \"Maize\"): 4, \n",
    "                   (\"Wheat\", \"PushPull\"): 4, (\"Soybeans\", \"Maize\"): 2, \n",
    "                   (\"Soybeans\", \"PushPull\"): 1, (\"Maize\", \"PushPull\"): 5},\n",
    "    )\n",
    "    cropyield.linear_constraint(linear={\"Wheat\": 1, \"Soybeans\": 1, \"Maize\": 1, \n",
    "                                       \"PushPull\": 1}, sense=\"<=\", rhs=3)\n",
    "    #\n",
    "    ##############################\n",
    "    return cropyield"
   ]
  },
  {
   "cell_type": "markdown",
   "metadata": {},
   "source": [
    "Once you feel your implementation is correct, you can grade your solution in the following cell."
   ]
  },
  {
   "cell_type": "code",
   "execution_count": 7,
   "metadata": {},
   "outputs": [
    {
     "name": "stdout",
     "output_type": "stream",
     "text": [
      "Submitting your answer for ex1/partB. Please wait...\n",
      "Congratulations 🎉! Your answer is correct and has been submitted.\n"
     ]
    }
   ],
   "source": [
    "# Execute this cell to grade your solution\n",
    "from qc_grader import grade_ex1b\n",
    "\n",
    "cropyield = cropyield_quadratic_program()\n",
    "grade_ex1b(cropyield)"
   ]
  },
  {
   "cell_type": "markdown",
   "metadata": {},
   "source": [
    "### Converting QuadraticPrograms"
   ]
  },
  {
   "cell_type": "markdown",
   "metadata": {},
   "source": [
    "If we want to estimate how many qubits this quadratic program requires, we can convert it to an Ising Model and print the `num_qubits` parameter. An [ising model](https://qiskit.org/documentation/apidoc/qiskit.optimization.applications.ising.html?highlight=ising) is a special system model type that is well suited for quantum computing. Though we will not be using an ising model explicitly, the algorithms and Qiskit classes we are using do this conversion internally."
   ]
  },
  {
   "cell_type": "code",
   "execution_count": 8,
   "metadata": {},
   "outputs": [
    {
     "name": "stdout",
     "output_type": "stream",
     "text": [
      "Number of qubits required is 6\n"
     ]
    }
   ],
   "source": [
    "# Estimate the number of qubits required\n",
    "ising_operations, _ = (\n",
    "    QuadraticProgramToQubo()\n",
    "    .convert(\n",
    "        cropyield,\n",
    "    )\n",
    "    .to_ising()\n",
    ")\n",
    "print(f\"Number of qubits required is {ising_operations.num_qubits}\")"
   ]
  },
  {
   "cell_type": "markdown",
   "metadata": {},
   "source": [
    "Even though quadratic programs are widely used in Qiskit, the algorithms we are going to use require binary variables. Qiskit provides an automated method for converting our integer variables into binary variables. The binary-only form is called a _Quadratic Unconstrained Binary Optimization_ problem, or `QUBO`. The conversion is done using `QuadraticProgramToQUBO` from the Qiskit optimization module. Every integer variable, and their associated constraints, are transformed into binary variables.\n",
    "\n",
    "Run the following code to see how the QUBO version of the cropyield problem looks. Notice how the quadratic becomes longer and more variables are added. This is to account for the bits in each variable, including the constraints. When we run our quantum algorithm to solve this QuadraticProgram, it is converted to a QUBO instance within the Qiskit algorith implementation, implicitly."
   ]
  },
  {
   "cell_type": "code",
   "execution_count": 9,
   "metadata": {},
   "outputs": [
    {
     "data": {
      "text/plain": [
       "\\ This file has been generated by DOcplex\n",
       "\\ ENCODING=ISO-8859-1\n",
       "\\Problem name: Crop Yield\n",
       "\n",
       "Minimize\n",
       " obj: - 160.400000000000 Wheat@0 - 159.400000000000 Soybeans@0\n",
       "      - 162.400000000000 Maize@0 - 158.400000000000 PushPull@0\n",
       "      - 158.400000000000 c0@int_slack@0 - 316.800000000000 c0@int_slack@1 + [\n",
       "      52.800000000000 Wheat@0^2 + 100.800000000000 Wheat@0*Soybeans@0\n",
       "      + 97.600000000000 Wheat@0*Maize@0 + 97.600000000000 Wheat@0*PushPull@0\n",
       "      + 105.600000000000 Wheat@0*c0@int_slack@0\n",
       "      + 211.200000000000 Wheat@0*c0@int_slack@1 + 52.800000000000 Soybeans@0^2\n",
       "      + 101.600000000000 Soybeans@0*Maize@0\n",
       "      + 103.600000000000 Soybeans@0*PushPull@0\n",
       "      + 105.600000000000 Soybeans@0*c0@int_slack@0\n",
       "      + 211.200000000000 Soybeans@0*c0@int_slack@1 + 52.800000000000 Maize@0^2\n",
       "      + 95.600000000000 Maize@0*PushPull@0\n",
       "      + 105.600000000000 Maize@0*c0@int_slack@0\n",
       "      + 211.200000000000 Maize@0*c0@int_slack@1 + 52.800000000000 PushPull@0^2\n",
       "      + 105.600000000000 PushPull@0*c0@int_slack@0\n",
       "      + 211.200000000000 PushPull@0*c0@int_slack@1\n",
       "      + 52.800000000000 c0@int_slack@0^2\n",
       "      + 211.200000000000 c0@int_slack@0*c0@int_slack@1\n",
       "      + 211.200000000000 c0@int_slack@1^2 ]/2 + 237.600000000000\n",
       "Subject To\n",
       "\n",
       "Bounds\n",
       " 0 <= Wheat@0 <= 1\n",
       " 0 <= Soybeans@0 <= 1\n",
       " 0 <= Maize@0 <= 1\n",
       " 0 <= PushPull@0 <= 1\n",
       " 0 <= c0@int_slack@0 <= 1\n",
       " 0 <= c0@int_slack@1 <= 1\n",
       "\n",
       "Binaries\n",
       " Wheat@0 Soybeans@0 Maize@0 PushPull@0 c0@int_slack@0 c0@int_slack@1\n",
       "End"
      ]
     },
     "execution_count": 9,
     "metadata": {},
     "output_type": "execute_result"
    }
   ],
   "source": [
    "QuadraticProgramToQubo().convert(cropyield)"
   ]
  },
  {
   "cell_type": "markdown",
   "metadata": {},
   "source": [
    "## Solving the Crop-Yield Problem using a Quantum Computer"
   ]
  },
  {
   "cell_type": "markdown",
   "metadata": {},
   "source": [
    "There are three ways to _run_ a quantum algorithm using Qiskit:\n",
    "1. on a simulator locally on your own machine\n",
    "2. on a simulator hosted in the cloud by IBM\n",
    "3. on an actual quantum computer accessible through IBM Quantum.\n",
    "\n",
    "All of these are called backends. In all cases, the _backend_ can easily be swapped for another as long as the simulator or device has appropriate resources (number of qubits etc.). In the code below, we show how to access different backends. We demonstrate this using the local Aer QASM simulator from Qiskit. The Aer QASM simulator models the physical properties of a real quantum computer so you, researchers, and developers can test their quantum computing code and algorithms before running on real devices."
   ]
  },
  {
   "cell_type": "code",
   "execution_count": 10,
   "metadata": {},
   "outputs": [],
   "source": [
    "# We will use the Aer provided QASM simulator\n",
    "backend = Aer.get_backend(\"qasm_simulator\")\n",
    "\n",
    "# Given we are using a simulator, we will fix the algorithm seed to ensure our results are reproducible\n",
    "algorithm_globals.random_seed = 271828"
   ]
  },
  {
   "cell_type": "markdown",
   "metadata": {},
   "source": [
    "We would like to compare our quantum solution to that obtained classically. Secondly, we also want to try different algorithms. The following three subsections show how these different methods for solving the Crop-Yield problem are implemented in Qiskit. The two algorithms used are the [_Quantum Approximate Optimization Algorithm_](https://qiskit.org/documentation/stubs/qiskit.algorithms.QAOA.html?highlight=qaoa#qiskit.algorithms.QAOA) `QAOA` and the [_Variational Quantum Eigensolver_](https://qiskit.org/documentation/stubs/qiskit.algorithms.VQE.html?highlight=vqe#qiskit.algorithms.VQE) `VQE`.\n",
    "\n",
    "Both of these algorithms are hybrid, in that they use a classical _optimizer_ to alter parameters that affect the quantum computation. The VQE algorithm is used to find the lowest eigenvalue of a matrix, which can describe a system to optimize. The QAOA also finds the lowest eigenvalue, but achieves this is a different way to VQE. Both are very popular algorithms, with varying applications and strengths."
   ]
  },
  {
   "cell_type": "markdown",
   "metadata": {},
   "source": [
    "### Classical Solution"
   ]
  },
  {
   "cell_type": "markdown",
   "metadata": {},
   "source": [
    "The classical solution to the crop-yield problem can easily be found using Numpy and Qiskit. The QUBO problem can be solved by finding the minimum eigenvalue of its underlying matrix representation. Fortunately, we don't have to know what this matrix looks like. We only need to pass it to a `MinimumEigensolver` and `MinimumEigenOptimizer`.\n",
    "\n",
    "The optimizer translates the provided problem into a parameterised representation which is then passed to the solver. By optimizing the paramters, the solver will eventually give the minimum eigenvalue for the parameterized representation and thus the solution to the original problem. Here we use a classical solver from NumPy, the `NumPyMinimumEigensolver`."
   ]
  },
  {
   "cell_type": "code",
   "execution_count": 11,
   "metadata": {},
   "outputs": [],
   "source": [
    "def get_classical_solution_for(quadprog: QuadraticProgram):\n",
    "    # Create solver\n",
    "    solver = NumPyMinimumEigensolver()\n",
    "\n",
    "    # Create optimizer for solver\n",
    "    optimizer = MinimumEigenOptimizer(solver)\n",
    "\n",
    "    # Return result from optimizer\n",
    "    return optimizer.solve(quadprog)"
   ]
  },
  {
   "cell_type": "markdown",
   "metadata": {},
   "source": [
    "If we execute the classical method for our crop-yield problem, we get a valid solution that maximises the yield."
   ]
  },
  {
   "cell_type": "code",
   "execution_count": 12,
   "metadata": {},
   "outputs": [
    {
     "name": "stdout",
     "output_type": "stream",
     "text": [
      "Solution found using the classical method:\n",
      "\n",
      "Maximum crop-yield is 19.0 tons\n",
      "Crops used are: \n",
      "\t1.0 ha of Wheat\n",
      "\t0.0 ha of Soybeans\n",
      "\t1.0 ha of Maize\n",
      "\t1.0 ha of PushPull\n"
     ]
    }
   ],
   "source": [
    "# Get classical result\n",
    "classical_result = get_classical_solution_for(cropyield)\n",
    "\n",
    "# Format and print result\n",
    "print(\"Solution found using the classical method:\\n\")\n",
    "print(f\"Maximum crop-yield is {classical_result.fval} tons\")\n",
    "print(f\"Crops used are: \")\n",
    "\n",
    "_crops = [v.name for v in cropyield.variables]\n",
    "for cropIndex, cropHectares in enumerate(classical_result.x):\n",
    "    print(f\"\\t{cropHectares} ha of {_crops[cropIndex]}\")"
   ]
  },
  {
   "cell_type": "markdown",
   "metadata": {},
   "source": [
    "### QAOA Solution"
   ]
  },
  {
   "cell_type": "markdown",
   "metadata": {},
   "source": [
    "To solve our problem using QAOA, we need only replace the classical_solver with a `QAOA` class instance. Now that we are running a quantum algorithm, we need to tell the solver where to execute the quantum component. We use a `QuantumInstance` to store the backend information. The QAOA is an iterative algorithm, and thus is run multiple times with different internal parameters. The parameters are tuned classically during the optimization step of the computation by `optimizer`. If we leave `optimizer` as `None`, our algorithms will use the default optimization algorithm. To determine how many iterations there are, we define a callback function that runs for each iteration and stores the number of evaluations thus far. At the end of our algorithm execution, we return the result and the number of iterations."
   ]
  },
  {
   "cell_type": "code",
   "execution_count": 13,
   "metadata": {},
   "outputs": [],
   "source": [
    "def get_QAOA_solution_for(\n",
    "    quadprog: QuadraticProgram, quantumInstance: QuantumInstance, optimizer=None,\n",
    "):\n",
    "    _eval_count = 0\n",
    "\n",
    "    def callback(eval_count, parameters, mean, std):\n",
    "        nonlocal _eval_count\n",
    "        _eval_count = eval_count\n",
    "\n",
    "    # Create solver\n",
    "    solver = QAOA(\n",
    "        optimizer=optimizer, quantum_instance=quantumInstance, callback=callback,\n",
    "    )\n",
    "\n",
    "    # Create optimizer for solver\n",
    "    optimizer = MinimumEigenOptimizer(solver)\n",
    "\n",
    "    # Get result from optimizer\n",
    "    result = optimizer.solve(quadprog)\n",
    "    return result, _eval_count"
   ]
  },
  {
   "cell_type": "markdown",
   "metadata": {},
   "source": [
    "If we execute the QAOA method for our crop-yield problem, we get the same result as the classical method, showing that 1) the quantum solution is correct and 2) that you now know how to use a quantum algorithm! 🌟"
   ]
  },
  {
   "cell_type": "code",
   "execution_count": 14,
   "metadata": {},
   "outputs": [
    {
     "name": "stdout",
     "output_type": "stream",
     "text": [
      "Solution found using the QAOA method:\n",
      "\n",
      "Maximum crop-yield is 19.0 tons\n",
      "Crops used are: \n",
      "\t1.0 ha of Wheat\n",
      "\t0.0 ha of Soybeans\n",
      "\t1.0 ha of Maize\n",
      "\t1.0 ha of PushPull\n",
      "\n",
      "The solution was found within 3 evaluations of QAOA.\n"
     ]
    }
   ],
   "source": [
    "# Create a QuantumInstance\n",
    "simulator_instance = QuantumInstance(\n",
    "    backend=backend,\n",
    "    seed_simulator=algorithm_globals.random_seed,\n",
    "    seed_transpiler=algorithm_globals.random_seed,\n",
    ")\n",
    "\n",
    "# Get QAOA result\n",
    "qaoa_result, qaoa_eval_count = get_QAOA_solution_for(cropyield, simulator_instance)\n",
    "\n",
    "# Format and print result\n",
    "print(\"Solution found using the QAOA method:\\n\")\n",
    "print(f\"Maximum crop-yield is {qaoa_result.fval} tons\")\n",
    "print(f\"Crops used are: \")\n",
    "for cropHectares, cropName in zip(qaoa_result.x, qaoa_result.variable_names):\n",
    "    print(f\"\\t{cropHectares} ha of {cropName}\")\n",
    "\n",
    "print(f\"\\nThe solution was found within {qaoa_eval_count} evaluations of QAOA.\")"
   ]
  },
  {
   "cell_type": "markdown",
   "metadata": {},
   "source": [
    "### VQE Solution"
   ]
  },
  {
   "cell_type": "markdown",
   "metadata": {},
   "source": [
    "The `VQE` algorithm works in a very similar way to the `QAOA`. Not only in a mathematical modelling and algorithmic perspective, but also programmatically. There is a quantum solver and a classical optimizer. The `VQE` instance is also iterative, and so we can measure how many iterations are needed to find a solution to the Crop-Yield problem."
   ]
  },
  {
   "cell_type": "code",
   "execution_count": 15,
   "metadata": {},
   "outputs": [],
   "source": [
    "def get_VQE_solution_for(\n",
    "    quadprog: QuadraticProgram, quantumInstance: QuantumInstance, optimizer=None,\n",
    "):\n",
    "    _eval_count = 0\n",
    "\n",
    "    def callback(eval_count, parameters, mean, std):\n",
    "        nonlocal _eval_count\n",
    "        _eval_count = eval_count\n",
    "\n",
    "    # Create solver and optimizer\n",
    "    solver = VQE(\n",
    "        optimizer=optimizer, quantum_instance=quantumInstance, callback=callback\n",
    "    )\n",
    "\n",
    "    # Create optimizer for solver\n",
    "    optimizer = MinimumEigenOptimizer(solver)\n",
    "\n",
    "    # Get result from optimizer\n",
    "    result = optimizer.solve(quadprog)\n",
    "    return result, _eval_count"
   ]
  },
  {
   "cell_type": "markdown",
   "metadata": {},
   "source": [
    "And we should get the exact same answer as before."
   ]
  },
  {
   "cell_type": "code",
   "execution_count": 16,
   "metadata": {},
   "outputs": [
    {
     "name": "stdout",
     "output_type": "stream",
     "text": [
      "Solution found using the VQE method:\n",
      "\n",
      "Maximum crop-yield is 19.0 tons\n",
      "Crops used are: \n",
      "\t1.0 ha of Wheat\n",
      "\t0.0 ha of Soybeans\n",
      "\t1.0 ha of Maize\n",
      "\t1.0 ha of PushPull\n",
      "\n",
      "The solution was found within 25 evaluations of VQE\n"
     ]
    }
   ],
   "source": [
    "# Create a QuantumInstance\n",
    "simulator_instance = QuantumInstance(\n",
    "    backend=backend,\n",
    "    seed_simulator=algorithm_globals.random_seed,\n",
    "    seed_transpiler=algorithm_globals.random_seed,\n",
    ")\n",
    "\n",
    "# Get VQE result\n",
    "vqe_result, vqe_eval_count = get_VQE_solution_for(cropyield, simulator_instance)\n",
    "\n",
    "# Format and print result\n",
    "print(\"Solution found using the VQE method:\\n\")\n",
    "print(f\"Maximum crop-yield is {vqe_result.fval} tons\")\n",
    "print(f\"Crops used are: \")\n",
    "for cropHectares, cropName in zip(vqe_result.x, vqe_result.variable_names):\n",
    "    print(f\"\\t{cropHectares} ha of {cropName}\")\n",
    "\n",
    "print(f\"\\nThe solution was found within {vqe_eval_count} evaluations of VQE\")"
   ]
  },
  {
   "cell_type": "markdown",
   "metadata": {},
   "source": [
    "### Exercise 1c: Classical and Quantum Computational Results"
   ]
  },
  {
   "cell_type": "markdown",
   "metadata": {},
   "source": [
    "From the above computations you received six results, the maximum crop-yield and the number of evaluations for three different methods. The maximum yield values should be the same. If your yield values aren't all the same, rerun the algorithms. Sometimes the optimization process can miss the correct answer because of the randomness used to initialize the algorithm parameters.\n",
    "\n",
    "Run the code cell below to see if the maximum yields you computed are correct."
   ]
  },
  {
   "cell_type": "code",
   "execution_count": 17,
   "metadata": {},
   "outputs": [
    {
     "name": "stdout",
     "output_type": "stream",
     "text": [
      "Submitting your answer for ex1/partC. Please wait...\n",
      "Congratulations 🎉! Your answer is correct and has been submitted.\n"
     ]
    }
   ],
   "source": [
    "from qc_grader import grade_ex1c\n",
    "\n",
    "max_yield_qaoa = qaoa_result.fval\n",
    "max_yield_vqe = vqe_result.fval\n",
    "\n",
    "grade_ex1c(tonnage_qaoa=max_yield_qaoa, tonnage_vqe=max_yield_vqe)"
   ]
  },
  {
   "cell_type": "markdown",
   "metadata": {},
   "source": [
    "_You could always verify your result with the classical method, though this is only possible here given the size of the problem. Larger problems become more difficult to verify._"
   ]
  },
  {
   "cell_type": "markdown",
   "metadata": {},
   "source": [
    "## Simulating a Real Quantum Computer for the Crop-Yield Problem"
   ]
  },
  {
   "cell_type": "markdown",
   "metadata": {},
   "source": [
    "Sometimes one would want to _simulate_ a real quantum computer to see how the actual hardware may impact the performance of the algorithm. All quantum computers have an underlying architecture, different noise characeristics, and error rates. These three aspects impact how well the algorithm can perform on a given deivce. To test the impact a given quantum computer has on the QAOA instance, we can utilize a _fake_ instance of the device in Qiskit to tell our simulator what parameters to use. In this example we will be simulating `ibmq_johannesburg`, a device named after the city of Johannesburg in South Africa."
   ]
  },
  {
   "cell_type": "code",
   "execution_count": 18,
   "metadata": {},
   "outputs": [],
   "source": [
    "fake_device = Fake.FakeJohannesburg()"
   ]
  },
  {
   "cell_type": "markdown",
   "metadata": {},
   "source": [
    "We can inspect what this device _looks_ like using the Qiskit Jupyter tools, shown below. You do not need to know about this structure to execute quantum programs on a device, but it is useful to visualize the parameters."
   ]
  },
  {
   "cell_type": "code",
   "execution_count": 19,
   "metadata": {},
   "outputs": [
    {
     "data": {
      "application/vnd.jupyter.widget-view+json": {
       "model_id": "3036addac009459b9ae8fab0b61ef262",
       "version_major": 2,
       "version_minor": 0
      },
      "text/plain": [
       "VBox(children=(HTML(value=\"<h1 style='color:#ffffff;background-color:#000000;padding-top: 1%;padding-bottom: 1…"
      ]
     },
     "metadata": {},
     "output_type": "display_data"
    },
    {
     "data": {
      "text/plain": [
       "<FakeJohannesburg('fake_johannesburg')>"
      ]
     },
     "execution_count": 19,
     "metadata": {},
     "output_type": "execute_result"
    }
   ],
   "source": [
    "import qiskit.tools.jupyter\n",
    "\n",
    "fake_device"
   ]
  },
  {
   "cell_type": "markdown",
   "metadata": {},
   "source": [
    "The three aforementioned components of a quantum computer are represented as a noise model, coupling map, and the basis gate set. The noise model is a representation of how the noise and errors in the computer behave. The coupling map and basis gate set are core to the architecture of the device. The coupling map represents how the physical qubits can interact whereas the basis gate set is analogous to the set of fundamental computatonal instructions we can use. You can see the coupling map in the above widget as the lines connecting each qubit in the architecture diagram.\n",
    "\n",
    "To simulate `ibmq_johannesburg`, we must pass these three components to our Aer simulator."
   ]
  },
  {
   "cell_type": "code",
   "execution_count": 20,
   "metadata": {},
   "outputs": [],
   "source": [
    "# Create the noise model, which contains the basis gate set\n",
    "noise_model = NoiseModel.from_backend(fake_device)\n",
    "\n",
    "# Get the coupling map\n",
    "coupling_map = fake_device.configuration().coupling_map"
   ]
  },
  {
   "cell_type": "markdown",
   "metadata": {},
   "source": [
    "Next we create a new `QuantumInstance` with these parameters"
   ]
  },
  {
   "cell_type": "code",
   "execution_count": 21,
   "metadata": {},
   "outputs": [],
   "source": [
    "fake_instance = QuantumInstance(\n",
    "    backend=backend,\n",
    "    basis_gates=noise_model.basis_gates,\n",
    "    coupling_map=coupling_map,\n",
    "    noise_model=noise_model,\n",
    "    seed_simulator=algorithm_globals.random_seed,\n",
    "    seed_transpiler=algorithm_globals.random_seed,\n",
    ")"
   ]
  },
  {
   "cell_type": "markdown",
   "metadata": {},
   "source": [
    "We can then execute the `QAOA` from before on this new _fake_ quantum device."
   ]
  },
  {
   "cell_type": "code",
   "execution_count": 22,
   "metadata": {},
   "outputs": [
    {
     "name": "stdout",
     "output_type": "stream",
     "text": [
      "Solution found using the QAOA method:\n",
      "\n",
      "Maximum crop-yield is 19.0 tons\n",
      "Crops used are: \n",
      "\t1.0 ha of Wheat\n",
      "\t0.0 ha of Soybeans\n",
      "\t1.0 ha of Maize\n",
      "\t1.0 ha of PushPull\n",
      "\n",
      "The solution was found within 3 evaluations of QAOA.\n"
     ]
    }
   ],
   "source": [
    "# Get QAOA result\n",
    "qaoa_result, qaoa_eval_count = get_QAOA_solution_for(cropyield, fake_instance)\n",
    "\n",
    "# Format and print result\n",
    "print(\"Solution found using the QAOA method:\\n\")\n",
    "print(f\"Maximum crop-yield is {qaoa_result.fval} tons\")\n",
    "print(f\"Crops used are: \")\n",
    "for cropHectares, cropName in zip(qaoa_result.x, qaoa_result.variable_names):\n",
    "    print(f\"\\t{cropHectares} ha of {cropName}\")\n",
    "\n",
    "print(f\"\\nThe solution was found within {qaoa_eval_count} evaluations of QAOA.\")"
   ]
  },
  {
   "cell_type": "markdown",
   "metadata": {},
   "source": [
    "### Scaling of the Quantum Solution vs Classical"
   ]
  },
  {
   "cell_type": "markdown",
   "metadata": {},
   "source": [
    "When we created our quadratic program for the crop-yield problem, we saw that the Ising Model required 6 qubits. We had constrained our problem such that we could only plant up to 1 hectare per crop. However, we could change the model so that we can plot 3 hectares per crop, upto our maximum available farm area of 3 hectares.\n",
    "\n",
    "How many qubits would this ising model require?\n",
    "\n",
    "---\n",
    "\n",
    "Furthermore, what if we had more land to farm? We know that this problem is NP-Hard and thus classical solutions are mostly found using heuristics. This is the core reason why quantum computers are promising to solve these kinds of problems. But what are the resource requirements for the quantum solution, with a larger farm and crops that can be planted in more hectares?\n",
    "\n",
    "To illustrate this, we've provided a function that returns the number of qubits required by the underlying Ising Model for the Crop-Yield Problem. We then see the estimated number of qubits needed for different problem parameters. Feel free to modify the variables being used to see how the qubit resource requirements change."
   ]
  },
  {
   "cell_type": "code",
   "execution_count": 23,
   "metadata": {
    "scrolled": true
   },
   "outputs": [
    {
     "name": "stdout",
     "output_type": "stream",
     "text": [
      "Optimizing a 10 ha farm with each crop taking up to 10 ha each, the computation is estimated to require 20 qubits.\n"
     ]
    }
   ],
   "source": [
    "# Function to estimate the number of qubits required\n",
    "def estimate_number_of_qubits_required_for(max_hectares_per_crop, hectares_available):\n",
    "    return int(\n",
    "        4 * np.ceil(np.log2(max_hectares_per_crop + 1))\n",
    "        + np.ceil(np.log2(hectares_available + 1))\n",
    "    )\n",
    "\n",
    "\n",
    "# Our new problem parameters\n",
    "hectares_available = 10\n",
    "max_hectares_per_crop = 10\n",
    "\n",
    "# Retrieving the number of qubits required\n",
    "number_of_qubits_required = estimate_number_of_qubits_required_for(\n",
    "    max_hectares_per_crop=max_hectares_per_crop, hectares_available=hectares_available\n",
    ")\n",
    "\n",
    "print(\n",
    "    f\"Optimizing a {hectares_available} ha farm with each crop taking up to {max_hectares_per_crop} ha each,\",\n",
    "    f\"the computation is estimated to require {number_of_qubits_required} qubits.\",\n",
    ")"
   ]
  },
  {
   "cell_type": "markdown",
   "metadata": {},
   "source": [
    "The number of qubits required is related to the constraints in the quadratic program and how the integer variables are converted to binary variables. In fact, the scaling of the number of qubits, as a function of the hectares available, is logarithmic in nature; owing to this conversion."
   ]
  },
  {
   "cell_type": "markdown",
   "metadata": {},
   "source": [
    "## Running on real quantum hardware"
   ]
  },
  {
   "cell_type": "markdown",
   "metadata": {},
   "source": [
    "To use the IBM Quantum platform is easy. First you need to load the account you enabled in the week 0 content. If you didn't complete this, follow this [quick guide](https://quantum-computing.ibm.com/lab/docs/iql/manage/account/ibmq) on connecting your IBM Quantum account with Qiskit in python and Jupyter."
   ]
  },
  {
   "cell_type": "code",
   "execution_count": 24,
   "metadata": {},
   "outputs": [
    {
     "data": {
      "text/plain": [
       "<AccountProvider for IBMQ(hub='ibm-q', group='open', project='main')>"
      ]
     },
     "execution_count": 24,
     "metadata": {},
     "output_type": "execute_result"
    }
   ],
   "source": [
    "IBMQ.load_account()"
   ]
  },
  {
   "cell_type": "markdown",
   "metadata": {},
   "source": [
    "IBM Quantum backends are accessed through a provider, which manages the devices to which you have access. For this challenge, you have access to the new `ibm_perth` quantum computer! Typically, you would find your provider details under your [IBM Quantum account details](https://quantum-computing.ibm.com/account). Under your account you can see the different hubs, groups, and projects you are a part of. Qiskit allows us to retrieve a provider using just the hub, group, and project as follows:\n",
    "\n",
    "```python\n",
    "provider = IBMQ.get_provider(hub=\"ibm-q\", group=\"open\", project=\"main\")\n",
    "```\n",
    "\n",
    "However, because we have given you special access for this challenge, we are going to retrive the provider using a different method. Execute the code cell below to retrieve the correct provider."
   ]
  },
  {
   "cell_type": "code",
   "execution_count": 25,
   "metadata": {},
   "outputs": [
    {
     "name": "stdout",
     "output_type": "stream",
     "text": [
      "Yay! The expected provider was found!\n"
     ]
    }
   ],
   "source": [
    "provider = None\n",
    "for prov in IBMQ.providers():\n",
    "    if (\n",
    "        \"iqc-africa-21\" in prov.credentials.hub\n",
    "        and \"q-challenge\" in prov.credentials.group\n",
    "        and \"ex1\" in prov.credentials.project\n",
    "    ):\n",
    "        # Correct provider found\n",
    "        provider = prov\n",
    "        \n",
    "if provider == None:\n",
    "    print(\"ERROR: The expected provider was not found!\")\n",
    "else:\n",
    "    print(\"Yay! The expected provider was found!\")"
   ]
  },
  {
   "cell_type": "markdown",
   "metadata": {},
   "source": [
    "If the above code cell returned an error, you may not yet have access to the real quantum computer. The list of participants is updated daily, so you may have to wait some time before the correct provider appears. If you need assistance, send a message to the challenge Slack channel [#challenge-africa-2021](https://qiskit.slack.com/archives/C02C8MKP153) and make sure to tag the admin team with [@africa_admin](#)."
   ]
  },
  {
   "cell_type": "markdown",
   "metadata": {},
   "source": [
    "------\n",
    "\n",
    "To retrieve a backend from the provider, one needs only request it by name. For example, we can request `ibm_perth` as follows."
   ]
  },
  {
   "cell_type": "code",
   "execution_count": 26,
   "metadata": {},
   "outputs": [],
   "source": [
    "backend_real = provider.get_backend(\"ibm_perth\")"
   ]
  },
  {
   "cell_type": "markdown",
   "metadata": {},
   "source": [
    "We can also list all backends available through a given backend. In this example we use the _open_ provider as it has access to all open devices and simulators, instead of the limited few for the challenge."
   ]
  },
  {
   "cell_type": "code",
   "execution_count": 27,
   "metadata": {},
   "outputs": [
    {
     "name": "stdout",
     "output_type": "stream",
     "text": [
      "ibmq_qasm_simulator\n",
      "ibmq_armonk\n",
      "ibmq_santiago\n",
      "ibmq_bogota\n",
      "ibmq_lima\n",
      "ibmq_belem\n",
      "ibmq_quito\n",
      "simulator_statevector\n",
      "simulator_mps\n",
      "simulator_extended_stabilizer\n",
      "simulator_stabilizer\n",
      "ibmq_manila\n"
     ]
    }
   ],
   "source": [
    "for _backend in IBMQ.get_provider(hub='ibm-q', group='open', project='main').backends():\n",
    "    print(_backend.name())"
   ]
  },
  {
   "cell_type": "markdown",
   "metadata": {},
   "source": [
    "Qiskit provides visual tools to view backend information in a jupyter notebook. To accomplish this, one needs to import the `jupyter` submodule and call the appropriate _magic comment_. With `qiskit_backend_overview` you can view all devices accessible by the current IBMQ account. Notice how it does not include simulators. Furthermore, you should see that all devices available through the _open group_ have at most 5 qubits. This is a problem for solving the crop-yield problem we created earlier, as we showed it requires 6 qubits.\n",
    "\n",
    "To demonstrate how a real quantum device is used, a smaller `QuadraticProgram` is provided, requiring a maximum of 4 qubits."
   ]
  },
  {
   "cell_type": "code",
   "execution_count": 28,
   "metadata": {},
   "outputs": [
    {
     "data": {
      "application/vnd.jupyter.widget-view+json": {
       "model_id": "0bc71dd55e5945e3ae5e269e458a71d6",
       "version_major": 2,
       "version_minor": 0
      },
      "text/plain": [
       "VBox(children=(HTML(value=\"<h2 style ='color:#ffffff; background-color:#000000;padding-top: 1%; padding-bottom…"
      ]
     },
     "metadata": {},
     "output_type": "display_data"
    }
   ],
   "source": [
    "%qiskit_backend_overview"
   ]
  },
  {
   "cell_type": "markdown",
   "metadata": {},
   "source": [
    "<div class=\"alert alert-block alert-warning\">\n",
    "    \n",
    "If you want access to larger and more sophisticated quantum computers through IBM, see if your university or company is part of the [IBM Quantum Network](https://www.ibm.com/quantum-computing/network/members/). Researchers are institutions that are part of the [African Research Universities Alliance (ARUA)](https://arua.org.za/) can also apply for access through the University of the Witwatersrand, in South Africa; which is a member of the IBM Quantum Network. If you are a researcher, you can also apply for access through the [IBM Quantum Researchers Program](https://www.ibm.com/quantum-computing/researchers-program/). If you're a student at a highschool or university, you can ask your teachers or lecturers to apply for access through the [IBM Quantum Educators Program](https://www.ibm.com/quantum-computing/educators-program/).\n",
    "\n",
    "</div>"
   ]
  },
  {
   "cell_type": "markdown",
   "metadata": {},
   "source": [
    "Given that we have imported `qiskit.tools.jupyter`, Jupyter will now display a helpful widget when an IBMQ backend is displayed. We do not have to use a _magic comment_ here as the jupyter submodule defines how some variables are displayed in a jupyter notebook, without requiring a _magic comment_."
   ]
  },
  {
   "cell_type": "code",
   "execution_count": 29,
   "metadata": {},
   "outputs": [
    {
     "data": {
      "application/vnd.jupyter.widget-view+json": {
       "model_id": "945e487141e649f68b1640dde2259a14",
       "version_major": 2,
       "version_minor": 0
      },
      "text/plain": [
       "VBox(children=(HTML(value=\"<h1 style='color:#ffffff;background-color:#000000;padding-top: 1%;padding-bottom: 1…"
      ]
     },
     "metadata": {},
     "output_type": "display_data"
    },
    {
     "data": {
      "text/plain": [
       "<IBMQBackend('ibm_perth') from IBMQ(hub='iqc-africa-21-5', group='q-challenge', project='ex1-rechDdLX44Wdn3Kyn')>"
      ]
     },
     "execution_count": 29,
     "metadata": {},
     "output_type": "execute_result"
    }
   ],
   "source": [
    "backend_real"
   ]
  },
  {
   "cell_type": "markdown",
   "metadata": {},
   "source": [
    "We can create a new `QuantumInstance` object to contain our real quantum computer backend, similar to how we created one to manage our simulator. For real devices, there is an extra parameter we can set: `shots`. The output of a quantum computing algorithm is probabilistic. Therefore, we must execute the quantum computation multiple times, sampling the outputs to estimate their probabilities. The number of `shots` is the number of executions of the quantum computation. Here we set out `QuantumInstance` to use the least busy backend with 2048 shots."
   ]
  },
  {
   "cell_type": "code",
   "execution_count": 30,
   "metadata": {},
   "outputs": [],
   "source": [
    "quantum_instance_real = QuantumInstance(backend_real, shots=2048)"
   ]
  },
  {
   "cell_type": "markdown",
   "metadata": {},
   "source": [
    "The VQE algorithm and QAOA are iterative, meaning that they incorporate a classical-quantum loop which repeats certain computations, _hopefully_ converging to a valid solution. In each iteration, or evaluation, the quantum backend will execute the quantum operations 2048 times. Each shot is quite fast, so we do not have to worry about a significant increase in processing time by using more shots."
   ]
  },
  {
   "cell_type": "markdown",
   "metadata": {},
   "source": [
    "----\n",
    "We now define our small crop-yield problem, which only requires 4 qubits. In this example, only Wheat and Maize are used. The model is altered to illustrate the impact of growing too much of a single crop, with the yield decreasing as the number of hectares of a single crop is increased. However, utilizing both wheat and maize increases yield, showing the benefits of intercropping.\n",
    "\n",
    "**NB:** The maximum number of hectares available is 4, but given that the model would never exceed this limit, the linear constraint defining the maximum number of hectares is not included. This reduces the number of qubits required from 6 to 4."
   ]
  },
  {
   "cell_type": "code",
   "execution_count": 31,
   "metadata": {},
   "outputs": [
    {
     "name": "stdout",
     "output_type": "stream",
     "text": [
      "\\ This file has been generated by DOcplex\n",
      "\\ ENCODING=ISO-8859-1\n",
      "\\Problem name: Small Crop-Yield\n",
      "\n",
      "Maximize\n",
      " obj: 3 Wheat + 3 Maize + [ - 4 Wheat^2 + 2 Wheat*Maize - 4 Maize^2 ]/2\n",
      "Subject To\n",
      "\n",
      "Bounds\n",
      "       Wheat <= 2\n",
      "       Maize <= 2\n",
      "\n",
      "Generals\n",
      " Wheat Maize\n",
      "End\n",
      "\n"
     ]
    }
   ],
   "source": [
    "# Create a small crop-yield example quadratic program\n",
    "cropyield_small = QuadraticProgram(name=\"Small Crop-Yield\")\n",
    "\n",
    "# Add two variables, indicating whether we grow 0, 1, or 2 hectares for two different crops\n",
    "cropyield_small.integer_var(lowerbound=0, upperbound=2, name=\"Wheat\")\n",
    "cropyield_small.integer_var(lowerbound=0, upperbound=2, name=\"Maize\")\n",
    "\n",
    "# Add the objective function defining the yield in tonnes\n",
    "cropyield_small.maximize(\n",
    "    linear={\"Wheat\": 3, \"Maize\": 3},\n",
    "    quadratic={(\"Maize\", \"Wheat\"): 1, (\"Maize\", \"Maize\"): -2, (\"Wheat\", \"Wheat\"): -2},\n",
    ")\n",
    "\n",
    "# This linear constraint is not used as the model never reaches this. This is because the\n",
    "# sum of the upperbounds on both variables is 4 already. If this constraint is applied, the\n",
    "# model would require 6 qubits instead of 4.\n",
    "# cropyield_small.linear_constraint(linear={\"Wheat\": 1, \"Maize\": 1}, sense=\"<=\", rhs=4)\n",
    "\n",
    "print(cropyield_small)"
   ]
  },
  {
   "cell_type": "markdown",
   "metadata": {},
   "source": [
    "Here we verify that our small crop-yield problem requires only 4 qubits."
   ]
  },
  {
   "cell_type": "code",
   "execution_count": 32,
   "metadata": {},
   "outputs": [
    {
     "name": "stdout",
     "output_type": "stream",
     "text": [
      "Number of qubits required is 4\n"
     ]
    }
   ],
   "source": [
    "# Estimate the number of qubits required\n",
    "ising_operations_small, _ = (\n",
    "    QuadraticProgramToQubo()\n",
    "    .convert(\n",
    "        cropyield_small,\n",
    "    )\n",
    "    .to_ising()\n",
    ")\n",
    "print(f\"Number of qubits required is {ising_operations_small.num_qubits}\")"
   ]
  },
  {
   "cell_type": "markdown",
   "metadata": {},
   "source": [
    "### Exercise 1d: Submitting a job to a real quantum computer"
   ]
  },
  {
   "cell_type": "markdown",
   "metadata": {},
   "source": [
    "Now that we know the problem can be run on our chosen device, we can execute the VQE algorithm. In this case we will set the optimizer, with a maximum number of iterations of 1, so that we do not occupy the device for too long. Our answer will be incorrect, but we only want to see how to send a quantum program to a real quantum computer."
   ]
  },
  {
   "cell_type": "code",
   "execution_count": null,
   "metadata": {},
   "outputs": [
    {
     "name": "stderr",
     "output_type": "stream",
     "text": [
      "/opt/conda/lib/python3.8/site-packages/qiskit/utils/run_circuits.py:695: UserWarning: max_credits is not a recognized runtime option and may be ignored by the backend.\n",
      "  return backend.run(circuits, **run_kwargs)\n"
     ]
    }
   ],
   "source": [
    "# Create our optimizer\n",
    "optimizer = COBYLA(maxiter=1)\n",
    "\n",
    "## Get result from real device with VQE\n",
    "vqe_result_real, vqe_eval_count_real = get_VQE_solution_for(\n",
    "    cropyield_small, quantum_instance_real, optimizer=optimizer\n",
    ")"
   ]
  },
  {
   "cell_type": "markdown",
   "metadata": {},
   "source": [
    "Qiskit uses `jobs` to track computations and their results on remote devices and simulators. We can query the backend object for the jobs it received, which would be those created by the VQE algorithm."
   ]
  },
  {
   "cell_type": "code",
   "execution_count": null,
   "metadata": {},
   "outputs": [],
   "source": [
    "# Retrieve the VQE job sent\n",
    "job_real = backend_real.jobs()[0]\n",
    "\n",
    "print(f\"VQE job created at {job_real.creation_date()} and has a job id of {job_real.job_id()}\")"
   ]
  },
  {
   "cell_type": "markdown",
   "metadata": {},
   "source": [
    "Put the job id for your the above job into the cell below and execute the code cell."
   ]
  },
  {
   "cell_type": "code",
   "execution_count": null,
   "metadata": {},
   "outputs": [],
   "source": [
    "from qc_grader import grade_ex1d\n",
    "\n",
    "job_id = 'put your job id here'\n",
    "\n",
    "grade_ex1d(job_id)"
   ]
  },
  {
   "cell_type": "markdown",
   "metadata": {},
   "source": [
    "You have now completed the first lab of the IBM Quantum Challenge Africa 2021! Make sure that you are on the [Qiskit Slack channel](https://ibm.co/Africa_Slack) so you can ask questions and talk to other participants. There are two more labs left in the challenge, which are more difficult than this introductory lab, covering quantum computing for finance and HIV."
   ]
  },
  {
   "cell_type": "markdown",
   "metadata": {},
   "source": [
    "## References"
   ]
  },
  {
   "cell_type": "markdown",
   "metadata": {},
   "source": [
    "[1] A. A. Nel, ‘Crop rotation in the summer rainfall area of South Africa’, South African Journal of Plant and Soil, vol. 22, no. 4, pp. 274–278, Jan. 2005, doi: 10.1080/02571862.2005.10634721.\n",
    "\n",
    "[2] H. Ritchie and M. Roser, ‘Crop yields’, Our World in Data, 2013, [Online]. Available: https://ourworldindata.org/crop-yields.\n",
    "\n",
    "[3] G. Brion, ‘Controlling Pests with Plants: The power of intercropping’, UVM Food Feed, Jan. 09, 2014. https://learn.uvm.edu/foodsystemsblog/2014/01/09/controlling-pests-with-plants-the-power-of-intercropping/ (accessed Feb. 15, 2021).\n",
    "\n",
    "[4] N. O. Ogot, J. O. Pittchar, C. A. O. Midega, and Z. R. Khan, ‘Attributes of push-pull technology in enhancing food and nutrition security’, African Journal of Agriculture and Food Security, vol. 6, pp. 229–242, Mar. 2018."
   ]
  },
  {
   "cell_type": "code",
   "execution_count": null,
   "metadata": {},
   "outputs": [
    {
     "data": {
      "text/html": [
       "<h3>Version Information</h3><table><tr><th>Qiskit Software</th><th>Version</th></tr><tr><td><code>qiskit-terra</code></td><td>0.18.1</td></tr><tr><td><code>qiskit-aer</code></td><td>0.8.2</td></tr><tr><td><code>qiskit-ignis</code></td><td>0.6.0</td></tr><tr><td><code>qiskit-ibmq-provider</code></td><td>0.16.0</td></tr><tr><td><code>qiskit-aqua</code></td><td>0.9.4</td></tr><tr><td><code>qiskit</code></td><td>0.29.0</td></tr><tr><td><code>qiskit-nature</code></td><td>0.1.5</td></tr><tr><td><code>qiskit-finance</code></td><td>0.2.0</td></tr><tr><td><code>qiskit-optimization</code></td><td>0.2.1</td></tr><tr><td><code>qiskit-machine-learning</code></td><td>0.2.0</td></tr><tr><th>System information</th></tr><tr><td>Python</td><td>3.8.10 | packaged by conda-forge | (default, May 11 2021, 07:01:05) \n",
       "[GCC 9.3.0]</td></tr><tr><td>OS</td><td>Linux</td></tr><tr><td>CPUs</td><td>8</td></tr><tr><td>Memory (Gb)</td><td>31.400043487548828</td></tr><tr><td colspan='2'>Wed Sep 08 20:29:02 2021 UTC</td></tr></table>"
      ],
      "text/plain": [
       "<IPython.core.display.HTML object>"
      ]
     },
     "metadata": {},
     "output_type": "display_data"
    },
    {
     "data": {
      "text/html": [
       "<div style='width: 100%; background-color:#d5d9e0;padding-left: 10px; padding-bottom: 10px; padding-right: 10px; padding-top: 5px'><h3>This code is a part of Qiskit</h3><p>&copy; Copyright IBM 2017, 2021.</p><p>This code is licensed under the Apache License, Version 2.0. You may<br>obtain a copy of this license in the LICENSE.txt file in the root directory<br> of this source tree or at http://www.apache.org/licenses/LICENSE-2.0.<p>Any modifications or derivative works of this code must retain this<br>copyright notice, and modified files need to carry a notice indicating<br>that they have been altered from the originals.</p></div>"
      ],
      "text/plain": [
       "<IPython.core.display.HTML object>"
      ]
     },
     "metadata": {},
     "output_type": "display_data"
    }
   ],
   "source": [
    "import qiskit.tools.jupyter\n",
    "\n",
    "%qiskit_version_table\n",
    "%qiskit_copyright"
   ]
  }
 ],
 "metadata": {
  "kernelspec": {
   "display_name": "Qiskit v0.29.0",
   "language": "python",
   "name": "python3"
  },
  "language_info": {
   "codemirror_mode": {
    "name": "ipython",
    "version": 3
   },
   "file_extension": ".py",
   "mimetype": "text/x-python",
   "name": "python",
   "nbconvert_exporter": "python",
   "pygments_lexer": "ipython3",
   "version": "3.8.10"
  },
  "toc": {
   "base_numbering": 1,
   "nav_menu": {},
   "number_sections": true,
   "sideBar": true,
   "skip_h1_title": false,
   "title_cell": "Table of Contents",
   "title_sidebar": "Contents",
   "toc_cell": false,
   "toc_position": {
    "height": "calc(100% - 180px)",
    "left": "10px",
    "top": "150px",
    "width": "195px"
   },
   "toc_section_display": true,
   "toc_window_display": true
  },
  "varInspector": {
   "cols": {
    "lenName": 16,
    "lenType": 16,
    "lenVar": 40
   },
   "kernels_config": {
    "python": {
     "delete_cmd_postfix": "",
     "delete_cmd_prefix": "del ",
     "library": "var_list.py",
     "varRefreshCmd": "print(var_dic_list())"
    },
    "r": {
     "delete_cmd_postfix": ") ",
     "delete_cmd_prefix": "rm(",
     "library": "var_list.r",
     "varRefreshCmd": "cat(var_dic_list()) "
    }
   },
   "oldHeight": 676.85,
   "position": {
    "height": "698.85px",
    "left": "2014px",
    "right": "20px",
    "top": "158px",
    "width": "477px"
   },
   "types_to_exclude": [
    "module",
    "function",
    "builtin_function_or_method",
    "instance",
    "_Feature"
   ],
   "varInspector_section_display": "block",
   "window_display": false
  },
  "widgets": {
   "application/vnd.jupyter.widget-state+json": {
    "state": {
     "000a971626a946b59562c5aa7fb4dcd7": {
      "model_module": "@jupyter-widgets/controls",
      "model_module_version": "1.5.0",
      "model_name": "HTMLModel",
      "state": {
       "layout": "IPY_MODEL_f0785cef361d4096ac354db98f2f7ce1",
       "style": "IPY_MODEL_ca50802875184f6bad605483840918ec",
       "value": "<h5><b>5</b></h5>"
      }
     },
     "0060839f8a494029a1dcf603a19bbc36": {
      "model_module": "@jupyter-widgets/controls",
      "model_module_version": "1.5.0",
      "model_name": "DescriptionStyleModel",
      "state": {
       "description_width": ""
      }
     },
     "00bccfc019bf421bb2d15a80663b413a": {
      "model_module": "@jupyter-widgets/controls",
      "model_module_version": "1.5.0",
      "model_name": "ProgressStyleModel",
      "state": {
       "bar_color": "#71cddd",
       "description_width": ""
      }
     },
     "0387d997a2f94190a411844ad4dec46c": {
      "model_module": "@jupyter-widgets/controls",
      "model_module_version": "1.5.0",
      "model_name": "DescriptionStyleModel",
      "state": {
       "description_width": ""
      }
     },
     "03a43c6669504a0a8644590e809cc252": {
      "model_module": "@jupyter-widgets/controls",
      "model_module_version": "1.5.0",
      "model_name": "GridBoxModel",
      "state": {
       "children": [
        "IPY_MODEL_6f8bce2b7cdb4416991c5d5727b40d68",
        "IPY_MODEL_bdf7307c1fba4e9f9820e34650e95af5",
        "IPY_MODEL_26c239ee160a46c0954b014ff9694bb1"
       ],
       "layout": "IPY_MODEL_5d451249ea174e1dbf30a67456128e34"
      }
     },
     "03ec0016cd1f4d20b729971dd470e5ce": {
      "model_module": "@jupyter-widgets/controls",
      "model_module_version": "1.5.0",
      "model_name": "VBoxModel",
      "state": {
       "children": [
        "IPY_MODEL_bb4a0ee54b424249aa3b81b1c349daf7",
        "IPY_MODEL_b7dd3200876f45a9a913a1178fcc9ab8",
        "IPY_MODEL_8a68257f301340368c935e015a8f7a79",
        "IPY_MODEL_04d02b2e58794b50bb9d08d6325c7d48",
        "IPY_MODEL_73d0dfa5893f469c9f6eca07e551b70b",
        "IPY_MODEL_22c1504e19f7405195a3be7c4f450fb1",
        "IPY_MODEL_90341bb0d94b424f8abbfffc51d5c140",
        "IPY_MODEL_7abf37520bf142618738f77336451da7",
        "IPY_MODEL_96e455b54467414fa156338a57e1bb72",
        "IPY_MODEL_7481fe1201b94cf6a5afd0ebf2cff61d"
       ],
       "layout": "IPY_MODEL_10dbc54088724d93b2602f7bed3fa640"
      }
     },
     "04a016281a904054bf772a824feeb38c": {
      "model_module": "@jupyter-widgets/base",
      "model_module_version": "1.2.0",
      "model_name": "LayoutModel",
      "state": {
       "width": "70px"
      }
     },
     "04d02b2e58794b50bb9d08d6325c7d48": {
      "model_module": "@jupyter-widgets/controls",
      "model_module_version": "1.5.0",
      "model_name": "HTMLModel",
      "state": {
       "layout": "IPY_MODEL_18742b796081424ebad7ededbc26e116",
       "style": "IPY_MODEL_53035fdae87e4241a45ea3c7d3bbff39",
       "value": "<h5>32</h5>"
      }
     },
     "05aefaa0f6e543508a7399b6dc146597": {
      "model_module": "@jupyter-widgets/base",
      "model_module_version": "1.2.0",
      "model_name": "LayoutModel",
      "state": {
       "min_width": "auto"
      }
     },
     "05ca4bdead6140dbb0060eaf0e6bc5bf": {
      "model_module": "@jupyter-widgets/controls",
      "model_module_version": "1.5.0",
      "model_name": "DescriptionStyleModel",
      "state": {
       "description_width": ""
      }
     },
     "05f14c9be3044d1cbd98f2d5d75c4b12": {
      "model_module": "@jupyter-widgets/base",
      "model_module_version": "1.2.0",
      "model_name": "LayoutModel",
      "state": {}
     },
     "0617487bd88f4eedbb0abe226b866913": {
      "model_module": "@jupyter-widgets/base",
      "model_module_version": "1.2.0",
      "model_name": "LayoutModel",
      "state": {
       "justify_content": "center"
      }
     },
     "06412c8842d8471faa5b7e87224264be": {
      "model_module": "@jupyter-widgets/base",
      "model_module_version": "1.2.0",
      "model_name": "LayoutModel",
      "state": {
       "align_items": "center",
       "justify_content": "center",
       "margin": "0px 0px 0px 0px",
       "max_height": "250px",
       "max_width": "250px",
       "min_height": "250px",
       "min_width": "250px"
      }
     },
     "068d05c542fa4c208ac7d8483916afd3": {
      "model_module": "@jupyter-widgets/base",
      "model_module_version": "1.2.0",
      "model_name": "LayoutModel",
      "state": {
       "justify_content": "center"
      }
     },
     "0713b448bf7b47df90ed8bdb9e9829c9": {
      "model_module": "@jupyter-widgets/controls",
      "model_module_version": "1.5.0",
      "model_name": "HTMLModel",
      "state": {
       "layout": "IPY_MODEL_e3be19248e08475fa139f4eb6aacde60",
       "style": "IPY_MODEL_39dedc9184694bc0811e0fda466dba74",
       "value": "<h5 style='color:#34bc6e'>True</h5>"
      }
     },
     "0724ad3e2e5c472ba25e320df7161916": {
      "model_module": "@jupyter-widgets/controls",
      "model_module_version": "1.5.0",
      "model_name": "DescriptionStyleModel",
      "state": {
       "description_width": ""
      }
     },
     "073f43196d604ae1bf1f79e64043eff4": {
      "model_module": "@jupyter-widgets/controls",
      "model_module_version": "1.5.0",
      "model_name": "LabelModel",
      "state": {
       "layout": "IPY_MODEL_836e6903829c4732ad82a6138a1c2702",
       "style": "IPY_MODEL_db6b3f5f39fa4a9893ce63d9ff7b7b01",
       "value": "Quantum Vol."
      }
     },
     "074284228acc47fcac8e320e3fcf314b": {
      "model_module": "@jupyter-widgets/controls",
      "model_module_version": "1.5.0",
      "model_name": "HTMLModel",
      "state": {
       "layout": "IPY_MODEL_52fc5c5de93f49eda4658f52d5203111",
       "style": "IPY_MODEL_4e11f00b10444ba89d8eec8dedc424df",
       "value": "<h5 style='color:#34bc6e'>True</h5>"
      }
     },
     "07652e9f967348caa960c60d7b5cce0e": {
      "model_module": "@jupyter-widgets/controls",
      "model_module_version": "1.5.0",
      "model_name": "DescriptionStyleModel",
      "state": {
       "description_width": ""
      }
     },
     "084db02c41f64d0ba9d510297475ed73": {
      "model_module": "@jupyter-widgets/controls",
      "model_module_version": "1.5.0",
      "model_name": "DescriptionStyleModel",
      "state": {
       "description_width": ""
      }
     },
     "094dbb75fa004b5e894c848b7e440391": {
      "model_module": "@jupyter-widgets/controls",
      "model_module_version": "1.5.0",
      "model_name": "LabelModel",
      "state": {
       "layout": "IPY_MODEL_5558def1448944aeb350c45bcf3cc2d6",
       "style": "IPY_MODEL_cca046fae2934ccfbfb0c81ab3f1d15f",
       "value": "50"
      }
     },
     "09c718ed88b343bebd4f27be09954ca6": {
      "model_module": "@jupyter-widgets/base",
      "model_module_version": "1.2.0",
      "model_name": "LayoutModel",
      "state": {}
     },
     "0bc71dd55e5945e3ae5e269e458a71d6": {
      "model_module": "@jupyter-widgets/controls",
      "model_module_version": "1.5.0",
      "model_name": "VBoxModel",
      "state": {
       "children": [
        "IPY_MODEL_ec594f7c56de46e5a01d506b9413123e",
        "IPY_MODEL_4ba3283575c544418d23f92c69bd8a05"
       ],
       "layout": "IPY_MODEL_da5be6a8f6e542d19044988ace3046d5"
      }
     },
     "0d5a0fabadd64ca9927982a0b1c69415": {
      "model_module": "@jupyter-widgets/controls",
      "model_module_version": "1.5.0",
      "model_name": "DescriptionStyleModel",
      "state": {
       "description_width": ""
      }
     },
     "0e281edb83fa44ccb0e98fef2aa9ce11": {
      "model_module": "@jupyter-widgets/base",
      "model_module_version": "1.2.0",
      "model_name": "LayoutModel",
      "state": {
       "align_items": "center",
       "display": "inline-flex",
       "flex_flow": "column"
      }
     },
     "0e33f43f82b4451880c62d9efebf1d65": {
      "model_module": "@jupyter-widgets/controls",
      "model_module_version": "1.5.0",
      "model_name": "HTMLModel",
      "state": {
       "layout": "IPY_MODEL_04a016281a904054bf772a824feeb38c",
       "style": "IPY_MODEL_ce93074c4f624741b5b06ed54988c905",
       "value": "-"
      }
     },
     "0f7f03a1fff043d2bd7c9e26aa3705bf": {
      "model_module": "@jupyter-widgets/base",
      "model_module_version": "1.2.0",
      "model_name": "LayoutModel",
      "state": {
       "justify_content": "center",
       "max_width": "250px",
       "min_width": "250px"
      }
     },
     "0ffcccd076ad47519a1848effe46349b": {
      "model_module": "@jupyter-widgets/controls",
      "model_module_version": "1.5.0",
      "model_name": "DescriptionStyleModel",
      "state": {
       "description_width": ""
      }
     },
     "0ffee81239ed4fe29cc06630e4e19895": {
      "model_module": "@jupyter-widgets/controls",
      "model_module_version": "1.5.0",
      "model_name": "LabelModel",
      "state": {
       "layout": "IPY_MODEL_144ea0176a4847158c90779750bb96b8",
       "style": "IPY_MODEL_99b0e79abda74137a847e69e9099c82e",
       "value": "19"
      }
     },
     "1095e0a43e37428bad4d84d7428f7355": {
      "model_module": "@jupyter-widgets/base",
      "model_module_version": "1.2.0",
      "model_name": "LayoutModel",
      "state": {
       "justify_content": "center",
       "max_width": "250px",
       "min_width": "250px"
      }
     },
     "10dbc54088724d93b2602f7bed3fa640": {
      "model_module": "@jupyter-widgets/base",
      "model_module_version": "1.2.0",
      "model_name": "LayoutModel",
      "state": {
       "align_items": "center",
       "display": "inline-flex",
       "flex_flow": "column"
      }
     },
     "11c1f05f386d42f486a1fa838f7b6783": {
      "model_module": "@jupyter-widgets/base",
      "model_module_version": "1.2.0",
      "model_name": "LayoutModel",
      "state": {
       "justify_content": "center"
      }
     },
     "12c22c7bf99e46cc806d5c1008158b65": {
      "model_module": "@jupyter-widgets/base",
      "model_module_version": "1.2.0",
      "model_name": "LayoutModel",
      "state": {
       "min_width": "auto"
      }
     },
     "13012cdcef8e4e5287d9d43705ef9668": {
      "model_module": "@jupyter-widgets/controls",
      "model_module_version": "1.5.0",
      "model_name": "HTMLModel",
      "state": {
       "layout": "IPY_MODEL_9fdfc84b3b0e496384f62cc0ff206118",
       "style": "IPY_MODEL_29ed7f1a589e46dcac0dec3208a1dc83",
       "value": "<h5 style='color:#dc267f'>False</h5>"
      }
     },
     "1312ae1efe5947e99154d0d3d8872fb5": {
      "model_module": "@jupyter-widgets/controls",
      "model_module_version": "1.5.0",
      "model_name": "LabelModel",
      "state": {
       "layout": "IPY_MODEL_527735e5bc6242b1a237cc3e514fbe09",
       "style": "IPY_MODEL_c904eba89feb485a9aa88dc64a577971",
       "value": "50"
      }
     },
     "134e2c05d93641728cf1e2196d133ef9": {
      "model_module": "@jupyter-widgets/controls",
      "model_module_version": "1.5.0",
      "model_name": "LabelModel",
      "state": {
       "layout": "IPY_MODEL_33f30019bde04bd5a1cf193ecc05de69",
       "style": "IPY_MODEL_b6b974dd90db448c9e9ab96de4a75af8",
       "value": "Avg. Meas. Err."
      }
     },
     "137d9ed139b94caa9c6e1ad9101cf244": {
      "model_module": "@jupyter-widgets/controls",
      "model_module_version": "1.5.0",
      "model_name": "DescriptionStyleModel",
      "state": {
       "description_width": ""
      }
     },
     "140ff4a326d34bcabf6cfe6372efa755": {
      "model_module": "@jupyter-widgets/controls",
      "model_module_version": "1.5.0",
      "model_name": "DescriptionStyleModel",
      "state": {
       "description_width": ""
      }
     },
     "144ea0176a4847158c90779750bb96b8": {
      "model_module": "@jupyter-widgets/base",
      "model_module_version": "1.2.0",
      "model_name": "LayoutModel",
      "state": {
       "min_width": "auto"
      }
     },
     "14514dde77484398b82c3e6f1b5db15c": {
      "model_module": "@jupyter-widgets/base",
      "model_module_version": "1.2.0",
      "model_name": "LayoutModel",
      "state": {
       "align_items": "center",
       "display": "flex-inline"
      }
     },
     "14b879c5cc78444d9c0534bae9cbf995": {
      "model_module": "@jupyter-widgets/base",
      "model_module_version": "1.2.0",
      "model_name": "LayoutModel",
      "state": {}
     },
     "14d86861707741d5830f374f32dd282b": {
      "model_module": "@jupyter-widgets/controls",
      "model_module_version": "1.5.0",
      "model_name": "DescriptionStyleModel",
      "state": {
       "description_width": ""
      }
     },
     "15010422e6db46e5b4b0838aa0141f22": {
      "model_module": "@jupyter-widgets/controls",
      "model_module_version": "1.5.0",
      "model_name": "ButtonModel",
      "state": {
       "icon": "close",
       "layout": "IPY_MODEL_83ec3a98b7234d9b97a0603dba8f6ca8",
       "style": "IPY_MODEL_2fe68cc523ba4f65a8b13530527c3812"
      }
     },
     "151260c5fe39481da9c596a482f685d8": {
      "model_module": "@jupyter-widgets/controls",
      "model_module_version": "1.5.0",
      "model_name": "HTMLModel",
      "state": {
       "layout": "IPY_MODEL_844502b9d5e24ccb9a5f26853dde3532",
       "style": "IPY_MODEL_94c68a4765ba4a3da6297bda97edac93",
       "value": "<h5>8</h5>"
      }
     },
     "157086dad2124260b5fdfc03dd3325a6": {
      "model_module": "@jupyter-widgets/controls",
      "model_module_version": "1.5.0",
      "model_name": "DescriptionStyleModel",
      "state": {
       "description_width": ""
      }
     },
     "15c53ad0ef1c4e1e952c88b411f8bf0b": {
      "model_module": "@jupyter-widgets/base",
      "model_module_version": "1.2.0",
      "model_name": "LayoutModel",
      "state": {
       "justify_content": "center",
       "max_width": "250px",
       "min_width": "250px"
      }
     },
     "165a90cc87b34d628c3fda16a7ca7af3": {
      "model_module": "@jupyter-widgets/controls",
      "model_module_version": "1.5.0",
      "model_name": "DescriptionStyleModel",
      "state": {
       "description_width": ""
      }
     },
     "165fd55ead4e4f808c2b0bcd89f9e3b3": {
      "model_module": "@jupyter-widgets/output",
      "model_module_version": "1.0.0",
      "model_name": "OutputModel",
      "state": {
       "layout": "IPY_MODEL_b4f914dab08043f6ba8b7d9f6288384f",
       "outputs": [
        {
         "data": {
          "image/png": "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\n",
          "text/plain": "<Figure size 360x360 with 1 Axes>"
         },
         "metadata": {},
         "output_type": "display_data"
        }
       ]
      }
     },
     "1666462dfe4e494098369c7432aa2a8d": {
      "model_module": "@jupyter-widgets/controls",
      "model_module_version": "1.5.0",
      "model_name": "DescriptionStyleModel",
      "state": {
       "description_width": ""
      }
     },
     "1697c674ca214aa1b3dbd91abe9c9a57": {
      "model_module": "@jupyter-widgets/controls",
      "model_module_version": "1.5.0",
      "model_name": "IntProgressModel",
      "state": {
       "layout": "IPY_MODEL_e5efa6374a8643f38c9f62a3d6008b42",
       "max": 50,
       "style": "IPY_MODEL_d8c2c61b56c04525a8d988bdd3d7c325",
       "value": 6
      }
     },
     "1732ec89e6a9407eac073a4d5037c0e2": {
      "model_module": "@jupyter-widgets/base",
      "model_module_version": "1.2.0",
      "model_name": "LayoutModel",
      "state": {
       "justify_content": "center"
      }
     },
     "177683cb20724a29a82b86bcf76a2a28": {
      "model_module": "@jupyter-widgets/controls",
      "model_module_version": "1.5.0",
      "model_name": "LabelModel",
      "state": {
       "layout": "IPY_MODEL_f79bf97cd8394bb293c3dc8a3a77676d",
       "style": "IPY_MODEL_cd8c75a98a404ab996881abb1db72671",
       "value": "Avg. CX Err."
      }
     },
     "17e42c9a0b0045cf9186956176abb4ce": {
      "model_module": "@jupyter-widgets/controls",
      "model_module_version": "1.5.0",
      "model_name": "HBoxModel",
      "state": {
       "children": [
        "IPY_MODEL_de430661e57d454b8ec8e9a8231e7ea2",
        "IPY_MODEL_d25997fc059e4ab9967fa106b8271981",
        "IPY_MODEL_1e41c2f01e74440d9b1b952a04c1a2d9"
       ],
       "layout": "IPY_MODEL_15c53ad0ef1c4e1e952c88b411f8bf0b"
      }
     },
     "18742b796081424ebad7ededbc26e116": {
      "model_module": "@jupyter-widgets/base",
      "model_module_version": "1.2.0",
      "model_name": "LayoutModel",
      "state": {
       "justify_content": "center"
      }
     },
     "18a9f174f2e64f1ea4d8caa72c84e40f": {
      "model_module": "@jupyter-widgets/base",
      "model_module_version": "1.2.0",
      "model_name": "LayoutModel",
      "state": {
       "grid_area": "middle"
      }
     },
     "190d918dca564203ae25b6c07929068e": {
      "model_module": "@jupyter-widgets/controls",
      "model_module_version": "1.5.0",
      "model_name": "DescriptionStyleModel",
      "state": {
       "description_width": ""
      }
     },
     "1b3011b7453d4d7b8d60dc080cee0cae": {
      "model_module": "@jupyter-widgets/controls",
      "model_module_version": "1.5.0",
      "model_name": "DescriptionStyleModel",
      "state": {
       "description_width": ""
      }
     },
     "1c58a057d7454feb998e348b877742ff": {
      "model_module": "@jupyter-widgets/controls",
      "model_module_version": "1.5.0",
      "model_name": "LabelModel",
      "state": {
       "layout": "IPY_MODEL_c99be812654f403b9227567655dbb6a7",
       "style": "IPY_MODEL_9d3ac894575f477dafac1b645f52936e",
       "value": "155"
      }
     },
     "1cc19a43511147e5ad1e6b0ad5d12ade": {
      "model_module": "@jupyter-widgets/base",
      "model_module_version": "1.2.0",
      "model_name": "LayoutModel",
      "state": {
       "justify_content": "center"
      }
     },
     "1d87a1cfe5d04cd9965271252731c694": {
      "model_module": "@jupyter-widgets/base",
      "model_module_version": "1.2.0",
      "model_name": "LayoutModel",
      "state": {}
     },
     "1df08fc68e134ac88194cdedc22939a8": {
      "model_module": "@jupyter-widgets/controls",
      "model_module_version": "1.5.0",
      "model_name": "DescriptionStyleModel",
      "state": {
       "description_width": ""
      }
     },
     "1e0e675abc60419686de27fdc4569f4e": {
      "model_module": "@jupyter-widgets/controls",
      "model_module_version": "1.5.0",
      "model_name": "HTMLModel",
      "state": {
       "layout": "IPY_MODEL_b02e90c454ac4598acba4e1ff148eeb9",
       "style": "IPY_MODEL_07652e9f967348caa960c60d7b5cce0e",
       "value": "<h5 style='color:#34bc6e'>True</h5>"
      }
     },
     "1e41c2f01e74440d9b1b952a04c1a2d9": {
      "model_module": "@jupyter-widgets/controls",
      "model_module_version": "1.5.0",
      "model_name": "LabelModel",
      "state": {
       "layout": "IPY_MODEL_6789862996e6463a857e03c1b846e8f1",
       "style": "IPY_MODEL_0ffcccd076ad47519a1848effe46349b",
       "value": "50"
      }
     },
     "1e4d71cc936440179fd759d40b390bca": {
      "model_module": "@jupyter-widgets/base",
      "model_module_version": "1.2.0",
      "model_name": "LayoutModel",
      "state": {}
     },
     "1e81340480ec46c0abe40735d252f44c": {
      "model_module": "@jupyter-widgets/controls",
      "model_module_version": "1.5.0",
      "model_name": "HTMLModel",
      "state": {
       "layout": "IPY_MODEL_300d157abd8f493f87f299fa27c26938",
       "style": "IPY_MODEL_6e4f5569bede4be197515f740f10cd9f",
       "value": "<h5 style='color:#dc267f'>False</h5>"
      }
     },
     "1eb3aa18350a4802b41de46ff4dc80fb": {
      "model_module": "@jupyter-widgets/controls",
      "model_module_version": "1.5.0",
      "model_name": "GridBoxModel",
      "state": {
       "children": [
        "IPY_MODEL_f2d6fba48870418fa3fa0a4ce1e89c2e",
        "IPY_MODEL_301e2764ba584517b8e501eb4a44834e",
        "IPY_MODEL_72e8c054bd144c39a98fe0943c108e52",
        "IPY_MODEL_dab382bc6fae4f72b80d38f8f6969797"
       ],
       "layout": "IPY_MODEL_1f329954dbbe4aa7aa632466486dc6f8"
      }
     },
     "1f329954dbbe4aa7aa632466486dc6f8": {
      "model_module": "@jupyter-widgets/base",
      "model_module_version": "1.2.0",
      "model_name": "LayoutModel",
      "state": {
       "grid_gap": "0px 0px",
       "grid_template_areas": "\n                                                   \"top top top\"\n                                                   \"left middle right\"\n                                                   ",
       "grid_template_columns": "33% 33% 33%",
       "grid_template_rows": "auto auto"
      }
     },
     "1f4b4b81fca64ccab7e9c2da1510c6c8": {
      "model_module": "@jupyter-widgets/controls",
      "model_module_version": "1.5.0",
      "model_name": "DescriptionStyleModel",
      "state": {
       "description_width": ""
      }
     },
     "1fd263cfce1e4b23865d291f65a55b3c": {
      "model_module": "@jupyter-widgets/controls",
      "model_module_version": "1.5.0",
      "model_name": "HTMLModel",
      "state": {
       "layout": "IPY_MODEL_f9f5bf31703d45cdb4a791264f3261f2",
       "style": "IPY_MODEL_140ff4a326d34bcabf6cfe6372efa755",
       "value": "<div><font style='font-weight:bold'>last_update_date</font>: Fri 17 September 2021 at 17:30 UTC</div>"
      }
     },
     "2035f1584e6c4ffcbbf52841c5d59500": {
      "model_module": "@jupyter-widgets/controls",
      "model_module_version": "1.5.0",
      "model_name": "HTMLModel",
      "state": {
       "layout": "IPY_MODEL_293cacbb3a9b410cade419064591ceef",
       "style": "IPY_MODEL_0060839f8a494029a1dcf603a19bbc36",
       "value": "<h5 style='color:#dc267f'>False</h5>"
      }
     },
     "21406f3cb8334b8592e3a51ac01d926f": {
      "model_module": "@jupyter-widgets/base",
      "model_module_version": "1.2.0",
      "model_name": "LayoutModel",
      "state": {
       "margin": "0px 0px 0px 0px"
      }
     },
     "21e0ea7a32fa4d0ab0c1ead11cdde882": {
      "model_module": "@jupyter-widgets/controls",
      "model_module_version": "1.5.0",
      "model_name": "DescriptionStyleModel",
      "state": {
       "description_width": ""
      }
     },
     "221969a3ec464d94b45f8946cd2214f1": {
      "model_module": "@jupyter-widgets/controls",
      "model_module_version": "1.5.0",
      "model_name": "DescriptionStyleModel",
      "state": {
       "description_width": ""
      }
     },
     "2258c73f22bc4416ad54d459046bc4d2": {
      "model_module": "@jupyter-widgets/base",
      "model_module_version": "1.2.0",
      "model_name": "LayoutModel",
      "state": {}
     },
     "22b6f19e683c452c9c4ec6e7bd743936": {
      "model_module": "@jupyter-widgets/controls",
      "model_module_version": "1.5.0",
      "model_name": "DescriptionStyleModel",
      "state": {
       "description_width": ""
      }
     },
     "22c1504e19f7405195a3be7c4f450fb1": {
      "model_module": "@jupyter-widgets/controls",
      "model_module_version": "1.5.0",
      "model_name": "HTMLModel",
      "state": {
       "layout": "IPY_MODEL_73d7eb27c8fd4d9d8709689c3267fcad",
       "style": "IPY_MODEL_40d3f522319142d39cf6d7a97e01e06f",
       "value": "<h5 style='color:#34bc6e'>True</h5>"
      }
     },
     "22e1cfb72ef2490c8cab6129247eab15": {
      "model_module": "@jupyter-widgets/controls",
      "model_module_version": "1.5.0",
      "model_name": "GridBoxModel",
      "state": {
       "children": [
        "IPY_MODEL_f678d4f3aa524e908d0cb3d446f1c32d"
       ],
       "layout": "IPY_MODEL_83ad436a81944642b4015ebb029d0833"
      }
     },
     "2332fde037c44f14a0384443a06f1f8d": {
      "model_module": "@jupyter-widgets/base",
      "model_module_version": "1.2.0",
      "model_name": "LayoutModel",
      "state": {
       "grid_area": "top"
      }
     },
     "23947437fe504982a744b505b7002599": {
      "model_module": "@jupyter-widgets/base",
      "model_module_version": "1.2.0",
      "model_name": "LayoutModel",
      "state": {
       "margin": "10px 0px 0px 0px"
      }
     },
     "23c9cea4d3584d0b8ff39283be93f010": {
      "model_module": "@jupyter-widgets/controls",
      "model_module_version": "1.5.0",
      "model_name": "DescriptionStyleModel",
      "state": {
       "description_width": ""
      }
     },
     "241107a29dcb4967b3b013f4c7d7a63b": {
      "model_module": "@jupyter-widgets/controls",
      "model_module_version": "1.5.0",
      "model_name": "DescriptionStyleModel",
      "state": {
       "description_width": ""
      }
     },
     "24626fbcac69435abed627883f6d84c2": {
      "model_module": "@jupyter-widgets/controls",
      "model_module_version": "1.5.0",
      "model_name": "HTMLModel",
      "state": {
       "layout": "IPY_MODEL_21406f3cb8334b8592e3a51ac01d926f",
       "style": "IPY_MODEL_bc1e3b57eaa346aab775757163a35e14",
       "value": "<h1 style='color:#ffffff;background-color:#000000;padding-top: 1%;padding-bottom: 1%;padding-left: 1%; margin-top: 0px'>ibm_perth</h1>"
      }
     },
     "254b51d980c94671af05f8ab4e8b1b14": {
      "model_module": "@jupyter-widgets/controls",
      "model_module_version": "1.5.0",
      "model_name": "DescriptionStyleModel",
      "state": {
       "description_width": ""
      }
     },
     "25c7081a99594ee38ef9f36183782e56": {
      "model_module": "@jupyter-widgets/output",
      "model_module_version": "1.0.0",
      "model_name": "OutputModel",
      "state": {
       "layout": "IPY_MODEL_5305545f61ac4817b507cbf073c268dd",
       "outputs": [
        {
         "data": {
          "image/png": "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\n",
          "text/plain": "<Figure size 360x360 with 1 Axes>"
         },
         "metadata": {},
         "output_type": "display_data"
        }
       ]
      }
     },
     "25daffdff4bd4c488247eb789d4ae1a4": {
      "model_module": "@jupyter-widgets/base",
      "model_module_version": "1.2.0",
      "model_name": "LayoutModel",
      "state": {}
     },
     "26c239ee160a46c0954b014ff9694bb1": {
      "model_module": "@jupyter-widgets/controls",
      "model_module_version": "1.5.0",
      "model_name": "HTMLMathModel",
      "state": {
       "layout": "IPY_MODEL_bdf5df88608d4b11bbd6debf6c3feef1",
       "style": "IPY_MODEL_3b8d1e1820d747fc8f17143a97a64530",
       "value": "<table><style>\ntable {\n    border-collapse: collapse;\n    width: auto;\n}\n\nth, td {\n    text-align: left;\n    padding: 8px;\n}\n\ntr:nth-child(even) {background-color: #f6f6f6;}\n</style><tr><th></th><th></th></tr><tr><td>discriminators</td><td>['linear_discriminator', 'quadratic_discriminator']</td></tr><tr><td>conditional_latency</td><td>[]</td></tr><tr><td>url</td><td>None</td></tr><tr><td>meas_lo_range</td><td>[[6.582440095000002, 7.582440095000002], [6.420965043000002, 7.420965043000002], [6.544025536, 7.544025536], [6.487596291, 7.487596291000002], [6.515162829, 7.515162829], [6.38843403, 7.388434030000002], [6.479164254000001, 7.479164254000001], [6.3875422130000015, 7.3875422130000015], [6.590439509, 7.590439509], [6.446428035, 7.446428035], [6.5559762710000005, 7.5559762710000005], [6.4055736460000015, 7.4055736460000015], [6.515604958000002, 7.515604958000002], [6.476179029000002, 7.476179029000002], [6.49972362, 7.49972362], [6.377593348, 7.377593348], [6.471263482, 7.471263482], [6.382423119, 7.382423119], [6.580569418000001, 7.580569418000001], [6.424848203000002, 7.424848203000002]]</td></tr><tr><td>conditional</td><td>False</td></tr><tr><td>online_date</td><td>2019-09-13 04:00:00+00:00</td></tr><tr><td>allow_object_storage</td><td>True</td></tr><tr><td>simulator</td><td>False</td></tr><tr><td>dt</td><td>0.2222222222222222</td></tr><tr><td>dynamic_reprate_enabled</td><td>False</td></tr><tr><td>backend_name</td><td>fake_johannesburg</td></tr><tr><td>open_pulse</td><td>True</td></tr><tr><td>dtm</td><td>0.2222222222222222</td></tr><tr><td>meas_levels</td><td>[1, 2]</td></tr><tr><td>credits_required</td><td>True</td></tr><tr><td>sample_name</td><td>Hexbert</td></tr><tr><td>coupling_map</td><td>[[0, 1], [0, 5], [1, 0], [1, 2], [2, 1], [2, 3], [3, 2], [3, 4], [4, 3], [4, 9], [5, 0], [5, 6], [5, 10], [6, 5], [6, 7], [7, 6], [7, 8], [7, 12], [8, 7], [8, 9], [9, 4], [9, 8], [9, 14], [10, 5], [10, 11], [10, 15], [11, 10], [11, 12], [12, 7], [12, 11], [12, 13], [13, 12], [13, 14], [14, 9], [14, 13], [14, 19], [15, 10], [15, 16], [16, 15], [16, 17], [17, 16], [17, 18], [18, 17], [18, 19], [19, 14], [19, 18]]</td></tr><tr><td>n_registers</td><td>1</td></tr><tr><td>meas_map</td><td>[[0, 1, 2, 3, 4, 5, 6, 7, 8, 9, 10, 11, 12, 13, 14, 15, 16, 17, 18, 19]]</td></tr><tr><td>uchannels_enabled</td><td>True</td></tr><tr><td>u_channel_lo</td><td>[[{'q': 1, 'scale': (1+0j)}], [{'q': 5, 'scale': (1+0j)}], [{'q': 0, 'scale': (1+0j)}], [{'q': 2, 'scale': (1+0j)}], [{'q': 1, 'scale': (1+0j)}], [{'q': 3, 'scale': (1+0j)}], [{'q': 2, 'scale': (1+0j)}], [{'q': 4, 'scale': (1+0j)}], [{'q': 3, 'scale': (1+0j)}], [{'q': 9, 'scale': (1+0j)}], [{'q': 0, 'scale': (1+0j)}], [{'q': 6, 'scale': (1+0j)}], [{'q': 10, 'scale': (1+0j)}], [{'q': 5, 'scale': (1+0j)}], [{'q': 7, 'scale': (1+0j)}], [{'q': 6, 'scale': (1+0j)}], [{'q': 8, 'scale': (1+0j)}], [{'q': 12, 'scale': (1+0j)}], [{'q': 7, 'scale': (1+0j)}], [{'q': 9, 'scale': (1+0j)}], [{'q': 4, 'scale': (1+0j)}], [{'q': 8, 'scale': (1+0j)}], [{'q': 14, 'scale': (1+0j)}], [{'q': 5, 'scale': (1+0j)}], [{'q': 11, 'scale': (1+0j)}], [{'q': 15, 'scale': (1+0j)}], [{'q': 10, 'scale': (1+0j)}], [{'q': 12, 'scale': (1+0j)}], [{'q': 7, 'scale': (1+0j)}], [{'q': 11, 'scale': (1+0j)}], [{'q': 13, 'scale': (1+0j)}], [{'q': 12, 'scale': (1+0j)}], [{'q': 14, 'scale': (1+0j)}], [{'q': 9, 'scale': (1+0j)}], [{'q': 13, 'scale': (1+0j)}], [{'q': 19, 'scale': (1+0j)}], [{'q': 10, 'scale': (1+0j)}], [{'q': 16, 'scale': (1+0j)}], [{'q': 15, 'scale': (1+0j)}], [{'q': 17, 'scale': (1+0j)}], [{'q': 16, 'scale': (1+0j)}], [{'q': 18, 'scale': (1+0j)}], [{'q': 17, 'scale': (1+0j)}], [{'q': 19, 'scale': (1+0j)}], [{'q': 14, 'scale': (1+0j)}], [{'q': 18, 'scale': (1+0j)}]]</td></tr><tr><td>hamiltonian</td><td>$$\\begin{align} \\mathcal{H}/\\hbar = & \\sum_{i=0}^{19}\\left(\\frac{\\omega_{q,i}}{2}(\\mathbb{I}-\\sigma_i^{z})+\\frac{\\Delta_{i}}{2}(O_i^2-O_i)+\\Omega_{d,i}D_i(t)\\sigma_i^{X}\\right) \\\\ & + J_{10,11}(\\sigma_{10}^{+}\\sigma_{11}^{-}+\\sigma_{10}^{-}\\sigma_{11}^{+}) + J_{7,12}(\\sigma_{7}^{+}\\sigma_{12}^{-}+\\sigma_{7}^{-}\\sigma_{12}^{+}) + J_{5,6}(\\sigma_{5}^{+}\\sigma_{6}^{-}+\\sigma_{5}^{-}\\sigma_{6}^{+}) + J_{8,9}(\\sigma_{8}^{+}\\sigma_{9}^{-}+\\sigma_{8}^{-}\\sigma_{9}^{+}) \\\\ & + J_{10,15}(\\sigma_{10}^{+}\\sigma_{15}^{-}+\\sigma_{10}^{-}\\sigma_{15}^{+}) + J_{15,16}(\\sigma_{15}^{+}\\sigma_{16}^{-}+\\sigma_{15}^{-}\\sigma_{16}^{+}) + J_{18,19}(\\sigma_{18}^{+}\\sigma_{19}^{-}+\\sigma_{18}^{-}\\sigma_{19}^{+}) + J_{1,2}(\\sigma_{1}^{+}\\sigma_{2}^{-}+\\sigma_{1}^{-}\\sigma_{2}^{+}) \\\\ & + J_{16,17}(\\sigma_{16}^{+}\\sigma_{17}^{-}+\\sigma_{16}^{-}\\sigma_{17}^{+}) + J_{4,9}(\\sigma_{4}^{+}\\sigma_{9}^{-}+\\sigma_{4}^{-}\\sigma_{9}^{+}) + J_{6,7}(\\sigma_{6}^{+}\\sigma_{7}^{-}+\\sigma_{6}^{-}\\sigma_{7}^{+}) + J_{12,13}(\\sigma_{12}^{+}\\sigma_{13}^{-}+\\sigma_{12}^{-}\\sigma_{13}^{+}) \\\\ & + J_{3,4}(\\sigma_{3}^{+}\\sigma_{4}^{-}+\\sigma_{3}^{-}\\sigma_{4}^{+}) + J_{9,14}(\\sigma_{9}^{+}\\sigma_{14}^{-}+\\sigma_{9}^{-}\\sigma_{14}^{+}) + J_{14,19}(\\sigma_{14}^{+}\\sigma_{19}^{-}+\\sigma_{14}^{-}\\sigma_{19}^{+}) + J_{0,5}(\\sigma_{0}^{+}\\sigma_{5}^{-}+\\sigma_{0}^{-}\\sigma_{5}^{+}) \\\\ & + J_{2,3}(\\sigma_{2}^{+}\\sigma_{3}^{-}+\\sigma_{2}^{-}\\sigma_{3}^{+}) + J_{11,12}(\\sigma_{11}^{+}\\sigma_{12}^{-}+\\sigma_{11}^{-}\\sigma_{12}^{+}) + J_{17,18}(\\sigma_{17}^{+}\\sigma_{18}^{-}+\\sigma_{17}^{-}\\sigma_{18}^{+}) + J_{0,1}(\\sigma_{0}^{+}\\sigma_{1}^{-}+\\sigma_{0}^{-}\\sigma_{1}^{+}) \\\\ & + J_{5,10}(\\sigma_{5}^{+}\\sigma_{10}^{-}+\\sigma_{5}^{-}\\sigma_{10}^{+}) + J_{13,14}(\\sigma_{13}^{+}\\sigma_{14}^{-}+\\sigma_{13}^{-}\\sigma_{14}^{+}) + J_{7,8}(\\sigma_{7}^{+}\\sigma_{8}^{-}+\\sigma_{7}^{-}\\sigma_{8}^{+}) \\\\ & + \\Omega_{d,0}(U_{0}^{(0,1)}(t)+U_{1}^{(0,5)}(t))\\sigma_{0}^{X} + \\Omega_{d,1}(U_{2}^{(1,0)}(t)+U_{3}^{(1,2)}(t))\\sigma_{1}^{X} \\\\ & + \\Omega_{d,2}(U_{4}^{(2,1)}(t)+U_{5}^{(2,3)}(t))\\sigma_{2}^{X} + \\Omega_{d,3}(U_{7}^{(3,4)}(t)+U_{6}^{(3,2)}(t))\\sigma_{3}^{X} \\\\ & + \\Omega_{d,4}(U_{8}^{(4,3)}(t)+U_{9}^{(4,9)}(t))\\sigma_{4}^{X} + \\Omega_{d,5}(U_{10}^{(5,0)}(t)+U_{12}^{(5,10)}(t)+U_{11}^{(5,6)}(t))\\sigma_{5}^{X} \\\\ & + \\Omega_{d,6}(U_{14}^{(6,7)}(t)+U_{13}^{(6,5)}(t))\\sigma_{6}^{X} + \\Omega_{d,7}(U_{15}^{(7,6)}(t)+U_{16}^{(7,8)}(t)+U_{17}^{(7,12)}(t))\\sigma_{7}^{X} \\\\ & + \\Omega_{d,8}(U_{18}^{(8,7)}(t)+U_{19}^{(8,9)}(t))\\sigma_{8}^{X} + \\Omega_{d,9}(U_{20}^{(9,4)}(t)+U_{21}^{(9,8)}(t)+U_{22}^{(9,14)}(t))\\sigma_{9}^{X} \\\\ & + \\Omega_{d,10}(U_{24}^{(10,11)}(t)+U_{23}^{(10,5)}(t)+U_{25}^{(10,15)}(t))\\sigma_{10}^{X} + \\Omega_{d,11}(U_{27}^{(11,12)}(t)+U_{26}^{(11,10)}(t))\\sigma_{11}^{X} \\\\ & + \\Omega_{d,12}(U_{28}^{(12,7)}(t)+U_{30}^{(12,13)}(t)+U_{29}^{(12,11)}(t))\\sigma_{12}^{X} + \\Omega_{d,13}(U_{31}^{(13,12)}(t)+U_{32}^{(13,14)}(t))\\sigma_{13}^{X} \\\\ & + \\Omega_{d,14}(U_{35}^{(14,19)}(t)+U_{34}^{(14,13)}(t)+U_{33}^{(14,9)}(t))\\sigma_{14}^{X} + \\Omega_{d,15}(U_{36}^{(15,10)}(t)+U_{37}^{(15,16)}(t))\\sigma_{15}^{X} \\\\ & + \\Omega_{d,16}(U_{38}^{(16,15)}(t)+U_{39}^{(16,17)}(t))\\sigma_{16}^{X} + \\Omega_{d,17}(U_{41}^{(17,18)}(t)+U_{40}^{(17,16)}(t))\\sigma_{17}^{X} \\\\ & + \\Omega_{d,18}(U_{43}^{(18,19)}(t)+U_{42}^{(18,17)}(t))\\sigma_{18}^{X} + \\Omega_{d,19}(U_{45}^{(19,18)}(t)+U_{44}^{(19,14)}(t))\\sigma_{19}^{X} \\\\ \\end{align}$$</td></tr><tr><td>qubit_lo_range</td><td>[[4.164921219025063, 5.164921219025063], [4.26767163657472, 5.267671636574722], [4.118034101840273, 5.118034101840273], [4.522627765569717, 5.522627765569717], [4.155787513438005, 5.155787513438007], [4.245781392793495, 5.245781392793495], [4.331680271816184, 5.331680271816184], [4.205694167284576, 5.205694167284576], [4.398401743238063, 5.398401743238063], [4.240604573181179, 5.240604573181179], [4.341305536370642, 5.341305536370642], [4.257092566528682, 5.257092566528682], [4.1198621405375295, 5.11986214053753], [4.353945886402921, 5.353945886402921], [3.901271095555993, 4.901271095555994], [4.193544830088672, 5.193544830088672], [4.012673616968253, 5.012673616968254], [4.224206493424603, 5.224206493424605], [3.8350998481550134, 4.8350998481550125], [4.0862258365306365, 5.086225836530638]]</td></tr><tr><td>memory</td><td>True</td></tr><tr><td>meas_kernels</td><td>['boxcar']</td></tr><tr><td>local</td><td>False</td></tr><tr><td>parametric_pulses</td><td>[]</td></tr><tr><td>rep_times</td><td>[1000.0]</td></tr><tr><td>qubit_channel_mapping</td><td>[['u2', 'm0', 'u10', 'u1', 'u0', 'd0'], ['d1', 'u2', 'u4', 'm1', 'u0', 'u3'], ['u4', 'u5', 'd2', 'm2', 'u6', 'u3'], ['u5', 'u8', 'm3', 'u6', 'd3', 'u7'], ['u20', 'u8', 'u9', 'd4', 'm4', 'u7'], ['u10', 'u1', 'u12', 'u11', 'u23', 'u13', 'd5', 'm5'], ['d6', 'u11', 'u15', 'm6', 'u13', 'u14'], ['u28', 'd7', 'u15', 'u17', 'u16', 'u18', 'm7', 'u14'], ['u18', 'u16', 'd8', 'm8', 'u19', 'u21'], ['d9', 'u9', 'u22', 'u33', 'u19', 'u21', 'm9', 'u20'], ['u24', 'd10', 'u12', 'u25', 'u23', 'u26', 'u36', 'm10'], ['u24', 'u29', 'm11', 'u26', 'u27', 'd11'], ['d12', 'u28', 'u29', 'u31', 'u30', 'u17', 'u27', 'm12'], ['u31', 'm13', 'u32', 'd13', 'u30', 'u34'], ['u44', 'd14', 'u32', 'u35', 'u22', 'm14', 'u33', 'u34'], ['d15', 'u38', 'u25', 'm15', 'u37', 'u36'], ['u39', 'u38', 'u40', 'u37', 'm16', 'd16'], ['d17', 'u42', 'u39', 'u41', 'u40', 'm17'], ['u43', 'm18', 'u41', 'u45', 'd18', 'u42'], ['u44', 'u43', 'm19', 'u45', 'u35', 'd19']]</td></tr><tr><td>n_uchannels</td><td>46</td></tr><tr><td>description</td><td>20 qubit device Johannesburg</td></tr><tr><td>acquisition_latency</td><td>[]</td></tr><tr><td>allow_q_object</td><td>True</td></tr></table>"
      }
     },
     "2764a3b700aa42569a02160842d33e53": {
      "model_module": "@jupyter-widgets/controls",
      "model_module_version": "1.5.0",
      "model_name": "DescriptionStyleModel",
      "state": {
       "description_width": ""
      }
     },
     "27ac7520025b481bac121b2750e21fee": {
      "model_module": "@jupyter-widgets/controls",
      "model_module_version": "1.5.0",
      "model_name": "HBoxModel",
      "state": {
       "children": [
        "IPY_MODEL_a6578e9dc2ac4bc2b026b5ec653df575",
        "IPY_MODEL_a4db18b309d54135af7d2b754f7980dc",
        "IPY_MODEL_b483af4cef404806b854b7c1f0b77b5d",
        "IPY_MODEL_60af559649d54d818fd1ef9f6f73010c",
        "IPY_MODEL_0e33f43f82b4451880c62d9efebf1d65",
        "IPY_MODEL_6f070a9c7a1f4ee499d2de46950404f8"
       ],
       "layout": "IPY_MODEL_b7e5b9c8782349728edb3f1733d7d410"
      }
     },
     "27c8f9f283bb41af943708b0fc88d022": {
      "model_module": "@jupyter-widgets/controls",
      "model_module_version": "1.5.0",
      "model_name": "LabelModel",
      "state": {
       "layout": "IPY_MODEL_714508af18a744e6889b287a8e5554ce",
       "style": "IPY_MODEL_491e768aa85e4d79b2591c043fb7db4d",
       "value": "50"
      }
     },
     "281ba369927e4a5bb5fe7baed3e684da": {
      "model_module": "@jupyter-widgets/controls",
      "model_module_version": "1.5.0",
      "model_name": "VBoxModel",
      "state": {
       "children": [
        "IPY_MODEL_31b867a852ee401fb99076407c4c040f",
        "IPY_MODEL_073f43196d604ae1bf1f79e64043eff4",
        "IPY_MODEL_98c4df0098d644498522c82a9bdd7f82",
        "IPY_MODEL_ecb21b91ce9248a59997432069c295bd",
        "IPY_MODEL_8c164c8227e44d0c89df454f22ab7db4",
        "IPY_MODEL_42d10a9318a94af18e2dcc9eb04d9874",
        "IPY_MODEL_177683cb20724a29a82b86bcf76a2a28",
        "IPY_MODEL_134e2c05d93641728cf1e2196d133ef9"
       ],
       "layout": "IPY_MODEL_6dba786fcaf14588b8bd18d118f3933e"
      }
     },
     "293cacbb3a9b410cade419064591ceef": {
      "model_module": "@jupyter-widgets/base",
      "model_module_version": "1.2.0",
      "model_name": "LayoutModel",
      "state": {
       "justify_content": "center"
      }
     },
     "29ed7f1a589e46dcac0dec3208a1dc83": {
      "model_module": "@jupyter-widgets/controls",
      "model_module_version": "1.5.0",
      "model_name": "DescriptionStyleModel",
      "state": {
       "description_width": ""
      }
     },
     "2a008417da264732a489faefa0212b51": {
      "model_module": "@jupyter-widgets/base",
      "model_module_version": "1.2.0",
      "model_name": "LayoutModel",
      "state": {
       "min_width": "auto"
      }
     },
     "2a4c3fddcc6d48de9472ed46444faac4": {
      "model_module": "@jupyter-widgets/output",
      "model_module_version": "1.0.0",
      "model_name": "OutputModel",
      "state": {
       "layout": "IPY_MODEL_a3e05ada0501448d906d37eef40ed079",
       "outputs": [
        {
         "data": {
          "image/png": "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\n",
          "text/plain": "<Figure size 360x360 with 1 Axes>"
         },
         "metadata": {},
         "output_type": "display_data"
        }
       ]
      }
     },
     "2ac359ccb34e490cbffdc728dec9902d": {
      "model_module": "@jupyter-widgets/controls",
      "model_module_version": "1.5.0",
      "model_name": "IntProgressModel",
      "state": {
       "layout": "IPY_MODEL_db8e818ede1d479caf19cfda0b49ee4e",
       "max": 50,
       "style": "IPY_MODEL_ca216c175ced48f2b3d96c1d55deea29",
       "value": 3
      }
     },
     "2af3b3bd702c47bfa39f44b1e9eb9e8a": {
      "model_module": "@jupyter-widgets/controls",
      "model_module_version": "1.5.0",
      "model_name": "TabModel",
      "state": {
       "layout": "IPY_MODEL_ca03e7b171304453ae1542714a3bf315"
      }
     },
     "2b420608089549a89e7bfbde1e8bfda7": {
      "model_module": "@jupyter-widgets/controls",
      "model_module_version": "1.5.0",
      "model_name": "DescriptionStyleModel",
      "state": {
       "description_width": ""
      }
     },
     "2bae386fcb0742f998572b4b1382bc59": {
      "model_module": "@jupyter-widgets/controls",
      "model_module_version": "1.5.0",
      "model_name": "DescriptionStyleModel",
      "state": {
       "description_width": ""
      }
     },
     "2bf8a84dc69b4cc2b381e4cbfb3339e5": {
      "model_module": "@jupyter-widgets/controls",
      "model_module_version": "1.5.0",
      "model_name": "TabModel",
      "state": {
       "_titles": {
        "0": "Configuration",
        "1": "Qubit Properties",
        "2": "Multi-Qubit Gates",
        "3": "Error Map",
        "4": "Job History"
       },
       "children": [
        "IPY_MODEL_03a43c6669504a0a8644590e809cc252",
        "IPY_MODEL_3da89807449a467db9466dece55bf22d",
        "IPY_MODEL_1eb3aa18350a4802b41de46ff4dc80fb",
        "IPY_MODEL_4f47b0a4263a4859b712972103488be7",
        "IPY_MODEL_bda8cd294b004a3682f346f97a1f02e9"
       ],
       "layout": "IPY_MODEL_b795507639d841b5b40c1d189bee8f03"
      }
     },
     "2c0209b2904f42e7af6d1ed1d87ce589": {
      "model_module": "@jupyter-widgets/base",
      "model_module_version": "1.2.0",
      "model_name": "LayoutModel",
      "state": {
       "min_width": "auto"
      }
     },
     "2cc88d614ce94d8c9a5ee5149b5ca976": {
      "model_module": "@jupyter-widgets/base",
      "model_module_version": "1.2.0",
      "model_name": "LayoutModel",
      "state": {}
     },
     "2d0124515c474a52a2e8fefd05603db8": {
      "model_module": "@jupyter-widgets/controls",
      "model_module_version": "1.5.0",
      "model_name": "HTMLModel",
      "state": {
       "layout": "IPY_MODEL_f3e9b81b10fc47c7a42df5a43a457bee",
       "style": "IPY_MODEL_431eeca4136f43b5a50ca20f52a676f4",
       "value": "<h5><b>7</b></h5>"
      }
     },
     "2d40ae440de0481f935a0ddc3ee693a6": {
      "model_module": "@jupyter-widgets/controls",
      "model_module_version": "1.5.0",
      "model_name": "DescriptionStyleModel",
      "state": {
       "description_width": ""
      }
     },
     "2d7c3f7376d04f4188270a97062d4ade": {
      "model_module": "@jupyter-widgets/controls",
      "model_module_version": "1.5.0",
      "model_name": "DescriptionStyleModel",
      "state": {
       "description_width": ""
      }
     },
     "2e118d2dfe6944e18e182358ef2c67fe": {
      "model_module": "@jupyter-widgets/controls",
      "model_module_version": "1.5.0",
      "model_name": "ProgressStyleModel",
      "state": {
       "bar_color": "#71cddd",
       "description_width": ""
      }
     },
     "2ebdc30761634d8686308a6cc5be7474": {
      "model_module": "@jupyter-widgets/base",
      "model_module_version": "1.2.0",
      "model_name": "LayoutModel",
      "state": {}
     },
     "2ec84375be9349e9b7955b1ae4737a36": {
      "model_module": "@jupyter-widgets/base",
      "model_module_version": "1.2.0",
      "model_name": "LayoutModel",
      "state": {
       "width": "95px"
      }
     },
     "2f8ed468630b4314af6e632ec2f47c27": {
      "model_module": "@jupyter-widgets/controls",
      "model_module_version": "1.5.0",
      "model_name": "DescriptionStyleModel",
      "state": {
       "description_width": ""
      }
     },
     "2fd6e4588a474e598af06a831898df80": {
      "model_module": "@jupyter-widgets/controls",
      "model_module_version": "1.5.0",
      "model_name": "LabelModel",
      "state": {
       "layout": "IPY_MODEL_49ed406ab3e942c79ca666903c1b3c9e",
       "style": "IPY_MODEL_084db02c41f64d0ba9d510297475ed73",
       "value": "29"
      }
     },
     "2fe68cc523ba4f65a8b13530527c3812": {
      "model_module": "@jupyter-widgets/controls",
      "model_module_version": "1.5.0",
      "model_name": "ButtonStyleModel",
      "state": {
       "button_color": "white"
      }
     },
     "300d157abd8f493f87f299fa27c26938": {
      "model_module": "@jupyter-widgets/base",
      "model_module_version": "1.2.0",
      "model_name": "LayoutModel",
      "state": {
       "justify_content": "center"
      }
     },
     "301e2764ba584517b8e501eb4a44834e": {
      "model_module": "@jupyter-widgets/controls",
      "model_module_version": "1.5.0",
      "model_name": "HTMLModel",
      "state": {
       "layout": "IPY_MODEL_cf80e68281644e868ab85a8ff0791bb1",
       "style": "IPY_MODEL_c87fe95531a54d2ba43467f6ec3fd341",
       "value": "<table><style>\ntable {\n    border-collapse: collapse;\n    width: auto;\n}\n\nth, td {\n    text-align: left;\n    padding: 8px;\n}\n\ntr:nth-child(even) {background-color: #f6f6f6;};\n</style><tr><th></th><th>Type</th><th>Gate error</th></tr><tr><td><font style='font-weight:bold'>cx0_1</font></td><td>cx</td><td>0.01345</td></tr><tr><td><font style='font-weight:bold'>cx0_5</font></td><td>cx</td><td>0.01872</td></tr><tr><td><font style='font-weight:bold'>cx1_0</font></td><td>cx</td><td>0.01345</td></tr><tr><td><font style='font-weight:bold'>cx1_2</font></td><td>cx</td><td>0.02611</td></tr><tr><td><font style='font-weight:bold'>cx2_1</font></td><td>cx</td><td>0.02611</td></tr><tr><td><font style='font-weight:bold'>cx2_3</font></td><td>cx</td><td>0.03695</td></tr><tr><td><font style='font-weight:bold'>cx3_2</font></td><td>cx</td><td>0.03695</td></tr><tr><td><font style='font-weight:bold'>cx3_4</font></td><td>cx</td><td>0.02886</td></tr><tr><td><font style='font-weight:bold'>cx4_3</font></td><td>cx</td><td>0.02886</td></tr><tr><td><font style='font-weight:bold'>cx4_9</font></td><td>cx</td><td>0.02049</td></tr><tr><td><font style='font-weight:bold'>cx5_0</font></td><td>cx</td><td>0.01872</td></tr><tr><td><font style='font-weight:bold'>cx5_6</font></td><td>cx</td><td>0.02532</td></tr><tr><td><font style='font-weight:bold'>cx5_10</font></td><td>cx</td><td>0.03206</td></tr><tr><td><font style='font-weight:bold'>cx6_5</font></td><td>cx</td><td>0.02532</td></tr><tr><td><font style='font-weight:bold'>cx6_7</font></td><td>cx</td><td>0.04163</td></tr><tr><td><font style='font-weight:bold'>cx7_6</font></td><td>cx</td><td>0.04163</td></tr></table>"
      }
     },
     "3036addac009459b9ae8fab0b61ef262": {
      "model_module": "@jupyter-widgets/controls",
      "model_module_version": "1.5.0",
      "model_name": "VBoxModel",
      "state": {
       "children": [
        "IPY_MODEL_fd56b4608e0945b6b3e5a138f7126e19",
        "IPY_MODEL_2bf8a84dc69b4cc2b381e4cbfb3339e5"
       ],
       "layout": "IPY_MODEL_e23473530e57484b8747ee5ad1d9232f"
      }
     },
     "3108cf0c9e8b4d3ca6f15c6b2f34d76f": {
      "model_module": "@jupyter-widgets/base",
      "model_module_version": "1.2.0",
      "model_name": "LayoutModel",
      "state": {
       "align_items": "center",
       "display": "flex-inline",
       "grid_area": "right",
       "max_height": "325px",
       "padding": "10px 10px 10px 10px",
       "width": "auto"
      }
     },
     "31b867a852ee401fb99076407c4c040f": {
      "model_module": "@jupyter-widgets/controls",
      "model_module_version": "1.5.0",
      "model_name": "LabelModel",
      "state": {
       "layout": "IPY_MODEL_5278af11d7dd41158ceccdd30b5bdd32",
       "style": "IPY_MODEL_4430a986894d4ef4820a46dceb6448ce",
       "value": "Num. Qubits"
      }
     },
     "31f50a950ad644889062c0b4490db33e": {
      "model_module": "@jupyter-widgets/controls",
      "model_module_version": "1.5.0",
      "model_name": "DescriptionStyleModel",
      "state": {
       "description_width": ""
      }
     },
     "32389a41f9df4092befc1445c6e48e0c": {
      "model_module": "@jupyter-widgets/controls",
      "model_module_version": "1.5.0",
      "model_name": "DescriptionStyleModel",
      "state": {
       "description_width": ""
      }
     },
     "326100a0564a44439cdd7b5b053fc96b": {
      "model_module": "@jupyter-widgets/base",
      "model_module_version": "1.2.0",
      "model_name": "LayoutModel",
      "state": {}
     },
     "329ccc2eb77d454da6914ae462384ffe": {
      "model_module": "@jupyter-widgets/controls",
      "model_module_version": "1.5.0",
      "model_name": "DescriptionStyleModel",
      "state": {
       "description_width": ""
      }
     },
     "33f30019bde04bd5a1cf193ecc05de69": {
      "model_module": "@jupyter-widgets/base",
      "model_module_version": "1.2.0",
      "model_name": "LayoutModel",
      "state": {
       "margin": "8px 0px 0px 0px"
      }
     },
     "349c937e92024ce7aab462b9c0be4183": {
      "model_module": "@jupyter-widgets/controls",
      "model_module_version": "1.5.0",
      "model_name": "HTMLModel",
      "state": {
       "layout": "IPY_MODEL_8deab680c7a548cd832465f7929d3d6d",
       "style": "IPY_MODEL_f8f099269f7c4fc49cce9f9f467bdfba",
       "value": "<h4>ibmq_belem</h4>"
      }
     },
     "34ad3ca148dc466996d44c4590cc573c": {
      "model_module": "@jupyter-widgets/base",
      "model_module_version": "1.2.0",
      "model_name": "LayoutModel",
      "state": {
       "width": "95px"
      }
     },
     "34c2795992c14a3c8c02b72d9fc5d3c8": {
      "model_module": "@jupyter-widgets/controls",
      "model_module_version": "1.5.0",
      "model_name": "DescriptionStyleModel",
      "state": {
       "description_width": ""
      }
     },
     "36527197f9cf4341b3def1d0a4f7c27f": {
      "model_module": "@jupyter-widgets/controls",
      "model_module_version": "1.5.0",
      "model_name": "DescriptionStyleModel",
      "state": {
       "description_width": ""
      }
     },
     "365c293906fb485cb227967a01ce9ef4": {
      "model_module": "@jupyter-widgets/base",
      "model_module_version": "1.2.0",
      "model_name": "LayoutModel",
      "state": {
       "margin": "0px 0px 10px 0px"
      }
     },
     "366ad853ccc0494fb26f1fe8f16017f9": {
      "model_module": "@jupyter-widgets/controls",
      "model_module_version": "1.5.0",
      "model_name": "VBoxModel",
      "state": {
       "children": [
        "IPY_MODEL_9c1071d27df4473c8a0ef16d6cc93359",
        "IPY_MODEL_f8f3290e731845ae962d9e1aacdbe14f",
        "IPY_MODEL_a2208a99b14d42b7a118d4ce2dcd4a0b",
        "IPY_MODEL_39a600a2746941a481816a58aede3a57",
        "IPY_MODEL_51f3d78367134ef1997f04c1d96e8c2a",
        "IPY_MODEL_6b14762e06eb45ef89809f074fcfad7f",
        "IPY_MODEL_1e81340480ec46c0abe40735d252f44c",
        "IPY_MODEL_6675b75680434e719ac195a245cf5cb8",
        "IPY_MODEL_77b211dbe7e9473cbbbf3c12794f2ce8",
        "IPY_MODEL_ae2878cc686f4135b6c7a367268f7223"
       ],
       "layout": "IPY_MODEL_0e281edb83fa44ccb0e98fef2aa9ce11"
      }
     },
     "3815437f738f4cc9aae91ee3610f16f4": {
      "model_module": "@jupyter-widgets/controls",
      "model_module_version": "1.5.0",
      "model_name": "HTMLModel",
      "state": {
       "layout": "IPY_MODEL_b3d64c2360694a02852503e3e4901cf7",
       "style": "IPY_MODEL_a64166a8648f4878b1f0307409fd4fb5",
       "value": "<h5>0.0181</h5>"
      }
     },
     "39008016e71c41848133b66383fe3295": {
      "model_module": "@jupyter-widgets/controls",
      "model_module_version": "1.5.0",
      "model_name": "HBoxModel",
      "state": {
       "children": [
        "IPY_MODEL_0ffee81239ed4fe29cc06630e4e19895",
        "IPY_MODEL_af9674ac233a4027bd7ef5c77d576b03",
        "IPY_MODEL_9d0a4fee591d4d85969776c0db303ae8"
       ],
       "layout": "IPY_MODEL_4c4e87994c934460839986444e2df13f"
      }
     },
     "395b69ef0fe940dbaf3917e9f21decbc": {
      "model_module": "@jupyter-widgets/controls",
      "model_module_version": "1.5.0",
      "model_name": "HTMLModel",
      "state": {
       "layout": "IPY_MODEL_61c782350ed4496daee55cb0b9f5f189",
       "style": "IPY_MODEL_2d7c3f7376d04f4188270a97062d4ade",
       "value": "<h5>0.0118</h5>"
      }
     },
     "39a600a2746941a481816a58aede3a57": {
      "model_module": "@jupyter-widgets/controls",
      "model_module_version": "1.5.0",
      "model_name": "HTMLModel",
      "state": {
       "layout": "IPY_MODEL_85d3c37b19044f07b94292886596debe",
       "style": "IPY_MODEL_437ad6fed8b444a284cdcfad534f66cd",
       "value": "<h5>32</h5>"
      }
     },
     "39dedc9184694bc0811e0fda466dba74": {
      "model_module": "@jupyter-widgets/controls",
      "model_module_version": "1.5.0",
      "model_name": "DescriptionStyleModel",
      "state": {
       "description_width": ""
      }
     },
     "3b6e6d1884cf4cbdb666763867323b36": {
      "model_module": "@jupyter-widgets/controls",
      "model_module_version": "1.5.0",
      "model_name": "LabelModel",
      "state": {
       "layout": "IPY_MODEL_e3db7929fc384f769378c1ddc24c6f83",
       "style": "IPY_MODEL_2bae386fcb0742f998572b4b1382bc59",
       "value": "50"
      }
     },
     "3b78b9ab4e614757b2d3f4def4959c65": {
      "model_module": "@jupyter-widgets/base",
      "model_module_version": "1.2.0",
      "model_name": "LayoutModel",
      "state": {}
     },
     "3b8d1e1820d747fc8f17143a97a64530": {
      "model_module": "@jupyter-widgets/controls",
      "model_module_version": "1.5.0",
      "model_name": "DescriptionStyleModel",
      "state": {
       "description_width": ""
      }
     },
     "3bb4e430af80424eaa4fd2e75c18681f": {
      "model_module": "@jupyter-widgets/controls",
      "model_module_version": "1.5.0",
      "model_name": "HTMLModel",
      "state": {
       "layout": "IPY_MODEL_651a6f67f52d49a1974707da878c42f0",
       "style": "IPY_MODEL_8940f7ef55464f7197ca876fc74a5818",
       "value": "<h5>100.1 / 139.6 us</h5>"
      }
     },
     "3c373e14a83b417880c284c5557f5d6d": {
      "model_module": "@jupyter-widgets/base",
      "model_module_version": "1.2.0",
      "model_name": "LayoutModel",
      "state": {
       "align_items": "center",
       "justify_content": "center",
       "margin": "0px 0px 0px 0px",
       "max_height": "250px",
       "max_width": "250px",
       "min_height": "250px",
       "min_width": "250px"
      }
     },
     "3d3a1a835382469b90021638fd095f32": {
      "model_module": "@jupyter-widgets/controls",
      "model_module_version": "1.5.0",
      "model_name": "HTMLModel",
      "state": {
       "layout": "IPY_MODEL_53d40592c0b247c19aec309ca2456587",
       "style": "IPY_MODEL_165a90cc87b34d628c3fda16a7ca7af3",
       "value": "<h5>0.0269</h5>"
      }
     },
     "3d4463cbb73048f7ad915e984e31ae01": {
      "model_module": "@jupyter-widgets/controls",
      "model_module_version": "1.5.0",
      "model_name": "DescriptionStyleModel",
      "state": {
       "description_width": ""
      }
     },
     "3da89807449a467db9466dece55bf22d": {
      "model_module": "@jupyter-widgets/controls",
      "model_module_version": "1.5.0",
      "model_name": "VBoxModel",
      "state": {
       "children": [
        "IPY_MODEL_51cd5424cd3840869ae03981aeae295b",
        "IPY_MODEL_d427d6f0f1014618be7c67a9f07d3324"
       ],
       "layout": "IPY_MODEL_684d490e8afb4146bae94d31f1ea62d0"
      }
     },
     "3e3794d55aa145cfbbf7aeef0263a23a": {
      "model_module": "@jupyter-widgets/controls",
      "model_module_version": "1.5.0",
      "model_name": "DescriptionStyleModel",
      "state": {
       "description_width": ""
      }
     },
     "3e8bfdd756fd4444a418c2c79c2f4bf8": {
      "model_module": "@jupyter-widgets/controls",
      "model_module_version": "1.5.0",
      "model_name": "DescriptionStyleModel",
      "state": {
       "description_width": ""
      }
     },
     "3faade1b60db4bc7aab205efead62b8a": {
      "model_module": "@jupyter-widgets/base",
      "model_module_version": "1.2.0",
      "model_name": "LayoutModel",
      "state": {
       "justify_content": "center"
      }
     },
     "3fc247862e56440ab70e6c3ce9a379e1": {
      "model_module": "@jupyter-widgets/controls",
      "model_module_version": "1.5.0",
      "model_name": "DescriptionStyleModel",
      "state": {
       "description_width": ""
      }
     },
     "3ff30f20f9d14d57999fd5c9c7262a99": {
      "model_module": "@jupyter-widgets/base",
      "model_module_version": "1.2.0",
      "model_name": "LayoutModel",
      "state": {
       "grid_gap": "0px 25px",
       "grid_template_columns": "250px 250px 250px 250px 250px 250px 250px 250px 250px ",
       "grid_template_rows": "auto"
      }
     },
     "40d3f522319142d39cf6d7a97e01e06f": {
      "model_module": "@jupyter-widgets/controls",
      "model_module_version": "1.5.0",
      "model_name": "DescriptionStyleModel",
      "state": {
       "description_width": ""
      }
     },
     "4136f519503148a0b2294df0f91f49e2": {
      "model_module": "@jupyter-widgets/controls",
      "model_module_version": "1.5.0",
      "model_name": "HTMLModel",
      "state": {
       "layout": "IPY_MODEL_c7ad4205bbff445e8aa3bacf6cb11e46",
       "style": "IPY_MODEL_82c6057e7721427fa6a99bbd26895a3a",
       "value": "<h5 style='color:#dc267f'>False</h5>"
      }
     },
     "413c4151971944f58f84225dfce8035e": {
      "model_module": "@jupyter-widgets/controls",
      "model_module_version": "1.5.0",
      "model_name": "DescriptionStyleModel",
      "state": {
       "description_width": ""
      }
     },
     "41f480989c0c4ec781109ce9ba516ede": {
      "model_module": "@jupyter-widgets/controls",
      "model_module_version": "1.5.0",
      "model_name": "DescriptionStyleModel",
      "state": {
       "description_width": ""
      }
     },
     "426e12cd6a0142f593c9681b9894c55f": {
      "model_module": "@jupyter-widgets/base",
      "model_module_version": "1.2.0",
      "model_name": "LayoutModel",
      "state": {}
     },
     "42d10a9318a94af18e2dcc9eb04d9874": {
      "model_module": "@jupyter-widgets/controls",
      "model_module_version": "1.5.0",
      "model_name": "LabelModel",
      "state": {
       "layout": "IPY_MODEL_23947437fe504982a744b505b7002599",
       "style": "IPY_MODEL_e5ac4d0cea3c489eb02bba6ccaa74d15",
       "value": "Avg. T1 / T2"
      }
     },
     "42e33de6bb194075bbe7ee3bcc8798aa": {
      "model_module": "@jupyter-widgets/base",
      "model_module_version": "1.2.0",
      "model_name": "LayoutModel",
      "state": {
       "grid_area": "right",
       "padding": "0px 0px 0px 0px",
       "width": "70px"
      }
     },
     "42fc544a295347028a890bc3009c6271": {
      "model_module": "@jupyter-widgets/controls",
      "model_module_version": "1.5.0",
      "model_name": "VBoxModel",
      "state": {
       "children": [
        "IPY_MODEL_1fd263cfce1e4b23865d291f65a55b3c",
        "IPY_MODEL_6922f319675f426db2d24b6bdf74cb17"
       ],
       "layout": "IPY_MODEL_61db942fd5f943c8992d30c31c990ced"
      }
     },
     "431eeca4136f43b5a50ca20f52a676f4": {
      "model_module": "@jupyter-widgets/controls",
      "model_module_version": "1.5.0",
      "model_name": "DescriptionStyleModel",
      "state": {
       "description_width": ""
      }
     },
     "437ad6fed8b444a284cdcfad534f66cd": {
      "model_module": "@jupyter-widgets/controls",
      "model_module_version": "1.5.0",
      "model_name": "DescriptionStyleModel",
      "state": {
       "description_width": ""
      }
     },
     "4430a986894d4ef4820a46dceb6448ce": {
      "model_module": "@jupyter-widgets/controls",
      "model_module_version": "1.5.0",
      "model_name": "DescriptionStyleModel",
      "state": {
       "description_width": ""
      }
     },
     "446b620624234123ad2e8ccdc2caf795": {
      "model_module": "@jupyter-widgets/base",
      "model_module_version": "1.2.0",
      "model_name": "LayoutModel",
      "state": {
       "width": "70px"
      }
     },
     "4486b01ea96a4494a9b8be0f5fd49727": {
      "model_module": "@jupyter-widgets/base",
      "model_module_version": "1.2.0",
      "model_name": "LayoutModel",
      "state": {}
     },
     "44da286649864e7ca13d0c2e2e8cde89": {
      "model_module": "@jupyter-widgets/base",
      "model_module_version": "1.2.0",
      "model_name": "LayoutModel",
      "state": {
       "width": "95px"
      }
     },
     "45effb5613cb4ed49115428c6a201185": {
      "model_module": "@jupyter-widgets/controls",
      "model_module_version": "1.5.0",
      "model_name": "DescriptionStyleModel",
      "state": {
       "description_width": ""
      }
     },
     "463e1497b9914d049fbf5b561e2af9d4": {
      "model_module": "@jupyter-widgets/controls",
      "model_module_version": "1.5.0",
      "model_name": "GridBoxModel",
      "state": {
       "children": [
        "IPY_MODEL_83144b02519642f2b5bb2f0a94f41109",
        "IPY_MODEL_2a4c3fddcc6d48de9472ed46444faac4",
        "IPY_MODEL_ab89e3f9e0d04828a4aa984b9af287f0"
       ],
       "layout": "IPY_MODEL_67a7d59fe47d4ef29db98fe2cf457a00"
      }
     },
     "4652709888384cd592e7f6de6a9d1b88": {
      "model_module": "@jupyter-widgets/base",
      "model_module_version": "1.2.0",
      "model_name": "LayoutModel",
      "state": {
       "justify_content": "center"
      }
     },
     "491e768aa85e4d79b2591c043fb7db4d": {
      "model_module": "@jupyter-widgets/controls",
      "model_module_version": "1.5.0",
      "model_name": "DescriptionStyleModel",
      "state": {
       "description_width": ""
      }
     },
     "4983c397e4624c92bb66ac13b9ae40d1": {
      "model_module": "@jupyter-widgets/controls",
      "model_module_version": "1.5.0",
      "model_name": "HTMLModel",
      "state": {
       "layout": "IPY_MODEL_c7cd07b470cd49eeb1d8aa31b15ee7fe",
       "style": "IPY_MODEL_ec98c3d16db4438d8a052b1de7e57397",
       "value": "<h5>Message</h5>"
      }
     },
     "49ed406ab3e942c79ca666903c1b3c9e": {
      "model_module": "@jupyter-widgets/base",
      "model_module_version": "1.2.0",
      "model_name": "LayoutModel",
      "state": {
       "min_width": "auto"
      }
     },
     "4a24f6e07cb0478d92fac2102d1bfd4e": {
      "model_module": "@jupyter-widgets/controls",
      "model_module_version": "1.5.0",
      "model_name": "DescriptionStyleModel",
      "state": {
       "description_width": ""
      }
     },
     "4a479fd1cd31498fb6a749ea370a0118": {
      "model_module": "@jupyter-widgets/controls",
      "model_module_version": "1.5.0",
      "model_name": "DescriptionStyleModel",
      "state": {
       "description_width": ""
      }
     },
     "4b8c595fed3548f9a02fa57adcf1b81a": {
      "model_module": "@jupyter-widgets/controls",
      "model_module_version": "1.5.0",
      "model_name": "GridBoxModel",
      "state": {
       "children": [
        "IPY_MODEL_a762573a2d174577b5cd93b443975918",
        "IPY_MODEL_87d35bb1f2034fc49f1ba293f0de7525",
        "IPY_MODEL_366ad853ccc0494fb26f1fe8f16017f9",
        "IPY_MODEL_c151db491448473394fdf426ecc455f4",
        "IPY_MODEL_aec57b0f0f6047458854c1aa091306df",
        "IPY_MODEL_6082d00bfdb44ff6a641ed037c96d677",
        "IPY_MODEL_03ec0016cd1f4d20b729971dd470e5ce",
        "IPY_MODEL_81c0fd96ae1349bb902ea9801041b28b",
        "IPY_MODEL_a7122f3e9b2f488a9b1d02818043a43a"
       ],
       "layout": "IPY_MODEL_3ff30f20f9d14d57999fd5c9c7262a99"
      }
     },
     "4ba3283575c544418d23f92c69bd8a05": {
      "model_module": "@jupyter-widgets/controls",
      "model_module_version": "1.5.0",
      "model_name": "HBoxModel",
      "state": {
       "children": [
        "IPY_MODEL_281ba369927e4a5bb5fe7baed3e684da",
        "IPY_MODEL_4b8c595fed3548f9a02fa57adcf1b81a"
       ],
       "layout": "IPY_MODEL_94215f177b274dcfb3a518d2fb474360"
      }
     },
     "4bc5ad118fd54871bcff8fe2f309ba7c": {
      "model_module": "@jupyter-widgets/base",
      "model_module_version": "1.2.0",
      "model_name": "LayoutModel",
      "state": {
       "justify_content": "center"
      }
     },
     "4bc6b4a9b8b14f2396bdeb23e63d5e57": {
      "model_module": "@jupyter-widgets/base",
      "model_module_version": "1.2.0",
      "model_name": "LayoutModel",
      "state": {
       "align_items": "center",
       "justify_content": "center",
       "margin": "0px 0px 0px 0px",
       "max_height": "250px",
       "max_width": "250px",
       "min_height": "250px",
       "min_width": "250px"
      }
     },
     "4c4e87994c934460839986444e2df13f": {
      "model_module": "@jupyter-widgets/base",
      "model_module_version": "1.2.0",
      "model_name": "LayoutModel",
      "state": {
       "justify_content": "center",
       "max_width": "250px",
       "min_width": "250px"
      }
     },
     "4caed16f677448d3b0d6e3f0ca28fa13": {
      "model_module": "@jupyter-widgets/controls",
      "model_module_version": "1.5.0",
      "model_name": "HTMLModel",
      "state": {
       "layout": "IPY_MODEL_d549db132ab04d18bda970b68e66b68e",
       "style": "IPY_MODEL_413c4151971944f58f84225dfce8035e",
       "value": "<h4>ibmq_lima</h4>"
      }
     },
     "4cd7fe22d4914105bd68b72016204a27": {
      "model_module": "@jupyter-widgets/base",
      "model_module_version": "1.2.0",
      "model_name": "LayoutModel",
      "state": {
       "max_width": "180px"
      }
     },
     "4d82ff349e984e7fb48575ae80e7f69c": {
      "model_module": "@jupyter-widgets/base",
      "model_module_version": "1.2.0",
      "model_name": "LayoutModel",
      "state": {
       "margin": "0px 0px 0px 0px"
      }
     },
     "4d89977af7f0406eb5936b49b71f8458": {
      "model_module": "@jupyter-widgets/controls",
      "model_module_version": "1.5.0",
      "model_name": "HTMLModel",
      "state": {
       "layout": "IPY_MODEL_51813325657d4d4b8516200955645605",
       "style": "IPY_MODEL_2764a3b700aa42569a02160842d33e53",
       "value": "<h5>32</h5>"
      }
     },
     "4da6d3a4d3124dddb5c55c5788c2f3a9": {
      "model_module": "@jupyter-widgets/controls",
      "model_module_version": "1.5.0",
      "model_name": "DescriptionStyleModel",
      "state": {
       "description_width": ""
      }
     },
     "4e11f00b10444ba89d8eec8dedc424df": {
      "model_module": "@jupyter-widgets/controls",
      "model_module_version": "1.5.0",
      "model_name": "DescriptionStyleModel",
      "state": {
       "description_width": ""
      }
     },
     "4eff67d377b64a9e8483c30a56c49722": {
      "model_module": "@jupyter-widgets/controls",
      "model_module_version": "1.5.0",
      "model_name": "HTMLModel",
      "state": {
       "layout": "IPY_MODEL_fbe2b8b61a7042518878bbd67cc1e58d",
       "style": "IPY_MODEL_14d86861707741d5830f374f32dd282b",
       "value": "<h5><b>5</b></h5>"
      }
     },
     "4f0e36dd64584fab8f05b00eca7c28ec": {
      "model_module": "@jupyter-widgets/base",
      "model_module_version": "1.2.0",
      "model_name": "LayoutModel",
      "state": {
       "align_items": "center",
       "display": "inline-flex",
       "flex_flow": "column"
      }
     },
     "4f47b0a4263a4859b712972103488be7": {
      "model_module": "@jupyter-widgets/output",
      "model_module_version": "1.0.0",
      "model_name": "OutputModel",
      "state": {
       "layout": "IPY_MODEL_58f927dcb7ef45a08f12a1a1025cf77d",
       "outputs": [
        {
         "data": {
          "image/png": "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\n",
          "text/plain": "<Figure size 792x648 with 5 Axes>"
         },
         "metadata": {},
         "output_type": "display_data"
        }
       ]
      }
     },
     "4f6c0e5129e64fceb670fd7005d2df12": {
      "model_module": "@jupyter-widgets/controls",
      "model_module_version": "1.5.0",
      "model_name": "HTMLModel",
      "state": {
       "layout": "IPY_MODEL_1e4d71cc936440179fd759d40b390bca",
       "style": "IPY_MODEL_8f0b4784ea234e79bd9460c56afd92ae",
       "value": "<h5>0.0167</h5>"
      }
     },
     "4fbe74e8ac2e43f89361646082f3db59": {
      "model_module": "@jupyter-widgets/controls",
      "model_module_version": "1.5.0",
      "model_name": "HTMLModel",
      "state": {
       "layout": "IPY_MODEL_80130c45e2704c209031d0fd0133308f",
       "style": "IPY_MODEL_22b6f19e683c452c9c4ec6e7bd743936",
       "value": "<h5 style='color:#dc267f'>False</h5>"
      }
     },
     "4fe3ab092ea4425d9662fc252015255a": {
      "model_module": "@jupyter-widgets/base",
      "model_module_version": "1.2.0",
      "model_name": "LayoutModel",
      "state": {
       "max_width": "180px"
      }
     },
     "510efe40691945528e457b30fbace17b": {
      "model_module": "@jupyter-widgets/controls",
      "model_module_version": "1.5.0",
      "model_name": "HTMLModel",
      "state": {
       "layout": "IPY_MODEL_446b620624234123ad2e8ccdc2caf795",
       "style": "IPY_MODEL_b12944f905ab4cfcb8a2e9f05720c23e",
       "value": "<h5>Queue</h5>"
      }
     },
     "51813325657d4d4b8516200955645605": {
      "model_module": "@jupyter-widgets/base",
      "model_module_version": "1.2.0",
      "model_name": "LayoutModel",
      "state": {
       "justify_content": "center"
      }
     },
     "518a728bf7084d57ab3578c11e01de59": {
      "model_module": "@jupyter-widgets/controls",
      "model_module_version": "1.5.0",
      "model_name": "DescriptionStyleModel",
      "state": {
       "description_width": ""
      }
     },
     "51ae3b15710b4f34890440b6196208cd": {
      "model_module": "@jupyter-widgets/base",
      "model_module_version": "1.2.0",
      "model_name": "LayoutModel",
      "state": {
       "max_width": "180px"
      }
     },
     "51cd5424cd3840869ae03981aeae295b": {
      "model_module": "@jupyter-widgets/controls",
      "model_module_version": "1.5.0",
      "model_name": "HTMLModel",
      "state": {
       "layout": "IPY_MODEL_4486b01ea96a4494a9b8be0f5fd49727",
       "style": "IPY_MODEL_dc39155b0e5f4a4f8b073912f61607ee",
       "value": "<div><font style='font-weight:bold'>last_update_date</font>: Sun 09 August 2020 at 14:09 </div>"
      }
     },
     "51f3d78367134ef1997f04c1d96e8c2a": {
      "model_module": "@jupyter-widgets/controls",
      "model_module_version": "1.5.0",
      "model_name": "HBoxModel",
      "state": {
       "children": [
        "IPY_MODEL_2fd6e4588a474e598af06a831898df80",
        "IPY_MODEL_a200cca5f917438081c8afcc50fd5607",
        "IPY_MODEL_becf6589a9b048a6a0b5ab9931a38271"
       ],
       "layout": "IPY_MODEL_d2736545c5ca40e19d4d7f6893e826f8"
      }
     },
     "527735e5bc6242b1a237cc3e514fbe09": {
      "model_module": "@jupyter-widgets/base",
      "model_module_version": "1.2.0",
      "model_name": "LayoutModel",
      "state": {
       "min_width": "auto"
      }
     },
     "5278af11d7dd41158ceccdd30b5bdd32": {
      "model_module": "@jupyter-widgets/base",
      "model_module_version": "1.2.0",
      "model_name": "LayoutModel",
      "state": {}
     },
     "529d801608b8498293a6a64a0227d363": {
      "model_module": "@jupyter-widgets/controls",
      "model_module_version": "1.5.0",
      "model_name": "DescriptionStyleModel",
      "state": {
       "description_width": ""
      }
     },
     "52b91f4893754d1787fb2326b3974403": {
      "model_module": "@jupyter-widgets/base",
      "model_module_version": "1.2.0",
      "model_name": "LayoutModel",
      "state": {
       "justify_content": "center"
      }
     },
     "52fc5c5de93f49eda4658f52d5203111": {
      "model_module": "@jupyter-widgets/base",
      "model_module_version": "1.2.0",
      "model_name": "LayoutModel",
      "state": {
       "justify_content": "center"
      }
     },
     "53035fdae87e4241a45ea3c7d3bbff39": {
      "model_module": "@jupyter-widgets/controls",
      "model_module_version": "1.5.0",
      "model_name": "DescriptionStyleModel",
      "state": {
       "description_width": ""
      }
     },
     "5305545f61ac4817b507cbf073c268dd": {
      "model_module": "@jupyter-widgets/base",
      "model_module_version": "1.2.0",
      "model_name": "LayoutModel",
      "state": {
       "align_items": "center",
       "justify_content": "center",
       "margin": "0px 0px 0px 0px",
       "max_height": "250px",
       "max_width": "250px",
       "min_height": "250px",
       "min_width": "250px"
      }
     },
     "5308ebec2af4475b9cef827e3cb692f1": {
      "model_module": "@jupyter-widgets/base",
      "model_module_version": "1.2.0",
      "model_name": "LayoutModel",
      "state": {
       "max_height": "620px"
      }
     },
     "533292476e3f42aaa2be8907cf2473e6": {
      "model_module": "@jupyter-widgets/base",
      "model_module_version": "1.2.0",
      "model_name": "LayoutModel",
      "state": {
       "max_width": "700px",
       "min_width": "700px"
      }
     },
     "5362474ddcd34be3be1fc884bfc37486": {
      "model_module": "@jupyter-widgets/controls",
      "model_module_version": "1.5.0",
      "model_name": "HTMLModel",
      "state": {
       "layout": "IPY_MODEL_766beadb17b646498bfae52fcdbfc643",
       "style": "IPY_MODEL_34c2795992c14a3c8c02b72d9fc5d3c8",
       "value": "<h5><b>5</b></h5>"
      }
     },
     "53d40592c0b247c19aec309ca2456587": {
      "model_module": "@jupyter-widgets/base",
      "model_module_version": "1.2.0",
      "model_name": "LayoutModel",
      "state": {}
     },
     "5558def1448944aeb350c45bcf3cc2d6": {
      "model_module": "@jupyter-widgets/base",
      "model_module_version": "1.2.0",
      "model_name": "LayoutModel",
      "state": {
       "min_width": "auto"
      }
     },
     "556ed6c4019a4afdbb11abb8cae5a2ea": {
      "model_module": "@jupyter-widgets/base",
      "model_module_version": "1.2.0",
      "model_name": "LayoutModel",
      "state": {
       "min_width": "auto"
      }
     },
     "560f3fd92e4e4ed585e779ff9cbd38bc": {
      "model_module": "@jupyter-widgets/controls",
      "model_module_version": "1.5.0",
      "model_name": "ProgressStyleModel",
      "state": {
       "bar_color": "#71cddd",
       "description_width": ""
      }
     },
     "563d716ffaf0413b8d72cb5cdc84d50a": {
      "model_module": "@jupyter-widgets/controls",
      "model_module_version": "1.5.0",
      "model_name": "HTMLModel",
      "state": {
       "layout": "IPY_MODEL_cf94fb14caa446f582f9a0bc7e5b9456",
       "style": "IPY_MODEL_23c9cea4d3584d0b8ff39283be93f010",
       "value": "<h4>ibmq_quito</h4>"
      }
     },
     "563e28922eb44d1b818d8a8095d73b10": {
      "model_module": "@jupyter-widgets/base",
      "model_module_version": "1.2.0",
      "model_name": "LayoutModel",
      "state": {
       "grid_area": "left",
       "width": "100%"
      }
     },
     "57cf7d33691746f39601627f36d296ad": {
      "model_module": "@jupyter-widgets/base",
      "model_module_version": "1.2.0",
      "model_name": "LayoutModel",
      "state": {
       "grid_area": "bottom",
       "width": "auto"
      }
     },
     "57ddc3e994f64860ae4bd521a4a6d4d0": {
      "model_module": "@jupyter-widgets/base",
      "model_module_version": "1.2.0",
      "model_name": "LayoutModel",
      "state": {
       "max_width": "180px"
      }
     },
     "58525c5bbb564c999b18d39d5e8d2239": {
      "model_module": "@jupyter-widgets/controls",
      "model_module_version": "1.5.0",
      "model_name": "HTMLModel",
      "state": {
       "layout": "IPY_MODEL_d7d13bec30bf4ca1866e22787185052a",
       "style": "IPY_MODEL_0d5a0fabadd64ca9927982a0b1c69415",
       "value": "<h5 style='color:#dc267f'>False</h5>"
      }
     },
     "5883de80865f45188380316d628bdab4": {
      "model_module": "@jupyter-widgets/controls",
      "model_module_version": "1.5.0",
      "model_name": "DescriptionStyleModel",
      "state": {
       "description_width": ""
      }
     },
     "589bca9b43054844babf0afa1054152d": {
      "model_module": "@jupyter-widgets/base",
      "model_module_version": "1.2.0",
      "model_name": "LayoutModel",
      "state": {
       "grid_area": "left",
       "width": "100%"
      }
     },
     "58b6ebbe27524e1aac974ec7dbbfeb5f": {
      "model_module": "@jupyter-widgets/controls",
      "model_module_version": "1.5.0",
      "model_name": "HTMLModel",
      "state": {
       "layout": "IPY_MODEL_d7007779bf504d0a910e9c75767011d5",
       "style": "IPY_MODEL_5883de80865f45188380316d628bdab4",
       "value": "<h5>89.1 / 99.9 us</h5>"
      }
     },
     "58f927dcb7ef45a08f12a1a1025cf77d": {
      "model_module": "@jupyter-widgets/base",
      "model_module_version": "1.2.0",
      "model_name": "LayoutModel",
      "state": {
       "align_items": "center",
       "display": "flex-inline"
      }
     },
     "5a0b5e24292c44f5a36324ecb1ddbebb": {
      "model_module": "@jupyter-widgets/controls",
      "model_module_version": "1.5.0",
      "model_name": "LabelModel",
      "state": {
       "layout": "IPY_MODEL_556ed6c4019a4afdbb11abb8cae5a2ea",
       "style": "IPY_MODEL_ddb74d551ce54dc89b4e0222f7be5a28",
       "value": "165"
      }
     },
     "5adde87523794b4d97f981d46ff0d706": {
      "model_module": "@jupyter-widgets/controls",
      "model_module_version": "1.5.0",
      "model_name": "HTMLModel",
      "state": {
       "layout": "IPY_MODEL_2332fde037c44f14a0384443a06f1f8d",
       "style": "IPY_MODEL_80e92f12f60d4f10becc5b134b38224b",
       "value": "<div><font style='font-weight:bold'>last_update_date</font>: 2021-09-17 17:30:09+00:00</div>"
      }
     },
     "5b12172a792f4e2a8bac5b639a64dd19": {
      "model_module": "@jupyter-widgets/base",
      "model_module_version": "1.2.0",
      "model_name": "LayoutModel",
      "state": {
       "margin": "0px 0px 0px 0px"
      }
     },
     "5cb8cf0c873345de87ac4b00147115af": {
      "model_module": "@jupyter-widgets/base",
      "model_module_version": "1.2.0",
      "model_name": "LayoutModel",
      "state": {
       "justify_content": "center",
       "max_width": "250px",
       "min_width": "250px"
      }
     },
     "5d3dee349cf046218ef82072aa338e4e": {
      "model_module": "@jupyter-widgets/controls",
      "model_module_version": "1.5.0",
      "model_name": "HTMLModel",
      "state": {
       "layout": "IPY_MODEL_365c293906fb485cb227967a01ce9ef4",
       "style": "IPY_MODEL_529d801608b8498293a6a64a0227d363",
       "value": "<p style='font-family: IBM Plex Sans, Arial, Helvetica, sans-serif; font-size: 20px; font-weight: medium;'>Circuit Properties</p>"
      }
     },
     "5d451249ea174e1dbf30a67456128e34": {
      "model_module": "@jupyter-widgets/base",
      "model_module_version": "1.2.0",
      "model_name": "LayoutModel",
      "state": {
       "grid_gap": "0px 0px",
       "grid_template_areas": "\n                               \"left right right right\"\n                               \"bottom bottom bottom bottom\"\n                               ",
       "grid_template_columns": "31% 23% 23% 23%",
       "grid_template_rows": "auto auto"
      }
     },
     "5e717d2fac0f42ae93984b531b89b62b": {
      "model_module": "@jupyter-widgets/base",
      "model_module_version": "1.2.0",
      "model_name": "LayoutModel",
      "state": {}
     },
     "5f538ac6f1ae4ea685c56ec4fe8b0d0d": {
      "model_module": "@jupyter-widgets/controls",
      "model_module_version": "1.5.0",
      "model_name": "DescriptionStyleModel",
      "state": {
       "description_width": ""
      }
     },
     "5f64f81adf1d42ed9e2473fdc5f4f0f1": {
      "model_module": "@jupyter-widgets/controls",
      "model_module_version": "1.5.0",
      "model_name": "HTMLModel",
      "state": {
       "layout": "IPY_MODEL_4bc5ad118fd54871bcff8fe2f309ba7c",
       "style": "IPY_MODEL_0724ad3e2e5c472ba25e320df7161916",
       "value": "<h5>1</h5>"
      }
     },
     "5f9d63ea24e142ebb27588f99517425c": {
      "model_module": "@jupyter-widgets/base",
      "model_module_version": "1.2.0",
      "model_name": "LayoutModel",
      "state": {
       "align_items": "center",
       "display": "inline-flex",
       "flex_flow": "column"
      }
     },
     "6005a25757da43f690ffb81d8a0e6a61": {
      "model_module": "@jupyter-widgets/controls",
      "model_module_version": "1.5.0",
      "model_name": "DescriptionStyleModel",
      "state": {
       "description_width": ""
      }
     },
     "6082d00bfdb44ff6a641ed037c96d677": {
      "model_module": "@jupyter-widgets/controls",
      "model_module_version": "1.5.0",
      "model_name": "VBoxModel",
      "state": {
       "children": [
        "IPY_MODEL_4caed16f677448d3b0d6e3f0ca28fa13",
        "IPY_MODEL_b51a592236ef4695b70979e8880e6965",
        "IPY_MODEL_b6166841b0c641108bfb68f59689b6dd",
        "IPY_MODEL_151260c5fe39481da9c596a482f685d8",
        "IPY_MODEL_f716b8fbea4c417eb3ebaadf19e3d305",
        "IPY_MODEL_a4e9ed53d486479bb6a66d49ccb106a5",
        "IPY_MODEL_13012cdcef8e4e5287d9d43705ef9668",
        "IPY_MODEL_7a1afd5edc9d4d80b387c13675374d19",
        "IPY_MODEL_395b69ef0fe940dbaf3917e9f21decbc",
        "IPY_MODEL_3d3a1a835382469b90021638fd095f32"
       ],
       "layout": "IPY_MODEL_5f9d63ea24e142ebb27588f99517425c"
      }
     },
     "60af559649d54d818fd1ef9f6f73010c": {
      "model_module": "@jupyter-widgets/controls",
      "model_module_version": "1.5.0",
      "model_name": "HTMLModel",
      "state": {
       "layout": "IPY_MODEL_34ad3ca148dc466996d44c4590cc573c",
       "style": "IPY_MODEL_adbddcd138c14d52855d3d1c9689e4f7",
       "value": "<font style='color:#34BC6E'>DONE</font>"
      }
     },
     "616b9d29250840ccb728453dba34f210": {
      "model_module": "@jupyter-widgets/base",
      "model_module_version": "1.2.0",
      "model_name": "LayoutModel",
      "state": {
       "width": "190px"
      }
     },
     "61c782350ed4496daee55cb0b9f5f189": {
      "model_module": "@jupyter-widgets/base",
      "model_module_version": "1.2.0",
      "model_name": "LayoutModel",
      "state": {}
     },
     "61db942fd5f943c8992d30c31c990ced": {
      "model_module": "@jupyter-widgets/base",
      "model_module_version": "1.2.0",
      "model_name": "LayoutModel",
      "state": {}
     },
     "62610e04880243b5bef82f1d18dffafe": {
      "model_module": "@jupyter-widgets/controls",
      "model_module_version": "1.5.0",
      "model_name": "LabelModel",
      "state": {
       "layout": "IPY_MODEL_e47618beaf3946e492ace1ad6db296a8",
       "style": "IPY_MODEL_4da6d3a4d3124dddb5c55c5788c2f3a9",
       "value": "1"
      }
     },
     "63cb0a02027b4db5960900b736b021b5": {
      "model_module": "@jupyter-widgets/controls",
      "model_module_version": "1.5.0",
      "model_name": "HTMLModel",
      "state": {
       "layout": "IPY_MODEL_edb157e82ed14212bf9fea3d3db05eee",
       "style": "IPY_MODEL_d7ef201dc6694ac9a3d94fb467462936",
       "value": "<h5>0.0285</h5>"
      }
     },
     "63d4d368d0074ac780956fade9ff3310": {
      "model_module": "@jupyter-widgets/base",
      "model_module_version": "1.2.0",
      "model_name": "LayoutModel",
      "state": {
       "justify_content": "center"
      }
     },
     "651a6f67f52d49a1974707da878c42f0": {
      "model_module": "@jupyter-widgets/base",
      "model_module_version": "1.2.0",
      "model_name": "LayoutModel",
      "state": {}
     },
     "660695f63a2d4d129b49127cd1f5f4dd": {
      "model_module": "@jupyter-widgets/base",
      "model_module_version": "1.2.0",
      "model_name": "LayoutModel",
      "state": {
       "grid_area": "right"
      }
     },
     "6675b75680434e719ac195a245cf5cb8": {
      "model_module": "@jupyter-widgets/controls",
      "model_module_version": "1.5.0",
      "model_name": "HTMLModel",
      "state": {
       "layout": "IPY_MODEL_426e12cd6a0142f593c9681b9894c55f",
       "style": "IPY_MODEL_da5856f31dfd4d16be0f8e3d0c0b68c0",
       "value": "<h5>128.5 / 58.3 us</h5>"
      }
     },
     "66d031af97ab433390ec8b3be22c22b4": {
      "model_module": "@jupyter-widgets/controls",
      "model_module_version": "1.5.0",
      "model_name": "LabelModel",
      "state": {
       "layout": "IPY_MODEL_05aefaa0f6e543508a7399b6dc146597",
       "style": "IPY_MODEL_137d9ed139b94caa9c6e1ad9101cf244",
       "value": "3"
      }
     },
     "6789862996e6463a857e03c1b846e8f1": {
      "model_module": "@jupyter-widgets/base",
      "model_module_version": "1.2.0",
      "model_name": "LayoutModel",
      "state": {
       "min_width": "auto"
      }
     },
     "67a7d59fe47d4ef29db98fe2cf457a00": {
      "model_module": "@jupyter-widgets/base",
      "model_module_version": "1.2.0",
      "model_name": "LayoutModel",
      "state": {
       "grid_gap": "0px 0px",
       "grid_template_areas": "\n                               \"left right right right\"\n                               \"bottom bottom bottom bottom\"\n                               ",
       "grid_template_columns": "31% 23% 23% 23%",
       "grid_template_rows": "auto auto"
      }
     },
     "6829f0800c8d4ff79bb92c3202c0f013": {
      "model_module": "@jupyter-widgets/controls",
      "model_module_version": "1.5.0",
      "model_name": "DescriptionStyleModel",
      "state": {
       "description_width": ""
      }
     },
     "684d490e8afb4146bae94d31f1ea62d0": {
      "model_module": "@jupyter-widgets/base",
      "model_module_version": "1.2.0",
      "model_name": "LayoutModel",
      "state": {}
     },
     "6922f319675f426db2d24b6bdf74cb17": {
      "model_module": "@jupyter-widgets/controls",
      "model_module_version": "1.5.0",
      "model_name": "HTMLModel",
      "state": {
       "layout": "IPY_MODEL_d3413914820b4729bd14223af3364c5d",
       "style": "IPY_MODEL_8bec3ba8f2844020b70f509faef33e75",
       "value": "<table><style>\ntable {\n    border-collapse: collapse;\n    width: auto;\n}\n\nth, td {\n    text-align: left;\n    padding: 8px;\n}\n\ntr:nth-child(even) {background-color: #f6f6f6;}\n</style><tr><th></th><th>Frequency</th><th>T1</th><th>T2</th><th>RZ</th><th>SX</th><th>X</th><th>Readout error</th></tr><tr><td><font style='font-weight:bold'>Q0</font></td><td>5.15738 GHz</td><td>98.54373 us</td><td>86.16517 us</td><td>0</td><td>0.00027</td><td>0.00027</td><td>0.01 </td><tr><td><font style='font-weight:bold'>Q1</font></td><td>5.03433 GHz</td><td>144.47243 us</td><td>129.13983 us</td><td>0</td><td>0.00025</td><td>0.00025</td><td>0.0137 </td><tr><td><font style='font-weight:bold'>Q2</font></td><td>4.86185 GHz</td><td>222.81562 us</td><td>136.76462 us</td><td>0</td><td>0.0003</td><td>0.0003</td><td>0.0109 </td><tr><td><font style='font-weight:bold'>Q3</font></td><td>5.12442 GHz</td><td>162.58921 us</td><td>205.44701 us</td><td>0</td><td>0.00025</td><td>0.00025</td><td>0.0091 </td><tr><td><font style='font-weight:bold'>Q4</font></td><td>5.1596 GHz</td><td>93.53504 us</td><td>21.60142 us</td><td>0</td><td>0.01436</td><td>0.01436</td><td>0.1371 </td><tr><td><font style='font-weight:bold'>Q5</font></td><td>4.97886 GHz</td><td>179.70113 us</td><td>166.42619 us</td><td>0</td><td>0.00032</td><td>0.00032</td><td>0.0116 </td><tr><td><font style='font-weight:bold'>Q6</font></td><td>5.15666 GHz</td><td>151.67396 us</td><td>172.06024 us</td><td>0</td><td>0.0003</td><td>0.0003</td><td>0.0069 </td></table>"
      }
     },
     "69bda2d5646d4ad0a5e2f7021f2ca4a1": {
      "model_module": "@jupyter-widgets/controls",
      "model_module_version": "1.5.0",
      "model_name": "HBoxModel",
      "state": {
       "children": [
        "IPY_MODEL_62610e04880243b5bef82f1d18dffafe",
        "IPY_MODEL_c00787b2c0da42d590d249cc65f79103",
        "IPY_MODEL_1312ae1efe5947e99154d0d3d8872fb5"
       ],
       "layout": "IPY_MODEL_f0d41d5ee9a54ee2b9f2d2cdc23c6519"
      }
     },
     "6af027e1498e421997cf07199e37c0b4": {
      "model_module": "@jupyter-widgets/controls",
      "model_module_version": "1.5.0",
      "model_name": "DescriptionStyleModel",
      "state": {
       "description_width": ""
      }
     },
     "6b14762e06eb45ef89809f074fcfad7f": {
      "model_module": "@jupyter-widgets/controls",
      "model_module_version": "1.5.0",
      "model_name": "HTMLModel",
      "state": {
       "layout": "IPY_MODEL_c795dc260c164901a67afbd9e2a11862",
       "style": "IPY_MODEL_31f50a950ad644889062c0b4490db33e",
       "value": "<h5 style='color:#34bc6e'>True</h5>"
      }
     },
     "6dba786fcaf14588b8bd18d118f3933e": {
      "model_module": "@jupyter-widgets/base",
      "model_module_version": "1.2.0",
      "model_name": "LayoutModel",
      "state": {
       "margin": "295px 0px 0px 0px",
       "min_width": "100px"
      }
     },
     "6df438b6c30b494f9fbce8367cfd7d9e": {
      "model_module": "@jupyter-widgets/base",
      "model_module_version": "1.2.0",
      "model_name": "LayoutModel",
      "state": {
       "max_width": "180px"
      }
     },
     "6e4f5569bede4be197515f740f10cd9f": {
      "model_module": "@jupyter-widgets/controls",
      "model_module_version": "1.5.0",
      "model_name": "DescriptionStyleModel",
      "state": {
       "description_width": ""
      }
     },
     "6e7308b340bb479e9b72f83fae32e84f": {
      "model_module": "@jupyter-widgets/base",
      "model_module_version": "1.2.0",
      "model_name": "LayoutModel",
      "state": {
       "border": "4px solid #000000",
       "max_height": "650px",
       "min_height": "650px",
       "overflow_y": "hidden"
      }
     },
     "6f070a9c7a1f4ee499d2de46950404f8": {
      "model_module": "@jupyter-widgets/controls",
      "model_module_version": "1.5.0",
      "model_name": "HTMLModel",
      "state": {
       "layout": "IPY_MODEL_c442e95258f84f4e86557c2994741b7f",
       "style": "IPY_MODEL_d4cbf01d0af8414c9348cb5e971e427d",
       "value": "job has successfully run"
      }
     },
     "6f8bce2b7cdb4416991c5d5727b40d68": {
      "model_module": "@jupyter-widgets/controls",
      "model_module_version": "1.5.0",
      "model_name": "HTMLMathModel",
      "state": {
       "layout": "IPY_MODEL_589bca9b43054844babf0afa1054152d",
       "style": "IPY_MODEL_36527197f9cf4341b3def1d0a4f7c27f",
       "value": "<table><style>\ntable {\n    border-collapse: collapse;\n    width: auto;\n}\n\nth, td {\n    text-align: left;\n    padding: 8px;\n}\n\ntr:nth-child(even) {background-color: #f6f6f6;}\n</style><tr><th>Property</th><th>Value</th></tr><tr><td><font style='font-weight:bold'>n_qubits</font></td><td>20</td></tr><tr><td><font style='font-weight:bold'>quantum_volume</font></td><td>32</td></tr><tr><td><font style='font-weight:bold'>operational</font></td><td>True</td></tr><tr><td><font style='font-weight:bold'>status_msg</font></td><td></td></tr><tr><td><font style='font-weight:bold'>pending_jobs</font></td><td>0</td></tr><tr><td><font style='font-weight:bold'>backend_version</font></td><td>1.2.2</td></tr><tr><td><font style='font-weight:bold'>basis_gates</font></td><td>['id', 'u1', 'u2', 'u3', 'cx']</td></tr><tr><td><font style='font-weight:bold'>max_shots</font></td><td>8192</td></tr><tr><td><font style='font-weight:bold'>max_experiments</font></td><td>900</td></tr></table>"
      }
     },
     "6f8e2862f9e2479c9307b4b403c7438a": {
      "model_module": "@jupyter-widgets/controls",
      "model_module_version": "1.5.0",
      "model_name": "HTMLModel",
      "state": {
       "layout": "IPY_MODEL_18a9f174f2e64f1ea4d8caa72c84e40f",
       "style": "IPY_MODEL_32389a41f9df4092befc1445c6e48e0c",
       "value": "<table><style>\ntable {\n    border-collapse: collapse;\n    width: auto;\n}\n\nth, td {\n    text-align: left;\n    padding: 8px;\n}\n\ntr:nth-child(even) {background-color: #f6f6f6;};\n</style><tr><th></th><th>Type</th><th>Gate error</th></tr><tr><td><font style='font-weight:bold'>cx3_5</font></td><td>cx</td><td>0.00785</td></tr><tr><td><font style='font-weight:bold'>cx5_3</font></td><td>cx</td><td>0.00785</td></tr><tr><td><font style='font-weight:bold'>cx3_1</font></td><td>cx</td><td>0.00667</td></tr><tr><td><font style='font-weight:bold'>cx1_3</font></td><td>cx</td><td>0.00667</td></tr></table>"
      }
     },
     "6fcf6604f98d4ccba6ebb48042ee4866": {
      "model_module": "@jupyter-widgets/controls",
      "model_module_version": "1.5.0",
      "model_name": "DescriptionStyleModel",
      "state": {
       "description_width": ""
      }
     },
     "706448f1e6e74d31adf948c052ca18c7": {
      "model_module": "@jupyter-widgets/controls",
      "model_module_version": "1.5.0",
      "model_name": "DescriptionStyleModel",
      "state": {
       "description_width": ""
      }
     },
     "714508af18a744e6889b287a8e5554ce": {
      "model_module": "@jupyter-widgets/base",
      "model_module_version": "1.2.0",
      "model_name": "LayoutModel",
      "state": {
       "min_width": "auto"
      }
     },
     "714a4c40f42a451aa79830ae2bd32e1c": {
      "model_module": "@jupyter-widgets/controls",
      "model_module_version": "1.5.0",
      "model_name": "HTMLModel",
      "state": {
       "layout": "IPY_MODEL_d51dbdf477c545a1876504d94e822d56",
       "style": "IPY_MODEL_2b420608089549a89e7bfbde1e8bfda7",
       "value": "ibm_perth"
      }
     },
     "718f967fbe4d492e9dbf67076d505a4f": {
      "model_module": "@jupyter-widgets/base",
      "model_module_version": "1.2.0",
      "model_name": "LayoutModel",
      "state": {
       "width": "70px"
      }
     },
     "72a9e51ca9d144cb81cffecc0c7c1125": {
      "model_module": "@jupyter-widgets/controls",
      "model_module_version": "1.5.0",
      "model_name": "DescriptionStyleModel",
      "state": {
       "description_width": ""
      }
     },
     "72e8c054bd144c39a98fe0943c108e52": {
      "model_module": "@jupyter-widgets/controls",
      "model_module_version": "1.5.0",
      "model_name": "HTMLModel",
      "state": {
       "layout": "IPY_MODEL_97318411437b48a3a2f0e2dd95b2fcbf",
       "style": "IPY_MODEL_3e3794d55aa145cfbbf7aeef0263a23a",
       "value": "<table><style>\ntable {\n    border-collapse: collapse;\n    width: auto;\n}\n\nth, td {\n    text-align: left;\n    padding: 8px;\n}\n\ntr:nth-child(even) {background-color: #f6f6f6;};\n</style><tr><th></th><th>Type</th><th>Gate error</th></tr><tr><td><font style='font-weight:bold'>cx7_8</font></td><td>cx</td><td>0.01868</td></tr><tr><td><font style='font-weight:bold'>cx7_12</font></td><td>cx</td><td>0.02643</td></tr><tr><td><font style='font-weight:bold'>cx8_7</font></td><td>cx</td><td>0.01868</td></tr><tr><td><font style='font-weight:bold'>cx8_9</font></td><td>cx</td><td>0.02868</td></tr><tr><td><font style='font-weight:bold'>cx9_4</font></td><td>cx</td><td>0.02049</td></tr><tr><td><font style='font-weight:bold'>cx9_8</font></td><td>cx</td><td>0.02868</td></tr><tr><td><font style='font-weight:bold'>cx9_14</font></td><td>cx</td><td>0.03955</td></tr><tr><td><font style='font-weight:bold'>cx10_5</font></td><td>cx</td><td>0.03206</td></tr><tr><td><font style='font-weight:bold'>cx10_11</font></td><td>cx</td><td>0.01839</td></tr><tr><td><font style='font-weight:bold'>cx10_15</font></td><td>cx</td><td>0.02979</td></tr><tr><td><font style='font-weight:bold'>cx11_10</font></td><td>cx</td><td>0.01839</td></tr><tr><td><font style='font-weight:bold'>cx11_12</font></td><td>cx</td><td>0.02652</td></tr><tr><td><font style='font-weight:bold'>cx12_7</font></td><td>cx</td><td>0.02643</td></tr><tr><td><font style='font-weight:bold'>cx12_11</font></td><td>cx</td><td>0.02652</td></tr><tr><td><font style='font-weight:bold'>cx12_13</font></td><td>cx</td><td>0.01666</td></tr></table>"
      }
     },
     "7346f6c76d964ef98902867100803b8e": {
      "model_module": "@jupyter-widgets/base",
      "model_module_version": "1.2.0",
      "model_name": "LayoutModel",
      "state": {
       "margin": "0px 0px 0px 37px",
       "width": "600px"
      }
     },
     "73d0dfa5893f469c9f6eca07e551b70b": {
      "model_module": "@jupyter-widgets/controls",
      "model_module_version": "1.5.0",
      "model_name": "HBoxModel",
      "state": {
       "children": [
        "IPY_MODEL_b703e06eaa154d12ac8a715c6da38d2d",
        "IPY_MODEL_d14ab146497e4b37884558f269ee6493",
        "IPY_MODEL_094dbb75fa004b5e894c848b7e440391"
       ],
       "layout": "IPY_MODEL_c6c4e3edf0734323a66de6fc103ed052"
      }
     },
     "73d7eb27c8fd4d9d8709689c3267fcad": {
      "model_module": "@jupyter-widgets/base",
      "model_module_version": "1.2.0",
      "model_name": "LayoutModel",
      "state": {
       "justify_content": "center"
      }
     },
     "7481fe1201b94cf6a5afd0ebf2cff61d": {
      "model_module": "@jupyter-widgets/controls",
      "model_module_version": "1.5.0",
      "model_name": "HTMLModel",
      "state": {
       "layout": "IPY_MODEL_09c718ed88b343bebd4f27be09954ca6",
       "style": "IPY_MODEL_d642607dcd5e436596f265464cd24a56",
       "value": "<h5>0.0155</h5>"
      }
     },
     "766beadb17b646498bfae52fcdbfc643": {
      "model_module": "@jupyter-widgets/base",
      "model_module_version": "1.2.0",
      "model_name": "LayoutModel",
      "state": {
       "justify_content": "center"
      }
     },
     "76ee607cec7f40b7933369197a632914": {
      "model_module": "@jupyter-widgets/base",
      "model_module_version": "1.2.0",
      "model_name": "LayoutModel",
      "state": {
       "align_items": "center",
       "display": "inline-flex",
       "flex_flow": "column"
      }
     },
     "776a46eb757040298987e908032920cc": {
      "model_module": "@jupyter-widgets/controls",
      "model_module_version": "1.5.0",
      "model_name": "HBoxModel",
      "state": {
       "children": [
        "IPY_MODEL_d87cfa69ba414093b6cfb6dab3668c0b",
        "IPY_MODEL_e02d146ac42e432996ddf0d7e936f7eb",
        "IPY_MODEL_3b6e6d1884cf4cbdb666763867323b36"
       ],
       "layout": "IPY_MODEL_1095e0a43e37428bad4d84d7428f7355"
      }
     },
     "77b211dbe7e9473cbbbf3c12794f2ce8": {
      "model_module": "@jupyter-widgets/controls",
      "model_module_version": "1.5.0",
      "model_name": "HTMLModel",
      "state": {
       "layout": "IPY_MODEL_dc48e1aac27545f18d50f517c30f2ffe",
       "style": "IPY_MODEL_329ccc2eb77d454da6914ae462384ffe",
       "value": "<h5>0.0098</h5>"
      }
     },
     "78c7d680282041dd8950787f9c273027": {
      "model_module": "@jupyter-widgets/controls",
      "model_module_version": "1.5.0",
      "model_name": "DescriptionStyleModel",
      "state": {
       "description_width": ""
      }
     },
     "794754198b36450081347bc4cd69dd30": {
      "model_module": "@jupyter-widgets/controls",
      "model_module_version": "1.5.0",
      "model_name": "HTMLModel",
      "state": {
       "layout": "IPY_MODEL_1732ec89e6a9407eac073a4d5037c0e2",
       "style": "IPY_MODEL_6005a25757da43f690ffb81d8a0e6a61",
       "value": "<h5><b>7</b></h5>"
      }
     },
     "79cc74ddef5a45a6a289ebb30684f8ba": {
      "model_module": "@jupyter-widgets/controls",
      "model_module_version": "1.5.0",
      "model_name": "HTMLModel",
      "state": {
       "layout": "IPY_MODEL_25daffdff4bd4c488247eb789d4ae1a4",
       "style": "IPY_MODEL_3fc247862e56440ab70e6c3ce9a379e1",
       "value": "<h5>92.6 / 106.8 us</h5>"
      }
     },
     "7a1afd5edc9d4d80b387c13675374d19": {
      "model_module": "@jupyter-widgets/controls",
      "model_module_version": "1.5.0",
      "model_name": "HTMLModel",
      "state": {
       "layout": "IPY_MODEL_9f6d65ed95c747a18d5ef39248235394",
       "style": "IPY_MODEL_f8fd0d53d7334cd99cd4ca72f04bca2e",
       "value": "<h5>72.3 / 90.0 us</h5>"
      }
     },
     "7a78233e09414d589c255e3db7fbf107": {
      "model_module": "@jupyter-widgets/base",
      "model_module_version": "1.2.0",
      "model_name": "LayoutModel",
      "state": {
       "min_width": "auto"
      }
     },
     "7abf37520bf142618738f77336451da7": {
      "model_module": "@jupyter-widgets/controls",
      "model_module_version": "1.5.0",
      "model_name": "HTMLModel",
      "state": {
       "layout": "IPY_MODEL_1d87a1cfe5d04cd9965271252731c694",
       "style": "IPY_MODEL_a34e048473c248bb8844356bca17fb68",
       "value": "<h5>91.7 / 116.5 us</h5>"
      }
     },
     "7ae521fa289146a0a8735fbd48197a7c": {
      "model_module": "@jupyter-widgets/controls",
      "model_module_version": "1.5.0",
      "model_name": "HTMLModel",
      "state": {
       "layout": "IPY_MODEL_c58af3d76fa94cbb9006390d3ab7548d",
       "style": "IPY_MODEL_45effb5613cb4ed49115428c6a201185",
       "value": "<h5>74.1 / 76.9 us</h5>"
      }
     },
     "7b0df7abedfd4ccc8802eb482da12991": {
      "model_module": "@jupyter-widgets/controls",
      "model_module_version": "1.5.0",
      "model_name": "DescriptionStyleModel",
      "state": {
       "description_width": ""
      }
     },
     "7b78457d14f9403dbca1cdcfcf16b138": {
      "model_module": "@jupyter-widgets/controls",
      "model_module_version": "1.5.0",
      "model_name": "DescriptionStyleModel",
      "state": {
       "description_width": ""
      }
     },
     "7c7ade3aaa7848f0bd87f98cb6994eec": {
      "model_module": "@jupyter-widgets/base",
      "model_module_version": "1.2.0",
      "model_name": "LayoutModel",
      "state": {}
     },
     "7ce507fbcdb24ceda0de885af0e57e6a": {
      "model_module": "@jupyter-widgets/controls",
      "model_module_version": "1.5.0",
      "model_name": "HTMLModel",
      "state": {
       "layout": "IPY_MODEL_8248532efc9245b38422dbbeece45a3e",
       "style": "IPY_MODEL_72a9e51ca9d144cb81cffecc0c7c1125",
       "value": "<h5>0.0325</h5>"
      }
     },
     "7d815bbc339a47edb901e17fc388645a": {
      "model_module": "@jupyter-widgets/controls",
      "model_module_version": "1.5.0",
      "model_name": "DescriptionStyleModel",
      "state": {
       "description_width": ""
      }
     },
     "7df9cd6db8d6497582997166d52dadb4": {
      "model_module": "@jupyter-widgets/base",
      "model_module_version": "1.2.0",
      "model_name": "LayoutModel",
      "state": {
       "grid_area": "right"
      }
     },
     "80130c45e2704c209031d0fd0133308f": {
      "model_module": "@jupyter-widgets/base",
      "model_module_version": "1.2.0",
      "model_name": "LayoutModel",
      "state": {
       "justify_content": "center"
      }
     },
     "80e92f12f60d4f10becc5b134b38224b": {
      "model_module": "@jupyter-widgets/controls",
      "model_module_version": "1.5.0",
      "model_name": "DescriptionStyleModel",
      "state": {
       "description_width": ""
      }
     },
     "80fc0e36e91b40c181e399740bdd6ed3": {
      "model_module": "@jupyter-widgets/base",
      "model_module_version": "1.2.0",
      "model_name": "LayoutModel",
      "state": {
       "width": "190px"
      }
     },
     "8169585ebf2f4b9f8c34523929761d42": {
      "model_module": "@jupyter-widgets/controls",
      "model_module_version": "1.5.0",
      "model_name": "DescriptionStyleModel",
      "state": {
       "description_width": ""
      }
     },
     "81c0fd96ae1349bb902ea9801041b28b": {
      "model_module": "@jupyter-widgets/controls",
      "model_module_version": "1.5.0",
      "model_name": "VBoxModel",
      "state": {
       "children": [
        "IPY_MODEL_8ff18ed131664f4f8d1a9f21297f6735",
        "IPY_MODEL_da2741d8065d42a2b0c1a330a5ac8f10",
        "IPY_MODEL_8d2082070de8475e8a467b665e51722e",
        "IPY_MODEL_5f64f81adf1d42ed9e2473fdc5f4f0f1",
        "IPY_MODEL_39008016e71c41848133b66383fe3295",
        "IPY_MODEL_88a7a549940542eba7761af85333212c",
        "IPY_MODEL_2035f1584e6c4ffcbbf52841c5d59500",
        "IPY_MODEL_c0486b799ff9401787bb021f09ff8e4c",
        "IPY_MODEL_e514693a04e94c1697d9891b593f80e1",
        "IPY_MODEL_7ce507fbcdb24ceda0de885af0e57e6a"
       ],
       "layout": "IPY_MODEL_76ee607cec7f40b7933369197a632914"
      }
     },
     "8225c3c126894516a19220b36719fe89": {
      "model_module": "@jupyter-widgets/controls",
      "model_module_version": "1.5.0",
      "model_name": "HTMLModel",
      "state": {
       "layout": "IPY_MODEL_ce3f96251e7546398c868500690dd1d4",
       "style": "IPY_MODEL_7b0df7abedfd4ccc8802eb482da12991",
       "value": "<h5>Job ID</h5>"
      }
     },
     "8248532efc9245b38422dbbeece45a3e": {
      "model_module": "@jupyter-widgets/base",
      "model_module_version": "1.2.0",
      "model_name": "LayoutModel",
      "state": {}
     },
     "82c6057e7721427fa6a99bbd26895a3a": {
      "model_module": "@jupyter-widgets/controls",
      "model_module_version": "1.5.0",
      "model_name": "DescriptionStyleModel",
      "state": {
       "description_width": ""
      }
     },
     "83144b02519642f2b5bb2f0a94f41109": {
      "model_module": "@jupyter-widgets/controls",
      "model_module_version": "1.5.0",
      "model_name": "HTMLMathModel",
      "state": {
       "layout": "IPY_MODEL_563e28922eb44d1b818d8a8095d73b10",
       "style": "IPY_MODEL_157086dad2124260b5fdfc03dd3325a6",
       "value": "<table><style>\ntable {\n    border-collapse: collapse;\n    width: auto;\n}\n\nth, td {\n    text-align: left;\n    padding: 8px;\n}\n\ntr:nth-child(even) {background-color: #f6f6f6;}\n</style><tr><th>Property</th><th>Value</th></tr><tr><td><font style='font-weight:bold'>n_qubits</font></td><td>7</td></tr><tr><td><font style='font-weight:bold'>quantum_volume</font></td><td>32</td></tr><tr><td><font style='font-weight:bold'>operational</font></td><td>True</td></tr><tr><td><font style='font-weight:bold'>status_msg</font></td><td>active</td></tr><tr><td><font style='font-weight:bold'>pending_jobs</font></td><td>0</td></tr><tr><td><font style='font-weight:bold'>backend_version</font></td><td>1.0.1</td></tr><tr><td><font style='font-weight:bold'>basis_gates</font></td><td>['id', 'rz', 'sx', 'x', 'cx', 'reset']</td></tr><tr><td><font style='font-weight:bold'>max_shots</font></td><td>2048</td></tr><tr><td><font style='font-weight:bold'>max_experiments</font></td><td>4</td></tr></table>"
      }
     },
     "836e6903829c4732ad82a6138a1c2702": {
      "model_module": "@jupyter-widgets/base",
      "model_module_version": "1.2.0",
      "model_name": "LayoutModel",
      "state": {}
     },
     "83ad436a81944642b4015ebb029d0833": {
      "model_module": "@jupyter-widgets/base",
      "model_module_version": "1.2.0",
      "model_name": "LayoutModel",
      "state": {
       "grid_template_areas": "\n                                       \". . . . right \"\n                                        ",
       "grid_template_columns": "20% 20% 20% 20% 20%",
       "width": "100%"
      }
     },
     "83ec3a98b7234d9b97a0603dba8f6ca8": {
      "model_module": "@jupyter-widgets/base",
      "model_module_version": "1.2.0",
      "model_name": "LayoutModel",
      "state": {
       "margin": "0px 5px 0px 0px",
       "width": "32px"
      }
     },
     "844502b9d5e24ccb9a5f26853dde3532": {
      "model_module": "@jupyter-widgets/base",
      "model_module_version": "1.2.0",
      "model_name": "LayoutModel",
      "state": {
       "justify_content": "center"
      }
     },
     "8534c7f6072c425685fc128d73073efb": {
      "model_module": "@jupyter-widgets/controls",
      "model_module_version": "1.5.0",
      "model_name": "HTMLModel",
      "state": {
       "layout": "IPY_MODEL_2ebdc30761634d8686308a6cc5be7474",
       "style": "IPY_MODEL_ed2c576084904d28bc9288b1a278f6aa",
       "value": "<h5>0.0157</h5>"
      }
     },
     "85861c499bda497a913a9455eee5ce5e": {
      "model_module": "@jupyter-widgets/controls",
      "model_module_version": "1.5.0",
      "model_name": "DescriptionStyleModel",
      "state": {
       "description_width": ""
      }
     },
     "858b52905cdc4189b4ef86737a58dc82": {
      "model_module": "@jupyter-widgets/controls",
      "model_module_version": "1.5.0",
      "model_name": "HTMLModel",
      "state": {
       "layout": "IPY_MODEL_cdbfda79e0de48eaa0875193a821da14",
       "style": "IPY_MODEL_241107a29dcb4967b3b013f4c7d7a63b",
       "value": "<h5 style='color:#dc267f'>False</h5>"
      }
     },
     "85af20c9e2824d0d8a7bff89f72cbd2e": {
      "model_module": "@jupyter-widgets/base",
      "model_module_version": "1.2.0",
      "model_name": "LayoutModel",
      "state": {
       "margin": "10px 0px 0px 0px"
      }
     },
     "85d3c37b19044f07b94292886596debe": {
      "model_module": "@jupyter-widgets/base",
      "model_module_version": "1.2.0",
      "model_name": "LayoutModel",
      "state": {
       "justify_content": "center"
      }
     },
     "861dcef2c0a644dab167dd61723692b3": {
      "model_module": "@jupyter-widgets/base",
      "model_module_version": "1.2.0",
      "model_name": "LayoutModel",
      "state": {
       "margin": "5px 0px 0px 0px"
      }
     },
     "86f13d2d5a95487080ab8c89150ea847": {
      "model_module": "@jupyter-widgets/controls",
      "model_module_version": "1.5.0",
      "model_name": "HTMLModel",
      "state": {
       "layout": "IPY_MODEL_5e717d2fac0f42ae93984b531b89b62b",
       "style": "IPY_MODEL_254b51d980c94671af05f8ab4e8b1b14",
       "value": "<h5>0.0225</h5>"
      }
     },
     "87647af62809438ba4b410b3172e0d5b": {
      "model_module": "@jupyter-widgets/controls",
      "model_module_version": "1.5.0",
      "model_name": "DescriptionStyleModel",
      "state": {
       "description_width": ""
      }
     },
     "87c2139c8f694b849c5699ba7be5836f": {
      "model_module": "@jupyter-widgets/base",
      "model_module_version": "1.2.0",
      "model_name": "LayoutModel",
      "state": {
       "grid_area": "top"
      }
     },
     "87d35bb1f2034fc49f1ba293f0de7525": {
      "model_module": "@jupyter-widgets/controls",
      "model_module_version": "1.5.0",
      "model_name": "VBoxModel",
      "state": {
       "children": [
        "IPY_MODEL_f5d190a6b140496fb21b05422ea67e84",
        "IPY_MODEL_165fd55ead4e4f808c2b0bcd89f9e3b3",
        "IPY_MODEL_2d0124515c474a52a2e8fefd05603db8",
        "IPY_MODEL_4d89977af7f0406eb5936b49b71f8458",
        "IPY_MODEL_b15c555f117b4d47a716af05a7a511b7",
        "IPY_MODEL_1e0e675abc60419686de27fdc4569f4e",
        "IPY_MODEL_858b52905cdc4189b4ef86737a58dc82",
        "IPY_MODEL_79cc74ddef5a45a6a289ebb30684f8ba",
        "IPY_MODEL_9fce2739e7f44c1bb610976603cd5df0",
        "IPY_MODEL_99b9c4e690db4477bb7ee858d3bf7d2a"
       ],
       "layout": "IPY_MODEL_ea1aac279a7049aa94fcc12e3cf35f48"
      }
     },
     "883898b967a84a20b39db84272707b78": {
      "model_module": "@jupyter-widgets/controls",
      "model_module_version": "1.5.0",
      "model_name": "HTMLModel",
      "state": {
       "layout": "IPY_MODEL_2258c73f22bc4416ad54d459046bc4d2",
       "style": "IPY_MODEL_e559643a9abb4b079d636c92f74b1a3c",
       "value": "<h4>ibmq_bogota</h4>"
      }
     },
     "884a2eac4de84dc79dc381331a0a8f2b": {
      "model_module": "@jupyter-widgets/base",
      "model_module_version": "1.2.0",
      "model_name": "LayoutModel",
      "state": {
       "justify_content": "center"
      }
     },
     "886cb6f431854ceeb7121cd943b99084": {
      "model_module": "@jupyter-widgets/controls",
      "model_module_version": "1.5.0",
      "model_name": "DescriptionStyleModel",
      "state": {
       "description_width": ""
      }
     },
     "88a7a549940542eba7761af85333212c": {
      "model_module": "@jupyter-widgets/controls",
      "model_module_version": "1.5.0",
      "model_name": "HTMLModel",
      "state": {
       "layout": "IPY_MODEL_884a2eac4de84dc79dc381331a0a8f2b",
       "style": "IPY_MODEL_7d815bbc339a47edb901e17fc388645a",
       "value": "<h5 style='color:#34bc6e'>True</h5>"
      }
     },
     "88d769392a2e41369de558fcefa219eb": {
      "model_module": "@jupyter-widgets/controls",
      "model_module_version": "1.5.0",
      "model_name": "GridBoxModel",
      "state": {
       "children": [
        "IPY_MODEL_5adde87523794b4d97f981d46ff0d706",
        "IPY_MODEL_cbd5295b5a4f41f5b0f79a258e7aba6c",
        "IPY_MODEL_6f8e2862f9e2479c9307b4b403c7438a",
        "IPY_MODEL_b40f6d86b7b040a1840f709879bdae47"
       ],
       "layout": "IPY_MODEL_ff990e542dbe43998e68da6272bf5023"
      }
     },
     "8940f7ef55464f7197ca876fc74a5818": {
      "model_module": "@jupyter-widgets/controls",
      "model_module_version": "1.5.0",
      "model_name": "DescriptionStyleModel",
      "state": {
       "description_width": ""
      }
     },
     "8a1a0300b39d4c94b12f932de312a699": {
      "model_module": "@jupyter-widgets/controls",
      "model_module_version": "1.5.0",
      "model_name": "HTMLModel",
      "state": {
       "layout": "IPY_MODEL_63d4d368d0074ac780956fade9ff3310",
       "style": "IPY_MODEL_3d4463cbb73048f7ad915e984e31ae01",
       "value": "<h5>32</h5>"
      }
     },
     "8a1e2b9ec8d34e36afa35b9b69316c0d": {
      "model_module": "@jupyter-widgets/base",
      "model_module_version": "1.2.0",
      "model_name": "LayoutModel",
      "state": {
       "overflow_x": "scroll"
      }
     },
     "8a68257f301340368c935e015a8f7a79": {
      "model_module": "@jupyter-widgets/controls",
      "model_module_version": "1.5.0",
      "model_name": "HTMLModel",
      "state": {
       "layout": "IPY_MODEL_0617487bd88f4eedbb0abe226b866913",
       "style": "IPY_MODEL_6af027e1498e421997cf07199e37c0b4",
       "value": "<h5><b>5</b></h5>"
      }
     },
     "8a6c4cbf59fc4206a1ddc1fd64ffd6e9": {
      "model_module": "@jupyter-widgets/controls",
      "model_module_version": "1.5.0",
      "model_name": "HTMLModel",
      "state": {
       "layout": "IPY_MODEL_b5792f2149234ea385e6704b2d13d822",
       "style": "IPY_MODEL_df2da0f0aa53479fb696b4c5c0a7b37a",
       "value": "<h5 style='color:#dc267f'>False</h5>"
      }
     },
     "8b2699b26e474f6da8c305c463c16f78": {
      "model_module": "@jupyter-widgets/controls",
      "model_module_version": "1.5.0",
      "model_name": "DescriptionStyleModel",
      "state": {
       "description_width": ""
      }
     },
     "8bec3ba8f2844020b70f509faef33e75": {
      "model_module": "@jupyter-widgets/controls",
      "model_module_version": "1.5.0",
      "model_name": "DescriptionStyleModel",
      "state": {
       "description_width": ""
      }
     },
     "8c08b7e5946646658f1ed0560648e615": {
      "model_module": "@jupyter-widgets/controls",
      "model_module_version": "1.5.0",
      "model_name": "HTMLModel",
      "state": {
       "layout": "IPY_MODEL_96cd3a1814d441a1ad0240be3df27604",
       "style": "IPY_MODEL_e060978d882c4c6eb0538ea1a887ad04",
       "value": "<h5>Backend</h5>"
      }
     },
     "8c164c8227e44d0c89df454f22ab7db4": {
      "model_module": "@jupyter-widgets/controls",
      "model_module_version": "1.5.0",
      "model_name": "LabelModel",
      "state": {
       "layout": "IPY_MODEL_85af20c9e2824d0d8a7bff89f72cbd2e",
       "style": "IPY_MODEL_1f4b4b81fca64ccab7e9c2da1510c6c8",
       "value": "Least Busy"
      }
     },
     "8cf3469a6ea343ff8b24672db54eadaa": {
      "model_module": "@jupyter-widgets/base",
      "model_module_version": "1.2.0",
      "model_name": "LayoutModel",
      "state": {
       "justify_content": "center"
      }
     },
     "8d2082070de8475e8a467b665e51722e": {
      "model_module": "@jupyter-widgets/controls",
      "model_module_version": "1.5.0",
      "model_name": "HTMLModel",
      "state": {
       "layout": "IPY_MODEL_9b68ae26848b440197ce38230be25f21",
       "style": "IPY_MODEL_eff9c03ac6a7498092ba21cc90212b62",
       "value": "<h5><b>1</b></h5>"
      }
     },
     "8deab680c7a548cd832465f7929d3d6d": {
      "model_module": "@jupyter-widgets/base",
      "model_module_version": "1.2.0",
      "model_name": "LayoutModel",
      "state": {}
     },
     "8e17cb1b153747c18844976c71ef5fa2": {
      "model_module": "@jupyter-widgets/controls",
      "model_module_version": "1.5.0",
      "model_name": "DescriptionStyleModel",
      "state": {
       "description_width": ""
      }
     },
     "8e535a810a2a43f497bd776f07ade778": {
      "model_module": "@jupyter-widgets/controls",
      "model_module_version": "1.5.0",
      "model_name": "DescriptionStyleModel",
      "state": {
       "description_width": ""
      }
     },
     "8f0b4784ea234e79bd9460c56afd92ae": {
      "model_module": "@jupyter-widgets/controls",
      "model_module_version": "1.5.0",
      "model_name": "DescriptionStyleModel",
      "state": {
       "description_width": ""
      }
     },
     "8ff18ed131664f4f8d1a9f21297f6735": {
      "model_module": "@jupyter-widgets/controls",
      "model_module_version": "1.5.0",
      "model_name": "HTMLModel",
      "state": {
       "layout": "IPY_MODEL_9cde2ff5c7f7486088069a0c42adb772",
       "style": "IPY_MODEL_518a728bf7084d57ab3578c11e01de59",
       "value": "<h4>ibmq_armonk</h4>"
      }
     },
     "90341bb0d94b424f8abbfffc51d5c140": {
      "model_module": "@jupyter-widgets/controls",
      "model_module_version": "1.5.0",
      "model_name": "HTMLModel",
      "state": {
       "layout": "IPY_MODEL_1cc19a43511147e5ad1e6b0ad5d12ade",
       "style": "IPY_MODEL_c9ae666e4fac4b1db5b74f274d100b16",
       "value": "<h5 style='color:#dc267f'>False</h5>"
      }
     },
     "918af853f96e4f6ebee66ce795de1fa0": {
      "model_module": "@jupyter-widgets/base",
      "model_module_version": "1.2.0",
      "model_name": "LayoutModel",
      "state": {
       "align_items": "center",
       "display": "inline-flex",
       "flex_flow": "column"
      }
     },
     "91fd32a27efe47fd9b3d7ab963ca4aa5": {
      "model_module": "@jupyter-widgets/base",
      "model_module_version": "1.2.0",
      "model_name": "LayoutModel",
      "state": {
       "align_items": "center",
       "display": "inline-flex",
       "flex_flow": "column"
      }
     },
     "934884d4940546ef8a24779703face6f": {
      "model_module": "@jupyter-widgets/controls",
      "model_module_version": "1.5.0",
      "model_name": "HTMLModel",
      "state": {
       "layout": "IPY_MODEL_14b879c5cc78444d9c0534bae9cbf995",
       "style": "IPY_MODEL_7b78457d14f9403dbca1cdcfcf16b138",
       "value": "<h5>0.0211</h5>"
      }
     },
     "94215f177b274dcfb3a518d2fb474360": {
      "model_module": "@jupyter-widgets/base",
      "model_module_version": "1.2.0",
      "model_name": "LayoutModel",
      "state": {}
     },
     "945e487141e649f68b1640dde2259a14": {
      "model_module": "@jupyter-widgets/controls",
      "model_module_version": "1.5.0",
      "model_name": "VBoxModel",
      "state": {
       "children": [
        "IPY_MODEL_24626fbcac69435abed627883f6d84c2",
        "IPY_MODEL_bce32c110f0947b59660e59a4e959772"
       ],
       "layout": "IPY_MODEL_6e7308b340bb479e9b72f83fae32e84f"
      }
     },
     "94b6c585de9b471aa3e204471e914cae": {
      "model_module": "@jupyter-widgets/controls",
      "model_module_version": "1.5.0",
      "model_name": "ProgressStyleModel",
      "state": {
       "bar_color": "#71cddd",
       "description_width": ""
      }
     },
     "94c68a4765ba4a3da6297bda97edac93": {
      "model_module": "@jupyter-widgets/controls",
      "model_module_version": "1.5.0",
      "model_name": "DescriptionStyleModel",
      "state": {
       "description_width": ""
      }
     },
     "9513ce9fb38045e0ae8856b77cac8f0c": {
      "model_module": "@jupyter-widgets/controls",
      "model_module_version": "1.5.0",
      "model_name": "HTMLModel",
      "state": {
       "layout": "IPY_MODEL_80fc0e36e91b40c181e399740bdd6ed3",
       "style": "IPY_MODEL_ecc6ac08c3f848758e042d8bc492c9c4",
       "value": "6144d66f8eca755c2942d4a2"
      }
     },
     "9631866aa7ce4d4189b270309e9f2be7": {
      "model_module": "@jupyter-widgets/base",
      "model_module_version": "1.2.0",
      "model_name": "LayoutModel",
      "state": {
       "justify_content": "center"
      }
     },
     "96cd3a1814d441a1ad0240be3df27604": {
      "model_module": "@jupyter-widgets/base",
      "model_module_version": "1.2.0",
      "model_name": "LayoutModel",
      "state": {
       "width": "145px"
      }
     },
     "96e455b54467414fa156338a57e1bb72": {
      "model_module": "@jupyter-widgets/controls",
      "model_module_version": "1.5.0",
      "model_name": "HTMLModel",
      "state": {
       "layout": "IPY_MODEL_fc5dc43123cb42b5a75ee8c2b56ab568",
       "style": "IPY_MODEL_dd053ccfed404290af4f23bafde10e5a",
       "value": "<h5>0.0069</h5>"
      }
     },
     "971b63e46dd442d9825ac61bde3d05a0": {
      "model_module": "@jupyter-widgets/base",
      "model_module_version": "1.2.0",
      "model_name": "LayoutModel",
      "state": {
       "max_width": "180px"
      }
     },
     "97318411437b48a3a2f0e2dd95b2fcbf": {
      "model_module": "@jupyter-widgets/base",
      "model_module_version": "1.2.0",
      "model_name": "LayoutModel",
      "state": {
       "grid_area": "middle"
      }
     },
     "9785dd9c891d41a38c975d85f4c108e3": {
      "model_module": "@jupyter-widgets/base",
      "model_module_version": "1.2.0",
      "model_name": "LayoutModel",
      "state": {}
     },
     "97e5f616a0ad466891447982f1b3b55f": {
      "model_module": "@jupyter-widgets/controls",
      "model_module_version": "1.5.0",
      "model_name": "DescriptionStyleModel",
      "state": {
       "description_width": ""
      }
     },
     "985b1bfea5854f2aa41e24eee4af0168": {
      "model_module": "@jupyter-widgets/controls",
      "model_module_version": "1.5.0",
      "model_name": "DescriptionStyleModel",
      "state": {
       "description_width": ""
      }
     },
     "98c4df0098d644498522c82a9bdd7f82": {
      "model_module": "@jupyter-widgets/controls",
      "model_module_version": "1.5.0",
      "model_name": "LabelModel",
      "state": {
       "layout": "IPY_MODEL_d25f9a0b68fe4be496c45dc50125650d",
       "style": "IPY_MODEL_f2a6d760c56345e6aa9082c57137cfb4",
       "value": "Pending Jobs"
      }
     },
     "99b0e79abda74137a847e69e9099c82e": {
      "model_module": "@jupyter-widgets/controls",
      "model_module_version": "1.5.0",
      "model_name": "DescriptionStyleModel",
      "state": {
       "description_width": ""
      }
     },
     "99b9c4e690db4477bb7ee858d3bf7d2a": {
      "model_module": "@jupyter-widgets/controls",
      "model_module_version": "1.5.0",
      "model_name": "HTMLModel",
      "state": {
       "layout": "IPY_MODEL_3b78b9ab4e614757b2d3f4def4959c65",
       "style": "IPY_MODEL_97e5f616a0ad466891447982f1b3b55f",
       "value": "<h5>0.0346</h5>"
      }
     },
     "9b68ae26848b440197ce38230be25f21": {
      "model_module": "@jupyter-widgets/base",
      "model_module_version": "1.2.0",
      "model_name": "LayoutModel",
      "state": {
       "justify_content": "center"
      }
     },
     "9c1071d27df4473c8a0ef16d6cc93359": {
      "model_module": "@jupyter-widgets/controls",
      "model_module_version": "1.5.0",
      "model_name": "HTMLModel",
      "state": {
       "layout": "IPY_MODEL_a41438005bd24834ac2f37cf860e021a",
       "style": "IPY_MODEL_dc31eae3abae4b4c88b76694afdf2c37",
       "value": "<h4>ibmq_manila</h4>"
      }
     },
     "9cde2ff5c7f7486088069a0c42adb772": {
      "model_module": "@jupyter-widgets/base",
      "model_module_version": "1.2.0",
      "model_name": "LayoutModel",
      "state": {}
     },
     "9d0a4fee591d4d85969776c0db303ae8": {
      "model_module": "@jupyter-widgets/controls",
      "model_module_version": "1.5.0",
      "model_name": "LabelModel",
      "state": {
       "layout": "IPY_MODEL_7a78233e09414d589c255e3db7fbf107",
       "style": "IPY_MODEL_1666462dfe4e494098369c7432aa2a8d",
       "value": "50"
      }
     },
     "9d3ac894575f477dafac1b645f52936e": {
      "model_module": "@jupyter-widgets/controls",
      "model_module_version": "1.5.0",
      "model_name": "DescriptionStyleModel",
      "state": {
       "description_width": ""
      }
     },
     "9f6d65ed95c747a18d5ef39248235394": {
      "model_module": "@jupyter-widgets/base",
      "model_module_version": "1.2.0",
      "model_name": "LayoutModel",
      "state": {}
     },
     "9fce2739e7f44c1bb610976603cd5df0": {
      "model_module": "@jupyter-widgets/controls",
      "model_module_version": "1.5.0",
      "model_name": "HTMLModel",
      "state": {
       "layout": "IPY_MODEL_b90093ae08894a46becc3ebfc7c7703f",
       "style": "IPY_MODEL_8e17cb1b153747c18844976c71ef5fa2",
       "value": "<h5>0.0097</h5>"
      }
     },
     "9fdfc84b3b0e496384f62cc0ff206118": {
      "model_module": "@jupyter-widgets/base",
      "model_module_version": "1.2.0",
      "model_name": "LayoutModel",
      "state": {
       "justify_content": "center"
      }
     },
     "a01973d45d614a89838ff8666c44176f": {
      "model_module": "@jupyter-widgets/output",
      "model_module_version": "1.0.0",
      "model_name": "OutputModel",
      "state": {
       "layout": "IPY_MODEL_14514dde77484398b82c3e6f1b5db15c",
       "outputs": [
        {
         "data": {
          "image/png": "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\n",
          "text/plain": "<Figure size 792x648 with 5 Axes>"
         },
         "metadata": {},
         "output_type": "display_data"
        }
       ]
      }
     },
     "a200cca5f917438081c8afcc50fd5607": {
      "model_module": "@jupyter-widgets/controls",
      "model_module_version": "1.5.0",
      "model_name": "IntProgressModel",
      "state": {
       "layout": "IPY_MODEL_fadc9892080148c09c30c1c64a15c159",
       "max": 50,
       "style": "IPY_MODEL_e84c512305e042fda94ea05e3eafe335",
       "value": 29
      }
     },
     "a2208a99b14d42b7a118d4ce2dcd4a0b": {
      "model_module": "@jupyter-widgets/controls",
      "model_module_version": "1.5.0",
      "model_name": "HTMLModel",
      "state": {
       "layout": "IPY_MODEL_9631866aa7ce4d4189b270309e9f2be7",
       "style": "IPY_MODEL_221969a3ec464d94b45f8946cd2214f1",
       "value": "<h5><b>5</b></h5>"
      }
     },
     "a31858c40e2f4290a56afbbc63777010": {
      "model_module": "@jupyter-widgets/controls",
      "model_module_version": "1.5.0",
      "model_name": "HTMLModel",
      "state": {
       "layout": "IPY_MODEL_a32ffc1c540e4b96a74d412c75966c6f",
       "style": "IPY_MODEL_87647af62809438ba4b410b3172e0d5b",
       "value": "<h5 style='color:#34bc6e'>True</h5>"
      }
     },
     "a32ffc1c540e4b96a74d412c75966c6f": {
      "model_module": "@jupyter-widgets/base",
      "model_module_version": "1.2.0",
      "model_name": "LayoutModel",
      "state": {
       "justify_content": "center"
      }
     },
     "a34e048473c248bb8844356bca17fb68": {
      "model_module": "@jupyter-widgets/controls",
      "model_module_version": "1.5.0",
      "model_name": "DescriptionStyleModel",
      "state": {
       "description_width": ""
      }
     },
     "a3e05ada0501448d906d37eef40ed079": {
      "model_module": "@jupyter-widgets/base",
      "model_module_version": "1.2.0",
      "model_name": "LayoutModel",
      "state": {
       "align_items": "center",
       "display": "flex-inline",
       "grid_area": "right",
       "max_height": "325px",
       "padding": "10px 10px 10px 10px",
       "width": "auto"
      }
     },
     "a41438005bd24834ac2f37cf860e021a": {
      "model_module": "@jupyter-widgets/base",
      "model_module_version": "1.2.0",
      "model_name": "LayoutModel",
      "state": {}
     },
     "a4db18b309d54135af7d2b754f7980dc": {
      "model_module": "@jupyter-widgets/controls",
      "model_module_version": "1.5.0",
      "model_name": "HTMLModel",
      "state": {
       "layout": "IPY_MODEL_616b9d29250840ccb728453dba34f210",
       "style": "IPY_MODEL_0387d997a2f94190a411844ad4dec46c",
       "value": "6144d65923a3f6f1f89a76a4"
      }
     },
     "a4e9ed53d486479bb6a66d49ccb106a5": {
      "model_module": "@jupyter-widgets/controls",
      "model_module_version": "1.5.0",
      "model_name": "HTMLModel",
      "state": {
       "layout": "IPY_MODEL_068d05c542fa4c208ac7d8483916afd3",
       "style": "IPY_MODEL_4a24f6e07cb0478d92fac2102d1bfd4e",
       "value": "<h5 style='color:#34bc6e'>True</h5>"
      }
     },
     "a64166a8648f4878b1f0307409fd4fb5": {
      "model_module": "@jupyter-widgets/controls",
      "model_module_version": "1.5.0",
      "model_name": "DescriptionStyleModel",
      "state": {
       "description_width": ""
      }
     },
     "a6578e9dc2ac4bc2b026b5ec653df575": {
      "model_module": "@jupyter-widgets/controls",
      "model_module_version": "1.5.0",
      "model_name": "ButtonModel",
      "state": {
       "icon": "close",
       "layout": "IPY_MODEL_c1d0ead4de93421a849228d64c8f84c6",
       "style": "IPY_MODEL_d984db8399cd4838acb2340a2318bdb8"
      }
     },
     "a7122f3e9b2f488a9b1d02818043a43a": {
      "model_module": "@jupyter-widgets/controls",
      "model_module_version": "1.5.0",
      "model_name": "VBoxModel",
      "state": {
       "children": [
        "IPY_MODEL_883898b967a84a20b39db84272707b78",
        "IPY_MODEL_bae71ba84570488797b8a55d08bd06fb",
        "IPY_MODEL_4eff67d377b64a9e8483c30a56c49722",
        "IPY_MODEL_ff5e51d57ec24539b748d0cc05a4d01d",
        "IPY_MODEL_776a46eb757040298987e908032920cc",
        "IPY_MODEL_4fbe74e8ac2e43f89361646082f3db59",
        "IPY_MODEL_4136f519503148a0b2294df0f91f49e2",
        "IPY_MODEL_3bb4e430af80424eaa4fd2e75c18681f",
        "IPY_MODEL_4f6c0e5129e64fceb670fd7005d2df12",
        "IPY_MODEL_934884d4940546ef8a24779703face6f"
       ],
       "layout": "IPY_MODEL_91fd32a27efe47fd9b3d7ab963ca4aa5"
      }
     },
     "a762573a2d174577b5cd93b443975918": {
      "model_module": "@jupyter-widgets/controls",
      "model_module_version": "1.5.0",
      "model_name": "VBoxModel",
      "state": {
       "children": [
        "IPY_MODEL_d57263a3cad64f43b8e7914743b73361",
        "IPY_MODEL_d32c6728de0248ee80fdebf9f3cd5e3a",
        "IPY_MODEL_794754198b36450081347bc4cd69dd30",
        "IPY_MODEL_8a1a0300b39d4c94b12f932de312a699",
        "IPY_MODEL_69bda2d5646d4ad0a5e2f7021f2ca4a1",
        "IPY_MODEL_a31858c40e2f4290a56afbbc63777010",
        "IPY_MODEL_0713b448bf7b47df90ed8bdb9e9829c9",
        "IPY_MODEL_ec2aa08c277f41fa80af1693519e567d",
        "IPY_MODEL_3815437f738f4cc9aae91ee3610f16f4",
        "IPY_MODEL_63cb0a02027b4db5960900b736b021b5"
       ],
       "layout": "IPY_MODEL_4f0e36dd64584fab8f05b00eca7c28ec"
      }
     },
     "a7b05df901a5440188518f48c0790ffd": {
      "model_module": "@jupyter-widgets/controls",
      "model_module_version": "1.5.0",
      "model_name": "LabelModel",
      "state": {
       "layout": "IPY_MODEL_2a008417da264732a489faefa0212b51",
       "style": "IPY_MODEL_6829f0800c8d4ff79bb92c3202c0f013",
       "value": "6"
      }
     },
     "a8bffc53924f4fb2bdf9c887c2f06620": {
      "model_module": "@jupyter-widgets/controls",
      "model_module_version": "1.5.0",
      "model_name": "DescriptionStyleModel",
      "state": {
       "description_width": ""
      }
     },
     "a9006c1ae5b443debf4430a39279adc0": {
      "model_module": "@jupyter-widgets/controls",
      "model_module_version": "1.5.0",
      "model_name": "IntProgressModel",
      "state": {
       "layout": "IPY_MODEL_6df438b6c30b494f9fbce8367cfd7d9e",
       "max": 165,
       "style": "IPY_MODEL_00bccfc019bf421bb2d15a80663b413a",
       "value": 155
      }
     },
     "a91b12910b4e4bb39cf4a447a6d20553": {
      "model_module": "@jupyter-widgets/controls",
      "model_module_version": "1.5.0",
      "model_name": "ProgressStyleModel",
      "state": {
       "bar_color": "#71cddd",
       "description_width": ""
      }
     },
     "a92632d570234b66988527652b0c637a": {
      "model_module": "@jupyter-widgets/base",
      "model_module_version": "1.2.0",
      "model_name": "LayoutModel",
      "state": {}
     },
     "a9e10e5887ce44a098e3faa9bd15bd2e": {
      "model_module": "@jupyter-widgets/base",
      "model_module_version": "1.2.0",
      "model_name": "LayoutModel",
      "state": {
       "grid_area": "left"
      }
     },
     "ab89e3f9e0d04828a4aa984b9af287f0": {
      "model_module": "@jupyter-widgets/controls",
      "model_module_version": "1.5.0",
      "model_name": "HTMLMathModel",
      "state": {
       "layout": "IPY_MODEL_57cf7d33691746f39601627f36d296ad",
       "style": "IPY_MODEL_e4f368e734fc40b28b929d8e8638fbca",
       "value": "<table><style>\ntable {\n    border-collapse: collapse;\n    width: auto;\n}\n\nth, td {\n    text-align: left;\n    padding: 8px;\n}\n\ntr:nth-child(even) {background-color: #f6f6f6;}\n</style><tr><th></th><th></th></tr><tr><td>discriminators</td><td>['hw_qmfk', 'quadratic_discriminator', 'linear_discriminator']</td></tr><tr><td>conditional_latency</td><td>[]</td></tr><tr><td>processor_type</td><td>{'family': 'Falcon', 'revision': '5.11', 'segment': 'H'}</td></tr><tr><td>pulse_num_qubits</td><td>3</td></tr><tr><td>url</td><td>None</td></tr><tr><td>pulse_num_channels</td><td>9</td></tr><tr><td>meas_lo_range</td><td>[[6.663115502, 7.663115502], [6.6164476510000005, 7.6164476510000005], [6.84928468, 7.84928468], [6.719581694, 7.719581694], [6.637153809000001, 7.637153809000001], [6.78180398, 7.78180398], [6.6522457170000004, 7.6522457170000004]]</td></tr><tr><td>conditional</td><td>False</td></tr><tr><td>timing_constraints</td><td>{'acquire_alignment': 16, 'granularity': 16, 'min_length': 64, 'pulse_alignment': 1}</td></tr><tr><td>online_date</td><td>2021-07-22 04:00:00+00:00</td></tr><tr><td>allow_object_storage</td><td>True</td></tr><tr><td>simulator</td><td>False</td></tr><tr><td>dt</td><td>0.2222222222222222</td></tr><tr><td>dynamic_reprate_enabled</td><td>True</td></tr><tr><td>default_rep_delay</td><td>250.0</td></tr><tr><td>backend_name</td><td>ibm_perth</td></tr><tr><td>input_allowed</td><td>['job', 'runtime']</td></tr><tr><td>measure_esp_enabled</td><td>True</td></tr><tr><td>open_pulse</td><td>False</td></tr><tr><td>dtm</td><td>0.2222222222222222</td></tr><tr><td>meas_levels</td><td>[1, 2]</td></tr><tr><td>supported_instructions</td><td>['reset', 'rz', 'u3', 'setf', 'sx', 'shiftf', 'u2', 'measure', 'u1', 'play', 'acquire', 'id', 'delay', 'cx', 'x']</td></tr><tr><td>credits_required</td><td>True</td></tr><tr><td>sample_name</td><td>family: Falcon, revision: 5.11, segment: H</td></tr><tr><td>coupling_map</td><td>[[0, 1], [1, 0], [1, 2], [1, 3], [2, 1], [3, 1], [3, 5], [4, 5], [5, 3], [5, 4], [5, 6], [6, 5]]</td></tr><tr><td>n_registers</td><td>1</td></tr><tr><td>meas_map</td><td>[[0, 1, 2, 3, 4, 5, 6]]</td></tr><tr><td>rep_delay_range</td><td>[0.0, 500.0]</td></tr><tr><td>uchannels_enabled</td><td>True</td></tr><tr><td>u_channel_lo</td><td>[[{'q': 1, 'scale': (1+0j)}], [{'q': 0, 'scale': (1+0j)}], [{'q': 2, 'scale': (1+0j)}], [{'q': 3, 'scale': (1+0j)}], [{'q': 1, 'scale': (1+0j)}], [{'q': 1, 'scale': (1+0j)}], [{'q': 5, 'scale': (1+0j)}], [{'q': 5, 'scale': (1+0j)}], [{'q': 3, 'scale': (1+0j)}], [{'q': 4, 'scale': (1+0j)}], [{'q': 6, 'scale': (1+0j)}], [{'q': 5, 'scale': (1+0j)}]]</td></tr><tr><td>hamiltonian</td><td>$$\\begin{align} \\mathcal{H}/\\hbar = & \\sum_{i=0}^{6}\\left(\\frac{\\omega_{q,i}}{2}(\\mathbb{I}-\\sigma_i^{z})+\\frac{\\Delta_{i}}{2}(O_i^2-O_i)+\\Omega_{d,i}D_i(t)\\sigma_i^{X}\\right) \\\\ & + J_{0,1}(\\sigma_{0}^{+}\\sigma_{1}^{-}+\\sigma_{0}^{-}\\sigma_{1}^{+}) + J_{1,2}(\\sigma_{1}^{+}\\sigma_{2}^{-}+\\sigma_{1}^{-}\\sigma_{2}^{+}) + J_{4,5}(\\sigma_{4}^{+}\\sigma_{5}^{-}+\\sigma_{4}^{-}\\sigma_{5}^{+}) + J_{5,6}(\\sigma_{5}^{+}\\sigma_{6}^{-}+\\sigma_{5}^{-}\\sigma_{6}^{+}) \\\\ & + J_{1,3}(\\sigma_{1}^{+}\\sigma_{3}^{-}+\\sigma_{1}^{-}\\sigma_{3}^{+}) + J_{3,5}(\\sigma_{3}^{+}\\sigma_{5}^{-}+\\sigma_{3}^{-}\\sigma_{5}^{+}) \\\\ & + \\Omega_{d,0}(U_{0}^{(0,1)}(t))\\sigma_{0}^{X} + \\Omega_{d,1}(U_{1}^{(1,0)}(t)+U_{3}^{(1,3)}(t)+U_{2}^{(1,2)}(t))\\sigma_{1}^{X} \\\\ & + \\Omega_{d,2}(U_{4}^{(2,1)}(t))\\sigma_{2}^{X} + \\Omega_{d,3}(U_{5}^{(3,1)}(t)+U_{6}^{(3,5)}(t))\\sigma_{3}^{X} \\\\ & + \\Omega_{d,4}(U_{7}^{(4,5)}(t))\\sigma_{4}^{X} + \\Omega_{d,5}(U_{8}^{(5,3)}(t)+U_{10}^{(5,6)}(t)+U_{9}^{(5,4)}(t))\\sigma_{5}^{X} \\\\ & + \\Omega_{d,6}(U_{11}^{(6,5)}(t))\\sigma_{6}^{X} \\\\ \\end{align}$$</td></tr><tr><td>multi_meas_enabled</td><td>True</td></tr><tr><td>qubit_lo_range</td><td>[[4.657376629642582, 5.657376629642583], [4.534332707062122, 5.534332707062122], [4.3618534677005245, 5.3618534677005245], [4.624421083363654, 5.624421083363654], [4.659598348055078, 5.659598348055078], [4.478862044737472, 5.478862044737472], [4.656659109815938, 5.656659109815938]]</td></tr><tr><td>memory</td><td>True</td></tr><tr><td>meas_kernels</td><td>['hw_qmfk']</td></tr><tr><td>local</td><td>False</td></tr><tr><td>parametric_pulses</td><td>['gaussian', 'gaussian_square', 'drag', 'constant']</td></tr><tr><td>rep_times</td><td>[1000.0]</td></tr><tr><td>qubit_channel_mapping</td><td>[['d0', 'u0', 'u1', 'm0'], ['u0', 'u3', 'm1', 'd1', 'u5', 'u2', 'u1', 'u4'], ['u4', 'u2', 'd2', 'm2'], ['u3', 'u8', 'u5', 'm3', 'd3', 'u6'], ['m4', 'd4', 'u9', 'u7'], ['u9', 'u6', 'd5', 'm5', 'u10', 'u11', 'u7', 'u8'], ['m6', 'u11', 'u10', 'd6']]</td></tr><tr><td>n_uchannels</td><td>12</td></tr><tr><td>description</td><td>7 qubit device</td></tr><tr><td>channels</td><td>{'acquire0': {'operates': {'qubits': [0]}, 'purpose': 'acquire', 'type': 'acquire'}, 'acquire1': {'operates': {'qubits': [1]}, 'purpose': 'acquire', 'type': 'acquire'}, 'acquire2': {'operates': {'qubits': [2]}, 'purpose': 'acquire', 'type': 'acquire'}, 'acquire3': {'operates': {'qubits': [3]}, 'purpose': 'acquire', 'type': 'acquire'}, 'acquire4': {'operates': {'qubits': [4]}, 'purpose': 'acquire', 'type': 'acquire'}, 'acquire5': {'operates': {'qubits': [5]}, 'purpose': 'acquire', 'type': 'acquire'}, 'acquire6': {'operates': {'qubits': [6]}, 'purpose': 'acquire', 'type': 'acquire'}, 'd0': {'operates': {'qubits': [0]}, 'purpose': 'drive', 'type': 'drive'}, 'd1': {'operates': {'qubits': [1]}, 'purpose': 'drive', 'type': 'drive'}, 'd2': {'operates': {'qubits': [2]}, 'purpose': 'drive', 'type': 'drive'}, 'd3': {'operates': {'qubits': [3]}, 'purpose': 'drive', 'type': 'drive'}, 'd4': {'operates': {'qubits': [4]}, 'purpose': 'drive', 'type': 'drive'}, 'd5': {'operates': {'qubits': [5]}, 'purpose': 'drive', 'type': 'drive'}, 'd6': {'operates': {'qubits': [6]}, 'purpose': 'drive', 'type': 'drive'}, 'm0': {'operates': {'qubits': [0]}, 'purpose': 'measure', 'type': 'measure'}, 'm1': {'operates': {'qubits': [1]}, 'purpose': 'measure', 'type': 'measure'}, 'm2': {'operates': {'qubits': [2]}, 'purpose': 'measure', 'type': 'measure'}, 'm3': {'operates': {'qubits': [3]}, 'purpose': 'measure', 'type': 'measure'}, 'm4': {'operates': {'qubits': [4]}, 'purpose': 'measure', 'type': 'measure'}, 'm5': {'operates': {'qubits': [5]}, 'purpose': 'measure', 'type': 'measure'}, 'm6': {'operates': {'qubits': [6]}, 'purpose': 'measure', 'type': 'measure'}, 'u0': {'operates': {'qubits': [0, 1]}, 'purpose': 'cross-resonance', 'type': 'control'}, 'u1': {'operates': {'qubits': [1, 0]}, 'purpose': 'cross-resonance', 'type': 'control'}, 'u10': {'operates': {'qubits': [5, 6]}, 'purpose': 'cross-resonance', 'type': 'control'}, 'u11': {'operates': {'qubits': [6, 5]}, 'purpose': 'cross-resonance', 'type': 'control'}, 'u2': {'operates': {'qubits': [1, 2]}, 'purpose': 'cross-resonance', 'type': 'control'}, 'u3': {'operates': {'qubits': [1, 3]}, 'purpose': 'cross-resonance', 'type': 'control'}, 'u4': {'operates': {'qubits': [2, 1]}, 'purpose': 'cross-resonance', 'type': 'control'}, 'u5': {'operates': {'qubits': [3, 1]}, 'purpose': 'cross-resonance', 'type': 'control'}, 'u6': {'operates': {'qubits': [3, 5]}, 'purpose': 'cross-resonance', 'type': 'control'}, 'u7': {'operates': {'qubits': [4, 5]}, 'purpose': 'cross-resonance', 'type': 'control'}, 'u8': {'operates': {'qubits': [5, 3]}, 'purpose': 'cross-resonance', 'type': 'control'}, 'u9': {'operates': {'qubits': [5, 4]}, 'purpose': 'cross-resonance', 'type': 'control'}}</td></tr><tr><td>acquisition_latency</td><td>[]</td></tr><tr><td>allow_q_object</td><td>True</td></tr></table>"
      }
     },
     "ad1f15a973444429af6feada42597bff": {
      "model_module": "@jupyter-widgets/controls",
      "model_module_version": "1.5.0",
      "model_name": "HTMLModel",
      "state": {
       "layout": "IPY_MODEL_11c1f05f386d42f486a1fa838f7b6783",
       "style": "IPY_MODEL_8e535a810a2a43f497bd776f07ade778",
       "value": "<h5>16</h5>"
      }
     },
     "adbddcd138c14d52855d3d1c9689e4f7": {
      "model_module": "@jupyter-widgets/controls",
      "model_module_version": "1.5.0",
      "model_name": "DescriptionStyleModel",
      "state": {
       "description_width": ""
      }
     },
     "ae2878cc686f4135b6c7a367268f7223": {
      "model_module": "@jupyter-widgets/controls",
      "model_module_version": "1.5.0",
      "model_name": "HTMLModel",
      "state": {
       "layout": "IPY_MODEL_d6fc2790e92d462cb2db25cebd2e56c1",
       "style": "IPY_MODEL_78c7d680282041dd8950787f9c273027",
       "value": "<h5>0.0244</h5>"
      }
     },
     "aec57b0f0f6047458854c1aa091306df": {
      "model_module": "@jupyter-widgets/controls",
      "model_module_version": "1.5.0",
      "model_name": "VBoxModel",
      "state": {
       "children": [
        "IPY_MODEL_349c937e92024ce7aab462b9c0be4183",
        "IPY_MODEL_c370a6f92eaf443cb8822d96c4311e1d",
        "IPY_MODEL_5362474ddcd34be3be1fc884bfc37486",
        "IPY_MODEL_ad1f15a973444429af6feada42597bff",
        "IPY_MODEL_17e42c9a0b0045cf9186956176abb4ce",
        "IPY_MODEL_c80f9a34063c4cc9b4b3bbbda1a95ca5",
        "IPY_MODEL_8a6c4cbf59fc4206a1ddc1fd64ffd6e9",
        "IPY_MODEL_7ae521fa289146a0a8735fbd48197a7c",
        "IPY_MODEL_86f13d2d5a95487080ab8c89150ea847",
        "IPY_MODEL_d14704d1fe31419aa9812c8d21d49e65"
       ],
       "layout": "IPY_MODEL_918af853f96e4f6ebee66ce795de1fa0"
      }
     },
     "af9674ac233a4027bd7ef5c77d576b03": {
      "model_module": "@jupyter-widgets/controls",
      "model_module_version": "1.5.0",
      "model_name": "IntProgressModel",
      "state": {
       "layout": "IPY_MODEL_971b63e46dd442d9825ac61bde3d05a0",
       "max": 50,
       "style": "IPY_MODEL_bf52d15f594c4dbfbec3beaf8c4c13a1",
       "value": 19
      }
     },
     "b02e90c454ac4598acba4e1ff148eeb9": {
      "model_module": "@jupyter-widgets/base",
      "model_module_version": "1.2.0",
      "model_name": "LayoutModel",
      "state": {
       "justify_content": "center"
      }
     },
     "b12944f905ab4cfcb8a2e9f05720c23e": {
      "model_module": "@jupyter-widgets/controls",
      "model_module_version": "1.5.0",
      "model_name": "DescriptionStyleModel",
      "state": {
       "description_width": ""
      }
     },
     "b15c555f117b4d47a716af05a7a511b7": {
      "model_module": "@jupyter-widgets/controls",
      "model_module_version": "1.5.0",
      "model_name": "HBoxModel",
      "state": {
       "children": [
        "IPY_MODEL_66d031af97ab433390ec8b3be22c22b4",
        "IPY_MODEL_2ac359ccb34e490cbffdc728dec9902d",
        "IPY_MODEL_b45c2ee4ddba457c93e50196dcf43ec0"
       ],
       "layout": "IPY_MODEL_d02d32b5fc79428688c123cd0b91db1e"
      }
     },
     "b2627592b7fa42e580e48d886dbbe722": {
      "model_module": "@jupyter-widgets/controls",
      "model_module_version": "1.5.0",
      "model_name": "DescriptionStyleModel",
      "state": {
       "description_width": ""
      }
     },
     "b304ac05012241de8a9fe8eb8c1f359b": {
      "model_module": "@jupyter-widgets/base",
      "model_module_version": "1.2.0",
      "model_name": "LayoutModel",
      "state": {
       "min_width": "auto"
      }
     },
     "b3d64c2360694a02852503e3e4901cf7": {
      "model_module": "@jupyter-widgets/base",
      "model_module_version": "1.2.0",
      "model_name": "LayoutModel",
      "state": {}
     },
     "b40f6d86b7b040a1840f709879bdae47": {
      "model_module": "@jupyter-widgets/controls",
      "model_module_version": "1.5.0",
      "model_name": "HTMLModel",
      "state": {
       "layout": "IPY_MODEL_660695f63a2d4d129b49127cd1f5f4dd",
       "style": "IPY_MODEL_886cb6f431854ceeb7121cd943b99084",
       "value": "<table><style>\ntable {\n    border-collapse: collapse;\n    width: auto;\n}\n\nth, td {\n    text-align: left;\n    padding: 8px;\n}\n\ntr:nth-child(even) {background-color: #f6f6f6;};\n</style><tr><th></th><th>Type</th><th>Gate error</th></tr><tr><td><font style='font-weight:bold'>cx2_1</font></td><td>cx</td><td>0.00624</td></tr><tr><td><font style='font-weight:bold'>cx1_2</font></td><td>cx</td><td>0.00624</td></tr><tr><td><font style='font-weight:bold'>cx0_1</font></td><td>cx</td><td>0.00525</td></tr><tr><td><font style='font-weight:bold'>cx1_0</font></td><td>cx</td><td>0.00525</td></tr></table>"
      }
     },
     "b45c2ee4ddba457c93e50196dcf43ec0": {
      "model_module": "@jupyter-widgets/controls",
      "model_module_version": "1.5.0",
      "model_name": "LabelModel",
      "state": {
       "layout": "IPY_MODEL_b304ac05012241de8a9fe8eb8c1f359b",
       "style": "IPY_MODEL_190d918dca564203ae25b6c07929068e",
       "value": "50"
      }
     },
     "b483af4cef404806b854b7c1f0b77b5d": {
      "model_module": "@jupyter-widgets/controls",
      "model_module_version": "1.5.0",
      "model_name": "HTMLModel",
      "state": {
       "layout": "IPY_MODEL_e07ced63079e4612a76b558642c5d6a5",
       "style": "IPY_MODEL_3e8bfdd756fd4444a418c2c79c2f4bf8",
       "value": "ibm_perth"
      }
     },
     "b4d05c3bd5194dbbb5de506a0c798a61": {
      "model_module": "@jupyter-widgets/controls",
      "model_module_version": "1.5.0",
      "model_name": "HTMLModel",
      "state": {
       "layout": "IPY_MODEL_44da286649864e7ca13d0c2e2e8cde89",
       "style": "IPY_MODEL_f8363bcbcc1f43e3993729594332ccbe",
       "value": "RUNNING"
      }
     },
     "b4f914dab08043f6ba8b7d9f6288384f": {
      "model_module": "@jupyter-widgets/base",
      "model_module_version": "1.2.0",
      "model_name": "LayoutModel",
      "state": {
       "align_items": "center",
       "justify_content": "center",
       "margin": "0px 0px 0px 0px",
       "max_height": "250px",
       "max_width": "250px",
       "min_height": "250px",
       "min_width": "250px"
      }
     },
     "b51a592236ef4695b70979e8880e6965": {
      "model_module": "@jupyter-widgets/output",
      "model_module_version": "1.0.0",
      "model_name": "OutputModel",
      "state": {
       "layout": "IPY_MODEL_3c373e14a83b417880c284c5557f5d6d",
       "outputs": [
        {
         "data": {
          "image/png": "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\n",
          "text/plain": "<Figure size 360x360 with 1 Axes>"
         },
         "metadata": {},
         "output_type": "display_data"
        }
       ]
      }
     },
     "b56f8253cd5c42359bbfbcaf98bda30b": {
      "model_module": "@jupyter-widgets/controls",
      "model_module_version": "1.5.0",
      "model_name": "DescriptionStyleModel",
      "state": {
       "description_width": ""
      }
     },
     "b5792f2149234ea385e6704b2d13d822": {
      "model_module": "@jupyter-widgets/base",
      "model_module_version": "1.2.0",
      "model_name": "LayoutModel",
      "state": {
       "justify_content": "center"
      }
     },
     "b6166841b0c641108bfb68f59689b6dd": {
      "model_module": "@jupyter-widgets/controls",
      "model_module_version": "1.5.0",
      "model_name": "HTMLModel",
      "state": {
       "layout": "IPY_MODEL_3faade1b60db4bc7aab205efead62b8a",
       "style": "IPY_MODEL_c352da378dec433cb761488fbd3666ae",
       "value": "<h5><b>5</b></h5>"
      }
     },
     "b6b974dd90db448c9e9ab96de4a75af8": {
      "model_module": "@jupyter-widgets/controls",
      "model_module_version": "1.5.0",
      "model_name": "DescriptionStyleModel",
      "state": {
       "description_width": ""
      }
     },
     "b703e06eaa154d12ac8a715c6da38d2d": {
      "model_module": "@jupyter-widgets/controls",
      "model_module_version": "1.5.0",
      "model_name": "LabelModel",
      "state": {
       "layout": "IPY_MODEL_d0ec58a07e5d44d6bda4bbfe89efc2a5",
       "style": "IPY_MODEL_fb42ddd0ec784f7fa8037d3b6f61dd0d",
       "value": "10"
      }
     },
     "b795507639d841b5b40c1d189bee8f03": {
      "model_module": "@jupyter-widgets/base",
      "model_module_version": "1.2.0",
      "model_name": "LayoutModel",
      "state": {
       "overflow_y": "scroll"
      }
     },
     "b7dd3200876f45a9a913a1178fcc9ab8": {
      "model_module": "@jupyter-widgets/output",
      "model_module_version": "1.0.0",
      "model_name": "OutputModel",
      "state": {
       "layout": "IPY_MODEL_cc33ac75b1fe4dc990fd0ca6a979e019",
       "outputs": [
        {
         "data": {
          "image/png": "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\n",
          "text/plain": "<Figure size 360x360 with 1 Axes>"
         },
         "metadata": {},
         "output_type": "display_data"
        }
       ]
      }
     },
     "b7e5b9c8782349728edb3f1733d7d410": {
      "model_module": "@jupyter-widgets/base",
      "model_module_version": "1.2.0",
      "model_name": "LayoutModel",
      "state": {
       "max_width": "700px",
       "min_width": "700px"
      }
     },
     "b90093ae08894a46becc3ebfc7c7703f": {
      "model_module": "@jupyter-widgets/base",
      "model_module_version": "1.2.0",
      "model_name": "LayoutModel",
      "state": {}
     },
     "b971bc8f41d1472eb33b2a0e33c85e1b": {
      "model_module": "@jupyter-widgets/base",
      "model_module_version": "1.2.0",
      "model_name": "LayoutModel",
      "state": {
       "align_items": "center",
       "justify_content": "center",
       "margin": "0px 0px 0px 0px",
       "max_height": "250px",
       "max_width": "250px",
       "min_height": "250px",
       "min_width": "250px"
      }
     },
     "b9d35dceea934cac9a26982ee9236c46": {
      "model_module": "@jupyter-widgets/base",
      "model_module_version": "1.2.0",
      "model_name": "LayoutModel",
      "state": {
       "align_items": "center",
       "display": "inline-flex",
       "flex_flow": "column"
      }
     },
     "bae71ba84570488797b8a55d08bd06fb": {
      "model_module": "@jupyter-widgets/output",
      "model_module_version": "1.0.0",
      "model_name": "OutputModel",
      "state": {
       "layout": "IPY_MODEL_b971bc8f41d1472eb33b2a0e33c85e1b",
       "outputs": [
        {
         "data": {
          "image/png": "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\n",
          "text/plain": "<Figure size 360x360 with 1 Axes>"
         },
         "metadata": {},
         "output_type": "display_data"
        }
       ]
      }
     },
     "bb4a0ee54b424249aa3b81b1c349daf7": {
      "model_module": "@jupyter-widgets/controls",
      "model_module_version": "1.5.0",
      "model_name": "HTMLModel",
      "state": {
       "layout": "IPY_MODEL_d4a3bb151f904008a5ff0aa4d3ddee11",
       "style": "IPY_MODEL_8169585ebf2f4b9f8c34523929761d42",
       "value": "<h4>ibmq_santiago</h4>"
      }
     },
     "bc1e3b57eaa346aab775757163a35e14": {
      "model_module": "@jupyter-widgets/controls",
      "model_module_version": "1.5.0",
      "model_name": "DescriptionStyleModel",
      "state": {
       "description_width": ""
      }
     },
     "bce32c110f0947b59660e59a4e959772": {
      "model_module": "@jupyter-widgets/controls",
      "model_module_version": "1.5.0",
      "model_name": "TabModel",
      "state": {
       "_titles": {
        "0": "Configuration",
        "1": "Qubit Properties",
        "2": "Multi-Qubit Gates",
        "3": "Error Map",
        "4": "Job History"
       },
       "children": [
        "IPY_MODEL_463e1497b9914d049fbf5b561e2af9d4",
        "IPY_MODEL_42fc544a295347028a890bc3009c6271",
        "IPY_MODEL_88d769392a2e41369de558fcefa219eb",
        "IPY_MODEL_a01973d45d614a89838ff8666c44176f",
        "IPY_MODEL_2af3b3bd702c47bfa39f44b1e9eb9e8a"
       ],
       "layout": "IPY_MODEL_bf403325acc24c858b45e5aa6ab9583d"
      }
     },
     "bd3346a879594738b13887e268bf4bf5": {
      "model_module": "@jupyter-widgets/controls",
      "model_module_version": "1.5.0",
      "model_name": "DescriptionStyleModel",
      "state": {
       "description_width": ""
      }
     },
     "bda8cd294b004a3682f346f97a1f02e9": {
      "model_module": "@jupyter-widgets/controls",
      "model_module_version": "1.5.0",
      "model_name": "TabModel",
      "state": {
       "layout": "IPY_MODEL_5308ebec2af4475b9cef827e3cb692f1"
      }
     },
     "bdf5df88608d4b11bbd6debf6c3feef1": {
      "model_module": "@jupyter-widgets/base",
      "model_module_version": "1.2.0",
      "model_name": "LayoutModel",
      "state": {
       "grid_area": "bottom",
       "width": "auto"
      }
     },
     "bdf7307c1fba4e9f9820e34650e95af5": {
      "model_module": "@jupyter-widgets/output",
      "model_module_version": "1.0.0",
      "model_name": "OutputModel",
      "state": {
       "layout": "IPY_MODEL_3108cf0c9e8b4d3ca6f15c6b2f34d76f",
       "outputs": [
        {
         "data": {
          "image/png": "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\n",
          "text/plain": "<Figure size 360x360 with 1 Axes>"
         },
         "metadata": {},
         "output_type": "display_data"
        }
       ]
      }
     },
     "becf6589a9b048a6a0b5ab9931a38271": {
      "model_module": "@jupyter-widgets/controls",
      "model_module_version": "1.5.0",
      "model_name": "LabelModel",
      "state": {
       "layout": "IPY_MODEL_12c22c7bf99e46cc806d5c1008158b65",
       "style": "IPY_MODEL_ee31e0d9e10d440dbbc3f56dd3cee13d",
       "value": "50"
      }
     },
     "bf403325acc24c858b45e5aa6ab9583d": {
      "model_module": "@jupyter-widgets/base",
      "model_module_version": "1.2.0",
      "model_name": "LayoutModel",
      "state": {
       "overflow_y": "scroll"
      }
     },
     "bf52d15f594c4dbfbec3beaf8c4c13a1": {
      "model_module": "@jupyter-widgets/controls",
      "model_module_version": "1.5.0",
      "model_name": "ProgressStyleModel",
      "state": {
       "bar_color": "#71cddd",
       "description_width": ""
      }
     },
     "bfb7ef959e604205be2a6bcc47fbff64": {
      "model_module": "@jupyter-widgets/controls",
      "model_module_version": "1.5.0",
      "model_name": "DescriptionStyleModel",
      "state": {
       "description_width": ""
      }
     },
     "c00787b2c0da42d590d249cc65f79103": {
      "model_module": "@jupyter-widgets/controls",
      "model_module_version": "1.5.0",
      "model_name": "IntProgressModel",
      "state": {
       "layout": "IPY_MODEL_4cd7fe22d4914105bd68b72016204a27",
       "max": 50,
       "style": "IPY_MODEL_560f3fd92e4e4ed585e779ff9cbd38bc",
       "value": 1
      }
     },
     "c0486b799ff9401787bb021f09ff8e4c": {
      "model_module": "@jupyter-widgets/controls",
      "model_module_version": "1.5.0",
      "model_name": "HTMLModel",
      "state": {
       "layout": "IPY_MODEL_2cc88d614ce94d8c9a5ee5149b5ca976",
       "style": "IPY_MODEL_e0c450c7ff5d4b58a3c0f1065298fe5a",
       "value": "<h5>146.9 / 233.9 us</h5>"
      }
     },
     "c151db491448473394fdf426ecc455f4": {
      "model_module": "@jupyter-widgets/controls",
      "model_module_version": "1.5.0",
      "model_name": "VBoxModel",
      "state": {
       "children": [
        "IPY_MODEL_563d716ffaf0413b8d72cb5cdc84d50a",
        "IPY_MODEL_25c7081a99594ee38ef9f36183782e56",
        "IPY_MODEL_000a971626a946b59562c5aa7fb4dcd7",
        "IPY_MODEL_c9ab4da5fae741d4a7f162a5ebe63153",
        "IPY_MODEL_d7a22a7e2fbe4101adbc1bd6175b0736",
        "IPY_MODEL_074284228acc47fcac8e320e3fcf314b",
        "IPY_MODEL_58525c5bbb564c999b18d39d5e8d2239",
        "IPY_MODEL_58b6ebbe27524e1aac974ec7dbbfeb5f",
        "IPY_MODEL_8534c7f6072c425685fc128d73073efb",
        "IPY_MODEL_ca5f1972325f4f1ba715f1d63931b254"
       ],
       "layout": "IPY_MODEL_b9d35dceea934cac9a26982ee9236c46"
      }
     },
     "c1d0ead4de93421a849228d64c8f84c6": {
      "model_module": "@jupyter-widgets/base",
      "model_module_version": "1.2.0",
      "model_name": "LayoutModel",
      "state": {
       "margin": "0px 5px 0px 0px",
       "width": "32px"
      }
     },
     "c352da378dec433cb761488fbd3666ae": {
      "model_module": "@jupyter-widgets/controls",
      "model_module_version": "1.5.0",
      "model_name": "DescriptionStyleModel",
      "state": {
       "description_width": ""
      }
     },
     "c370a6f92eaf443cb8822d96c4311e1d": {
      "model_module": "@jupyter-widgets/output",
      "model_module_version": "1.0.0",
      "model_name": "OutputModel",
      "state": {
       "layout": "IPY_MODEL_d5c085b0e13248b99057e272053e7d42",
       "outputs": [
        {
         "data": {
          "image/png": "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\n",
          "text/plain": "<Figure size 360x360 with 1 Axes>"
         },
         "metadata": {},
         "output_type": "display_data"
        }
       ]
      }
     },
     "c442e95258f84f4e86557c2994741b7f": {
      "model_module": "@jupyter-widgets/base",
      "model_module_version": "1.2.0",
      "model_name": "LayoutModel",
      "state": {
       "overflow_x": "scroll"
      }
     },
     "c58af3d76fa94cbb9006390d3ab7548d": {
      "model_module": "@jupyter-widgets/base",
      "model_module_version": "1.2.0",
      "model_name": "LayoutModel",
      "state": {}
     },
     "c6c4e3edf0734323a66de6fc103ed052": {
      "model_module": "@jupyter-widgets/base",
      "model_module_version": "1.2.0",
      "model_name": "LayoutModel",
      "state": {
       "justify_content": "center",
       "max_width": "250px",
       "min_width": "250px"
      }
     },
     "c71bb400985a4604aad0e097e8990757": {
      "model_module": "@jupyter-widgets/base",
      "model_module_version": "1.2.0",
      "model_name": "LayoutModel",
      "state": {}
     },
     "c795dc260c164901a67afbd9e2a11862": {
      "model_module": "@jupyter-widgets/base",
      "model_module_version": "1.2.0",
      "model_name": "LayoutModel",
      "state": {
       "justify_content": "center"
      }
     },
     "c7ad4205bbff445e8aa3bacf6cb11e46": {
      "model_module": "@jupyter-widgets/base",
      "model_module_version": "1.2.0",
      "model_name": "LayoutModel",
      "state": {
       "justify_content": "center"
      }
     },
     "c7cd07b470cd49eeb1d8aa31b15ee7fe": {
      "model_module": "@jupyter-widgets/base",
      "model_module_version": "1.2.0",
      "model_name": "LayoutModel",
      "state": {}
     },
     "c80f9a34063c4cc9b4b3bbbda1a95ca5": {
      "model_module": "@jupyter-widgets/controls",
      "model_module_version": "1.5.0",
      "model_name": "HTMLModel",
      "state": {
       "layout": "IPY_MODEL_4652709888384cd592e7f6de6a9d1b88",
       "style": "IPY_MODEL_41f480989c0c4ec781109ce9ba516ede",
       "value": "<h5 style='color:#34bc6e'>True</h5>"
      }
     },
     "c87fe95531a54d2ba43467f6ec3fd341": {
      "model_module": "@jupyter-widgets/controls",
      "model_module_version": "1.5.0",
      "model_name": "DescriptionStyleModel",
      "state": {
       "description_width": ""
      }
     },
     "c889bcd3e8684abe8b5f449afe732175": {
      "model_module": "@jupyter-widgets/controls",
      "model_module_version": "1.5.0",
      "model_name": "HTMLModel",
      "state": {
       "layout": "IPY_MODEL_718f967fbe4d492e9dbf67076d505a4f",
       "style": "IPY_MODEL_706448f1e6e74d31adf948c052ca18c7",
       "value": "-"
      }
     },
     "c8d5c682153442fd8f018a3a48d103c9": {
      "model_module": "@jupyter-widgets/controls",
      "model_module_version": "1.5.0",
      "model_name": "HTMLModel",
      "state": {
       "layout": "IPY_MODEL_8a1e2b9ec8d34e36afa35b9b69316c0d",
       "style": "IPY_MODEL_2f8ed468630b4314af6e632ec2f47c27",
       "value": "job is actively running"
      }
     },
     "c904eba89feb485a9aa88dc64a577971": {
      "model_module": "@jupyter-widgets/controls",
      "model_module_version": "1.5.0",
      "model_name": "DescriptionStyleModel",
      "state": {
       "description_width": ""
      }
     },
     "c99be812654f403b9227567655dbb6a7": {
      "model_module": "@jupyter-widgets/base",
      "model_module_version": "1.2.0",
      "model_name": "LayoutModel",
      "state": {
       "min_width": "auto"
      }
     },
     "c9ab4da5fae741d4a7f162a5ebe63153": {
      "model_module": "@jupyter-widgets/controls",
      "model_module_version": "1.5.0",
      "model_name": "HTMLModel",
      "state": {
       "layout": "IPY_MODEL_8cf3469a6ea343ff8b24672db54eadaa",
       "style": "IPY_MODEL_b56f8253cd5c42359bbfbcaf98bda30b",
       "value": "<h5>16</h5>"
      }
     },
     "c9ae666e4fac4b1db5b74f274d100b16": {
      "model_module": "@jupyter-widgets/controls",
      "model_module_version": "1.5.0",
      "model_name": "DescriptionStyleModel",
      "state": {
       "description_width": ""
      }
     },
     "ca03e7b171304453ae1542714a3bf315": {
      "model_module": "@jupyter-widgets/base",
      "model_module_version": "1.2.0",
      "model_name": "LayoutModel",
      "state": {
       "max_height": "620px"
      }
     },
     "ca216c175ced48f2b3d96c1d55deea29": {
      "model_module": "@jupyter-widgets/controls",
      "model_module_version": "1.5.0",
      "model_name": "ProgressStyleModel",
      "state": {
       "bar_color": "#71cddd",
       "description_width": ""
      }
     },
     "ca50802875184f6bad605483840918ec": {
      "model_module": "@jupyter-widgets/controls",
      "model_module_version": "1.5.0",
      "model_name": "DescriptionStyleModel",
      "state": {
       "description_width": ""
      }
     },
     "ca5f1972325f4f1ba715f1d63931b254": {
      "model_module": "@jupyter-widgets/controls",
      "model_module_version": "1.5.0",
      "model_name": "HTMLModel",
      "state": {
       "layout": "IPY_MODEL_d87ad4abd8aa4747a8982602c645212b",
       "style": "IPY_MODEL_1df08fc68e134ac88194cdedc22939a8",
       "value": "<h5>0.0308</h5>"
      }
     },
     "cbd5295b5a4f41f5b0f79a258e7aba6c": {
      "model_module": "@jupyter-widgets/controls",
      "model_module_version": "1.5.0",
      "model_name": "HTMLModel",
      "state": {
       "layout": "IPY_MODEL_a9e10e5887ce44a098e3faa9bd15bd2e",
       "style": "IPY_MODEL_85861c499bda497a913a9455eee5ce5e",
       "value": "<table><style>\ntable {\n    border-collapse: collapse;\n    width: auto;\n}\n\nth, td {\n    text-align: left;\n    padding: 8px;\n}\n\ntr:nth-child(even) {background-color: #f6f6f6;};\n</style><tr><th></th><th>Type</th><th>Gate error</th></tr><tr><td><font style='font-weight:bold'>cx5_6</font></td><td>cx</td><td>0.01856</td></tr><tr><td><font style='font-weight:bold'>cx6_5</font></td><td>cx</td><td>0.01856</td></tr><tr><td><font style='font-weight:bold'>cx4_5</font></td><td>cx</td><td>0.06403</td></tr><tr><td><font style='font-weight:bold'>cx5_4</font></td><td>cx</td><td>0.06403</td></tr></table>"
      }
     },
     "cc33ac75b1fe4dc990fd0ca6a979e019": {
      "model_module": "@jupyter-widgets/base",
      "model_module_version": "1.2.0",
      "model_name": "LayoutModel",
      "state": {
       "align_items": "center",
       "justify_content": "center",
       "margin": "0px 0px 0px 0px",
       "max_height": "250px",
       "max_width": "250px",
       "min_height": "250px",
       "min_width": "250px"
      }
     },
     "cca046fae2934ccfbfb0c81ab3f1d15f": {
      "model_module": "@jupyter-widgets/controls",
      "model_module_version": "1.5.0",
      "model_name": "DescriptionStyleModel",
      "state": {
       "description_width": ""
      }
     },
     "cd8c75a98a404ab996881abb1db72671": {
      "model_module": "@jupyter-widgets/controls",
      "model_module_version": "1.5.0",
      "model_name": "DescriptionStyleModel",
      "state": {
       "description_width": ""
      }
     },
     "cdbfda79e0de48eaa0875193a821da14": {
      "model_module": "@jupyter-widgets/base",
      "model_module_version": "1.2.0",
      "model_name": "LayoutModel",
      "state": {
       "justify_content": "center"
      }
     },
     "ce3f96251e7546398c868500690dd1d4": {
      "model_module": "@jupyter-widgets/base",
      "model_module_version": "1.2.0",
      "model_name": "LayoutModel",
      "state": {
       "width": "190px"
      }
     },
     "ce93074c4f624741b5b06ed54988c905": {
      "model_module": "@jupyter-widgets/controls",
      "model_module_version": "1.5.0",
      "model_name": "DescriptionStyleModel",
      "state": {
       "description_width": ""
      }
     },
     "cf80e68281644e868ab85a8ff0791bb1": {
      "model_module": "@jupyter-widgets/base",
      "model_module_version": "1.2.0",
      "model_name": "LayoutModel",
      "state": {
       "grid_area": "left"
      }
     },
     "cf94fb14caa446f582f9a0bc7e5b9456": {
      "model_module": "@jupyter-widgets/base",
      "model_module_version": "1.2.0",
      "model_name": "LayoutModel",
      "state": {}
     },
     "d02d32b5fc79428688c123cd0b91db1e": {
      "model_module": "@jupyter-widgets/base",
      "model_module_version": "1.2.0",
      "model_name": "LayoutModel",
      "state": {
       "justify_content": "center",
       "max_width": "250px",
       "min_width": "250px"
      }
     },
     "d0b2d065b5f240c589e564ffe2a6a077": {
      "model_module": "@jupyter-widgets/controls",
      "model_module_version": "1.5.0",
      "model_name": "ButtonStyleModel",
      "state": {}
     },
     "d0ec58a07e5d44d6bda4bbfe89efc2a5": {
      "model_module": "@jupyter-widgets/base",
      "model_module_version": "1.2.0",
      "model_name": "LayoutModel",
      "state": {
       "min_width": "auto"
      }
     },
     "d14704d1fe31419aa9812c8d21d49e65": {
      "model_module": "@jupyter-widgets/controls",
      "model_module_version": "1.5.0",
      "model_name": "HTMLModel",
      "state": {
       "layout": "IPY_MODEL_c71bb400985a4604aad0e097e8990757",
       "style": "IPY_MODEL_05ca4bdead6140dbb0060eaf0e6bc5bf",
       "value": "<h5>0.0675</h5>"
      }
     },
     "d14ab146497e4b37884558f269ee6493": {
      "model_module": "@jupyter-widgets/controls",
      "model_module_version": "1.5.0",
      "model_name": "IntProgressModel",
      "state": {
       "layout": "IPY_MODEL_4fe3ab092ea4425d9662fc252015255a",
       "max": 50,
       "style": "IPY_MODEL_2e118d2dfe6944e18e182358ef2c67fe",
       "value": 10
      }
     },
     "d25997fc059e4ab9967fa106b8271981": {
      "model_module": "@jupyter-widgets/controls",
      "model_module_version": "1.5.0",
      "model_name": "IntProgressModel",
      "state": {
       "layout": "IPY_MODEL_51ae3b15710b4f34890440b6196208cd",
       "max": 50,
       "style": "IPY_MODEL_a91b12910b4e4bb39cf4a447a6d20553",
       "value": 1
      }
     },
     "d25f9a0b68fe4be496c45dc50125650d": {
      "model_module": "@jupyter-widgets/base",
      "model_module_version": "1.2.0",
      "model_name": "LayoutModel",
      "state": {
       "margin": "5px 0px 0px 0px"
      }
     },
     "d2736545c5ca40e19d4d7f6893e826f8": {
      "model_module": "@jupyter-widgets/base",
      "model_module_version": "1.2.0",
      "model_name": "LayoutModel",
      "state": {
       "justify_content": "center",
       "max_width": "250px",
       "min_width": "250px"
      }
     },
     "d32c6728de0248ee80fdebf9f3cd5e3a": {
      "model_module": "@jupyter-widgets/output",
      "model_module_version": "1.0.0",
      "model_name": "OutputModel",
      "state": {
       "layout": "IPY_MODEL_ebc00e55710945838d887da9a097010c",
       "outputs": [
        {
         "data": {
          "image/png": "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\n",
          "text/plain": "<Figure size 360x360 with 1 Axes>"
         },
         "metadata": {},
         "output_type": "display_data"
        }
       ]
      }
     },
     "d3413914820b4729bd14223af3364c5d": {
      "model_module": "@jupyter-widgets/base",
      "model_module_version": "1.2.0",
      "model_name": "LayoutModel",
      "state": {}
     },
     "d427d6f0f1014618be7c67a9f07d3324": {
      "model_module": "@jupyter-widgets/controls",
      "model_module_version": "1.5.0",
      "model_name": "HTMLModel",
      "state": {
       "layout": "IPY_MODEL_326100a0564a44439cdd7b5b053fc96b",
       "style": "IPY_MODEL_a8bffc53924f4fb2bdf9c887c2f06620",
       "value": "<table><style>\ntable {\n    border-collapse: collapse;\n    width: auto;\n}\n\nth, td {\n    text-align: left;\n    padding: 8px;\n}\n\ntr:nth-child(even) {background-color: #f6f6f6;}\n</style><tr><th></th><th>Frequency</th><th>T1</th><th>T2</th><th>U1</th><th>U2</th><th>U3</th><th>Readout error</th></tr><tr><td><font style='font-weight:bold'>Q0</font></td><td>4.66492 GHz</td><td>65.02615 µs</td><td>17.70905 µs</td><td>0</td><td>0.00075</td><td>0.00151</td><td>0.0334 </td><tr><td><font style='font-weight:bold'>Q1</font></td><td>4.76767 GHz</td><td>43.9688 µs</td><td>15.58758 µs</td><td>0</td><td>0.00068</td><td>0.00137</td><td>0.0867 </td><tr><td><font style='font-weight:bold'>Q2</font></td><td>4.61803 GHz</td><td>52.93976 µs</td><td>13.80566 µs</td><td>0</td><td>0.00087</td><td>0.00174</td><td>0.0926 </td><tr><td><font style='font-weight:bold'>Q3</font></td><td>5.02263 GHz</td><td>48.80939 µs</td><td>14.67257 µs</td><td>0</td><td>0.00088</td><td>0.00175</td><td>0.0765 </td><tr><td><font style='font-weight:bold'>Q4</font></td><td>4.65579 GHz</td><td>76.5053 µs</td><td>15.55758 µs</td><td>0</td><td>0.00074</td><td>0.00149</td><td>0.0681 </td><tr><td><font style='font-weight:bold'>Q5</font></td><td>4.74578 GHz</td><td>62.26546 µs</td><td>9.21099 µs</td><td>0</td><td>0.00101</td><td>0.00203</td><td>0.0701 </td><tr><td><font style='font-weight:bold'>Q6</font></td><td>4.83168 GHz</td><td>51.07522 µs</td><td>14.30637 µs</td><td>0</td><td>0.00131</td><td>0.00261</td><td>0.0672 </td><tr><td><font style='font-weight:bold'>Q7</font></td><td>4.70569 GHz</td><td>34.47778 µs</td><td>12.42501 µs</td><td>0</td><td>0.00097</td><td>0.00194</td><td>0.0175 </td><tr><td><font style='font-weight:bold'>Q8</font></td><td>4.8984 GHz</td><td>22.00524 µs</td><td>5.4628 µs</td><td>0</td><td>0.00185</td><td>0.0037</td><td>0.0902 </td><tr><td><font style='font-weight:bold'>Q9</font></td><td>4.7406 GHz</td><td>61.6795 µs</td><td>12.31188 µs</td><td>0</td><td>0.00098</td><td>0.00197</td><td>0.097 </td><tr><td><font style='font-weight:bold'>Q10</font></td><td>4.84131 GHz</td><td>39.29521 µs</td><td>8.29331 µs</td><td>0</td><td>0.0011</td><td>0.0022</td><td>0.0724 </td><tr><td><font style='font-weight:bold'>Q11</font></td><td>4.75709 GHz</td><td>71.76919 µs</td><td>13.57695 µs</td><td>0</td><td>0.00074</td><td>0.00147</td><td>0.1013 </td><tr><td><font style='font-weight:bold'>Q12</font></td><td>4.61986 GHz</td><td>82.39661 µs</td><td>17.04141 µs</td><td>0</td><td>0.00076</td><td>0.00153</td><td>0.0884 </td><tr><td><font style='font-weight:bold'>Q13</font></td><td>4.85395 GHz</td><td>51.26071 µs</td><td>12.95339 µs</td><td>0</td><td>0.0007</td><td>0.00141</td><td>0.0265 </td><tr><td><font style='font-weight:bold'>Q14</font></td><td>4.40127 GHz</td><td>35.98483 µs</td><td>12.06972 µs</td><td>0</td><td>0.00106</td><td>0.00212</td><td>0.1173 </td><tr><td><font style='font-weight:bold'>Q15</font></td><td>4.69354 GHz</td><td>56.86022 µs</td><td>17.28385 µs</td><td>0</td><td>0.00065</td><td>0.0013</td><td>0.0644 </td><tr><td><font style='font-weight:bold'>Q16</font></td><td>4.51267 GHz</td><td>69.36949 µs</td><td>15.96325 µs</td><td>0</td><td>0.00085</td><td>0.0017</td><td>0.1727 </td><tr><td><font style='font-weight:bold'>Q17</font></td><td>4.72421 GHz</td><td>44.24938 µs</td><td>14.42326 µs</td><td>0</td><td>0.00083</td><td>0.00165</td><td>0.0681 </td><tr><td><font style='font-weight:bold'>Q18</font></td><td>4.3351 GHz</td><td>62.35078 µs</td><td>14.96326 µs</td><td>0</td><td>0.00082</td><td>0.00164</td><td>0.1678 </td><tr><td><font style='font-weight:bold'>Q19</font></td><td>4.58623 GHz</td><td>78.6054 µs</td><td>20.57852 µs</td><td>0</td><td>0.00076</td><td>0.00153</td><td>0.1042 </td></table>"
      }
     },
     "d4a3bb151f904008a5ff0aa4d3ddee11": {
      "model_module": "@jupyter-widgets/base",
      "model_module_version": "1.2.0",
      "model_name": "LayoutModel",
      "state": {}
     },
     "d4cbf01d0af8414c9348cb5e971e427d": {
      "model_module": "@jupyter-widgets/controls",
      "model_module_version": "1.5.0",
      "model_name": "DescriptionStyleModel",
      "state": {
       "description_width": ""
      }
     },
     "d51dbdf477c545a1876504d94e822d56": {
      "model_module": "@jupyter-widgets/base",
      "model_module_version": "1.2.0",
      "model_name": "LayoutModel",
      "state": {
       "width": "145px"
      }
     },
     "d549db132ab04d18bda970b68e66b68e": {
      "model_module": "@jupyter-widgets/base",
      "model_module_version": "1.2.0",
      "model_name": "LayoutModel",
      "state": {}
     },
     "d54b8092a8aa429cb7fc6bea0d60b240": {
      "model_module": "@jupyter-widgets/controls",
      "model_module_version": "1.5.0",
      "model_name": "HBoxModel",
      "state": {
       "children": [
        "IPY_MODEL_15010422e6db46e5b4b0838aa0141f22",
        "IPY_MODEL_9513ce9fb38045e0ae8856b77cac8f0c",
        "IPY_MODEL_714a4c40f42a451aa79830ae2bd32e1c",
        "IPY_MODEL_b4d05c3bd5194dbbb5de506a0c798a61",
        "IPY_MODEL_c889bcd3e8684abe8b5f449afe732175",
        "IPY_MODEL_c8d5c682153442fd8f018a3a48d103c9"
       ],
       "layout": "IPY_MODEL_533292476e3f42aaa2be8907cf2473e6"
      }
     },
     "d57263a3cad64f43b8e7914743b73361": {
      "model_module": "@jupyter-widgets/controls",
      "model_module_version": "1.5.0",
      "model_name": "HTMLModel",
      "state": {
       "layout": "IPY_MODEL_05f14c9be3044d1cbd98f2d5d75c4b12",
       "style": "IPY_MODEL_bd3346a879594738b13887e268bf4bf5",
       "value": "<h4>ibm_perth</h4>"
      }
     },
     "d5c085b0e13248b99057e272053e7d42": {
      "model_module": "@jupyter-widgets/base",
      "model_module_version": "1.2.0",
      "model_name": "LayoutModel",
      "state": {
       "align_items": "center",
       "justify_content": "center",
       "margin": "0px 0px 0px 0px",
       "max_height": "250px",
       "max_width": "250px",
       "min_height": "250px",
       "min_width": "250px"
      }
     },
     "d620daa69bd1431794c60d82f5c98e41": {
      "model_module": "@jupyter-widgets/base",
      "model_module_version": "1.2.0",
      "model_name": "LayoutModel",
      "state": {
       "min_width": "auto"
      }
     },
     "d642607dcd5e436596f265464cd24a56": {
      "model_module": "@jupyter-widgets/controls",
      "model_module_version": "1.5.0",
      "model_name": "DescriptionStyleModel",
      "state": {
       "description_width": ""
      }
     },
     "d6fc2790e92d462cb2db25cebd2e56c1": {
      "model_module": "@jupyter-widgets/base",
      "model_module_version": "1.2.0",
      "model_name": "LayoutModel",
      "state": {}
     },
     "d7007779bf504d0a910e9c75767011d5": {
      "model_module": "@jupyter-widgets/base",
      "model_module_version": "1.2.0",
      "model_name": "LayoutModel",
      "state": {}
     },
     "d7a22a7e2fbe4101adbc1bd6175b0736": {
      "model_module": "@jupyter-widgets/controls",
      "model_module_version": "1.5.0",
      "model_name": "HBoxModel",
      "state": {
       "children": [
        "IPY_MODEL_a7b05df901a5440188518f48c0790ffd",
        "IPY_MODEL_1697c674ca214aa1b3dbd91abe9c9a57",
        "IPY_MODEL_27c8f9f283bb41af943708b0fc88d022"
       ],
       "layout": "IPY_MODEL_0f7f03a1fff043d2bd7c9e26aa3705bf"
      }
     },
     "d7d13bec30bf4ca1866e22787185052a": {
      "model_module": "@jupyter-widgets/base",
      "model_module_version": "1.2.0",
      "model_name": "LayoutModel",
      "state": {
       "justify_content": "center"
      }
     },
     "d7ef201dc6694ac9a3d94fb467462936": {
      "model_module": "@jupyter-widgets/controls",
      "model_module_version": "1.5.0",
      "model_name": "DescriptionStyleModel",
      "state": {
       "description_width": ""
      }
     },
     "d87ad4abd8aa4747a8982602c645212b": {
      "model_module": "@jupyter-widgets/base",
      "model_module_version": "1.2.0",
      "model_name": "LayoutModel",
      "state": {}
     },
     "d87cfa69ba414093b6cfb6dab3668c0b": {
      "model_module": "@jupyter-widgets/controls",
      "model_module_version": "1.5.0",
      "model_name": "LabelModel",
      "state": {
       "layout": "IPY_MODEL_2c0209b2904f42e7af6d1ed1d87ce589",
       "style": "IPY_MODEL_e5790b391b19434088cbbe50016f97c4",
       "value": "9"
      }
     },
     "d8c2c61b56c04525a8d988bdd3d7c325": {
      "model_module": "@jupyter-widgets/controls",
      "model_module_version": "1.5.0",
      "model_name": "ProgressStyleModel",
      "state": {
       "bar_color": "#71cddd",
       "description_width": ""
      }
     },
     "d984db8399cd4838acb2340a2318bdb8": {
      "model_module": "@jupyter-widgets/controls",
      "model_module_version": "1.5.0",
      "model_name": "ButtonStyleModel",
      "state": {
       "button_color": "white"
      }
     },
     "da2741d8065d42a2b0c1a330a5ac8f10": {
      "model_module": "@jupyter-widgets/output",
      "model_module_version": "1.0.0",
      "model_name": "OutputModel",
      "state": {
       "layout": "IPY_MODEL_06412c8842d8471faa5b7e87224264be",
       "outputs": [
        {
         "data": {
          "image/png": "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\n",
          "text/plain": "<Figure size 360x360 with 1 Axes>"
         },
         "metadata": {},
         "output_type": "display_data"
        }
       ]
      }
     },
     "da5856f31dfd4d16be0f8e3d0c0b68c0": {
      "model_module": "@jupyter-widgets/controls",
      "model_module_version": "1.5.0",
      "model_name": "DescriptionStyleModel",
      "state": {
       "description_width": ""
      }
     },
     "da5be6a8f6e542d19044988ace3046d5": {
      "model_module": "@jupyter-widgets/base",
      "model_module_version": "1.2.0",
      "model_name": "LayoutModel",
      "state": {}
     },
     "dab382bc6fae4f72b80d38f8f6969797": {
      "model_module": "@jupyter-widgets/controls",
      "model_module_version": "1.5.0",
      "model_name": "HTMLModel",
      "state": {
       "layout": "IPY_MODEL_7df9cd6db8d6497582997166d52dadb4",
       "style": "IPY_MODEL_b2627592b7fa42e580e48d886dbbe722",
       "value": "<table><style>\ntable {\n    border-collapse: collapse;\n    width: auto;\n}\n\nth, td {\n    text-align: left;\n    padding: 8px;\n}\n\ntr:nth-child(even) {background-color: #f6f6f6;};\n</style><tr><th></th><th>Type</th><th>Gate error</th></tr><tr><td><font style='font-weight:bold'>cx13_12</font></td><td>cx</td><td>0.01666</td></tr><tr><td><font style='font-weight:bold'>cx13_14</font></td><td>cx</td><td>0.05884</td></tr><tr><td><font style='font-weight:bold'>cx14_9</font></td><td>cx</td><td>0.03955</td></tr><tr><td><font style='font-weight:bold'>cx14_13</font></td><td>cx</td><td>0.05884</td></tr><tr><td><font style='font-weight:bold'>cx14_19</font></td><td>cx</td><td>0.02031</td></tr><tr><td><font style='font-weight:bold'>cx15_10</font></td><td>cx</td><td>0.02979</td></tr><tr><td><font style='font-weight:bold'>cx15_16</font></td><td>cx</td><td>0.02217</td></tr><tr><td><font style='font-weight:bold'>cx16_15</font></td><td>cx</td><td>0.02217</td></tr><tr><td><font style='font-weight:bold'>cx16_17</font></td><td>cx</td><td>0.02326</td></tr><tr><td><font style='font-weight:bold'>cx17_16</font></td><td>cx</td><td>0.02326</td></tr><tr><td><font style='font-weight:bold'>cx17_18</font></td><td>cx</td><td>0.04465</td></tr><tr><td><font style='font-weight:bold'>cx18_17</font></td><td>cx</td><td>0.04465</td></tr><tr><td><font style='font-weight:bold'>cx18_19</font></td><td>cx</td><td>0.02858</td></tr><tr><td><font style='font-weight:bold'>cx19_14</font></td><td>cx</td><td>0.02031</td></tr><tr><td><font style='font-weight:bold'>cx19_18</font></td><td>cx</td><td>0.02858</td></tr></table>"
      }
     },
     "db6b3f5f39fa4a9893ce63d9ff7b7b01": {
      "model_module": "@jupyter-widgets/controls",
      "model_module_version": "1.5.0",
      "model_name": "DescriptionStyleModel",
      "state": {
       "description_width": ""
      }
     },
     "db8e818ede1d479caf19cfda0b49ee4e": {
      "model_module": "@jupyter-widgets/base",
      "model_module_version": "1.2.0",
      "model_name": "LayoutModel",
      "state": {
       "max_width": "180px"
      }
     },
     "dc31eae3abae4b4c88b76694afdf2c37": {
      "model_module": "@jupyter-widgets/controls",
      "model_module_version": "1.5.0",
      "model_name": "DescriptionStyleModel",
      "state": {
       "description_width": ""
      }
     },
     "dc39155b0e5f4a4f8b073912f61607ee": {
      "model_module": "@jupyter-widgets/controls",
      "model_module_version": "1.5.0",
      "model_name": "DescriptionStyleModel",
      "state": {
       "description_width": ""
      }
     },
     "dc48e1aac27545f18d50f517c30f2ffe": {
      "model_module": "@jupyter-widgets/base",
      "model_module_version": "1.2.0",
      "model_name": "LayoutModel",
      "state": {}
     },
     "dd053ccfed404290af4f23bafde10e5a": {
      "model_module": "@jupyter-widgets/controls",
      "model_module_version": "1.5.0",
      "model_name": "DescriptionStyleModel",
      "state": {
       "description_width": ""
      }
     },
     "ddb74d551ce54dc89b4e0222f7be5a28": {
      "model_module": "@jupyter-widgets/controls",
      "model_module_version": "1.5.0",
      "model_name": "DescriptionStyleModel",
      "state": {
       "description_width": ""
      }
     },
     "de430661e57d454b8ec8e9a8231e7ea2": {
      "model_module": "@jupyter-widgets/controls",
      "model_module_version": "1.5.0",
      "model_name": "LabelModel",
      "state": {
       "layout": "IPY_MODEL_d620daa69bd1431794c60d82f5c98e41",
       "style": "IPY_MODEL_6fcf6604f98d4ccba6ebb48042ee4866",
       "value": "1"
      }
     },
     "df2da0f0aa53479fb696b4c5c0a7b37a": {
      "model_module": "@jupyter-widgets/controls",
      "model_module_version": "1.5.0",
      "model_name": "DescriptionStyleModel",
      "state": {
       "description_width": ""
      }
     },
     "e02d146ac42e432996ddf0d7e936f7eb": {
      "model_module": "@jupyter-widgets/controls",
      "model_module_version": "1.5.0",
      "model_name": "IntProgressModel",
      "state": {
       "layout": "IPY_MODEL_57ddc3e994f64860ae4bd521a4a6d4d0",
       "max": 50,
       "style": "IPY_MODEL_94b6c585de9b471aa3e204471e914cae",
       "value": 9
      }
     },
     "e060978d882c4c6eb0538ea1a887ad04": {
      "model_module": "@jupyter-widgets/controls",
      "model_module_version": "1.5.0",
      "model_name": "DescriptionStyleModel",
      "state": {
       "description_width": ""
      }
     },
     "e065bc0cae8b4eb593ed55fdedab654e": {
      "model_module": "@jupyter-widgets/controls",
      "model_module_version": "1.5.0",
      "model_name": "HBoxModel",
      "state": {
       "children": [
        "IPY_MODEL_8225c3c126894516a19220b36719fe89",
        "IPY_MODEL_8c08b7e5946646658f1ed0560648e615",
        "IPY_MODEL_fa74d4f8a33b487cb4df0f911ee7d4d0",
        "IPY_MODEL_510efe40691945528e457b30fbace17b",
        "IPY_MODEL_4983c397e4624c92bb66ac13b9ae40d1"
       ],
       "layout": "IPY_MODEL_7346f6c76d964ef98902867100803b8e"
      }
     },
     "e07ced63079e4612a76b558642c5d6a5": {
      "model_module": "@jupyter-widgets/base",
      "model_module_version": "1.2.0",
      "model_name": "LayoutModel",
      "state": {
       "width": "145px"
      }
     },
     "e0c450c7ff5d4b58a3c0f1065298fe5a": {
      "model_module": "@jupyter-widgets/controls",
      "model_module_version": "1.5.0",
      "model_name": "DescriptionStyleModel",
      "state": {
       "description_width": ""
      }
     },
     "e23473530e57484b8747ee5ad1d9232f": {
      "model_module": "@jupyter-widgets/base",
      "model_module_version": "1.2.0",
      "model_name": "LayoutModel",
      "state": {
       "border": "4px solid #000000",
       "max_height": "650px",
       "min_height": "650px",
       "overflow_y": "hidden"
      }
     },
     "e3be19248e08475fa139f4eb6aacde60": {
      "model_module": "@jupyter-widgets/base",
      "model_module_version": "1.2.0",
      "model_name": "LayoutModel",
      "state": {
       "justify_content": "center"
      }
     },
     "e3db7929fc384f769378c1ddc24c6f83": {
      "model_module": "@jupyter-widgets/base",
      "model_module_version": "1.2.0",
      "model_name": "LayoutModel",
      "state": {
       "min_width": "auto"
      }
     },
     "e47618beaf3946e492ace1ad6db296a8": {
      "model_module": "@jupyter-widgets/base",
      "model_module_version": "1.2.0",
      "model_name": "LayoutModel",
      "state": {
       "min_width": "auto"
      }
     },
     "e4f368e734fc40b28b929d8e8638fbca": {
      "model_module": "@jupyter-widgets/controls",
      "model_module_version": "1.5.0",
      "model_name": "DescriptionStyleModel",
      "state": {
       "description_width": ""
      }
     },
     "e514693a04e94c1697d9891b593f80e1": {
      "model_module": "@jupyter-widgets/controls",
      "model_module_version": "1.5.0",
      "model_name": "HTMLModel",
      "state": {
       "layout": "IPY_MODEL_9785dd9c891d41a38c975d85f4c108e3",
       "style": "IPY_MODEL_985b1bfea5854f2aa41e24eee4af0168",
       "value": "<h5>NA</h5>"
      }
     },
     "e559643a9abb4b079d636c92f74b1a3c": {
      "model_module": "@jupyter-widgets/controls",
      "model_module_version": "1.5.0",
      "model_name": "DescriptionStyleModel",
      "state": {
       "description_width": ""
      }
     },
     "e5790b391b19434088cbbe50016f97c4": {
      "model_module": "@jupyter-widgets/controls",
      "model_module_version": "1.5.0",
      "model_name": "DescriptionStyleModel",
      "state": {
       "description_width": ""
      }
     },
     "e5ac4d0cea3c489eb02bba6ccaa74d15": {
      "model_module": "@jupyter-widgets/controls",
      "model_module_version": "1.5.0",
      "model_name": "DescriptionStyleModel",
      "state": {
       "description_width": ""
      }
     },
     "e5efa6374a8643f38c9f62a3d6008b42": {
      "model_module": "@jupyter-widgets/base",
      "model_module_version": "1.2.0",
      "model_name": "LayoutModel",
      "state": {
       "max_width": "180px"
      }
     },
     "e84c512305e042fda94ea05e3eafe335": {
      "model_module": "@jupyter-widgets/controls",
      "model_module_version": "1.5.0",
      "model_name": "ProgressStyleModel",
      "state": {
       "bar_color": "#71cddd",
       "description_width": ""
      }
     },
     "ea1aac279a7049aa94fcc12e3cf35f48": {
      "model_module": "@jupyter-widgets/base",
      "model_module_version": "1.2.0",
      "model_name": "LayoutModel",
      "state": {
       "align_items": "center",
       "display": "inline-flex",
       "flex_flow": "column"
      }
     },
     "ebc00e55710945838d887da9a097010c": {
      "model_module": "@jupyter-widgets/base",
      "model_module_version": "1.2.0",
      "model_name": "LayoutModel",
      "state": {
       "align_items": "center",
       "justify_content": "center",
       "margin": "0px 0px 0px 0px",
       "max_height": "250px",
       "max_width": "250px",
       "min_height": "250px",
       "min_width": "250px"
      }
     },
     "ec2aa08c277f41fa80af1693519e567d": {
      "model_module": "@jupyter-widgets/controls",
      "model_module_version": "1.5.0",
      "model_name": "HTMLModel",
      "state": {
       "layout": "IPY_MODEL_a92632d570234b66988527652b0c637a",
       "style": "IPY_MODEL_5f538ac6f1ae4ea685c56ec4fe8b0d0d",
       "value": "<h5>150.5 / 131.1 us</h5>"
      }
     },
     "ec594f7c56de46e5a01d506b9413123e": {
      "model_module": "@jupyter-widgets/controls",
      "model_module_version": "1.5.0",
      "model_name": "HTMLModel",
      "state": {
       "layout": "IPY_MODEL_4d82ff349e984e7fb48575ae80e7f69c",
       "style": "IPY_MODEL_8b2699b26e474f6da8c305c463c16f78",
       "value": "<h2 style ='color:#ffffff; background-color:#000000;padding-top: 1%; padding-bottom: 1%;padding-left: 1%;margin-top: 0px'>Backend Overview</h2>"
      }
     },
     "ec98c3d16db4438d8a052b1de7e57397": {
      "model_module": "@jupyter-widgets/controls",
      "model_module_version": "1.5.0",
      "model_name": "DescriptionStyleModel",
      "state": {
       "description_width": ""
      }
     },
     "ecb21b91ce9248a59997432069c295bd": {
      "model_module": "@jupyter-widgets/controls",
      "model_module_version": "1.5.0",
      "model_name": "LabelModel",
      "state": {
       "layout": "IPY_MODEL_861dcef2c0a644dab167dd61723692b3",
       "style": "IPY_MODEL_fd889f39d1cc47bcb9751b70051f75d9",
       "value": "Operational"
      }
     },
     "ecc6ac08c3f848758e042d8bc492c9c4": {
      "model_module": "@jupyter-widgets/controls",
      "model_module_version": "1.5.0",
      "model_name": "DescriptionStyleModel",
      "state": {
       "description_width": ""
      }
     },
     "ed2c576084904d28bc9288b1a278f6aa": {
      "model_module": "@jupyter-widgets/controls",
      "model_module_version": "1.5.0",
      "model_name": "DescriptionStyleModel",
      "state": {
       "description_width": ""
      }
     },
     "edb157e82ed14212bf9fea3d3db05eee": {
      "model_module": "@jupyter-widgets/base",
      "model_module_version": "1.2.0",
      "model_name": "LayoutModel",
      "state": {}
     },
     "ee31e0d9e10d440dbbc3f56dd3cee13d": {
      "model_module": "@jupyter-widgets/controls",
      "model_module_version": "1.5.0",
      "model_name": "DescriptionStyleModel",
      "state": {
       "description_width": ""
      }
     },
     "eff9c03ac6a7498092ba21cc90212b62": {
      "model_module": "@jupyter-widgets/controls",
      "model_module_version": "1.5.0",
      "model_name": "DescriptionStyleModel",
      "state": {
       "description_width": ""
      }
     },
     "f0785cef361d4096ac354db98f2f7ce1": {
      "model_module": "@jupyter-widgets/base",
      "model_module_version": "1.2.0",
      "model_name": "LayoutModel",
      "state": {
       "justify_content": "center"
      }
     },
     "f0d41d5ee9a54ee2b9f2d2cdc23c6519": {
      "model_module": "@jupyter-widgets/base",
      "model_module_version": "1.2.0",
      "model_name": "LayoutModel",
      "state": {
       "justify_content": "center",
       "max_width": "250px",
       "min_width": "250px"
      }
     },
     "f2a6d760c56345e6aa9082c57137cfb4": {
      "model_module": "@jupyter-widgets/controls",
      "model_module_version": "1.5.0",
      "model_name": "DescriptionStyleModel",
      "state": {
       "description_width": ""
      }
     },
     "f2d6fba48870418fa3fa0a4ce1e89c2e": {
      "model_module": "@jupyter-widgets/controls",
      "model_module_version": "1.5.0",
      "model_name": "HTMLModel",
      "state": {
       "layout": "IPY_MODEL_87c2139c8f694b849c5699ba7be5836f",
       "style": "IPY_MODEL_1b3011b7453d4d7b8d60dc080cee0cae",
       "value": "<div><font style='font-weight:bold'>last_update_date</font>: 2020-08-09 14:09:32-04:00</div>"
      }
     },
     "f3e9b81b10fc47c7a42df5a43a457bee": {
      "model_module": "@jupyter-widgets/base",
      "model_module_version": "1.2.0",
      "model_name": "LayoutModel",
      "state": {
       "justify_content": "center"
      }
     },
     "f5d190a6b140496fb21b05422ea67e84": {
      "model_module": "@jupyter-widgets/controls",
      "model_module_version": "1.5.0",
      "model_name": "HTMLModel",
      "state": {
       "layout": "IPY_MODEL_7c7ade3aaa7848f0bd87f98cb6994eec",
       "style": "IPY_MODEL_21e0ea7a32fa4d0ab0c1ead11cdde882",
       "value": "<h4>ibmq_casablanca</h4>"
      }
     },
     "f678d4f3aa524e908d0cb3d446f1c32d": {
      "model_module": "@jupyter-widgets/controls",
      "model_module_version": "1.5.0",
      "model_name": "ButtonModel",
      "state": {
       "button_style": "primary",
       "description": "Clear",
       "layout": "IPY_MODEL_42e33de6bb194075bbe7ee3bcc8798aa",
       "style": "IPY_MODEL_d0b2d065b5f240c589e564ffe2a6a077"
      }
     },
     "f716b8fbea4c417eb3ebaadf19e3d305": {
      "model_module": "@jupyter-widgets/controls",
      "model_module_version": "1.5.0",
      "model_name": "HBoxModel",
      "state": {
       "children": [
        "IPY_MODEL_1c58a057d7454feb998e348b877742ff",
        "IPY_MODEL_a9006c1ae5b443debf4430a39279adc0",
        "IPY_MODEL_5a0b5e24292c44f5a36324ecb1ddbebb"
       ],
       "layout": "IPY_MODEL_5cb8cf0c873345de87ac4b00147115af"
      }
     },
     "f79bf97cd8394bb293c3dc8a3a77676d": {
      "model_module": "@jupyter-widgets/base",
      "model_module_version": "1.2.0",
      "model_name": "LayoutModel",
      "state": {
       "margin": "8px 0px 0px 0px"
      }
     },
     "f8363bcbcc1f43e3993729594332ccbe": {
      "model_module": "@jupyter-widgets/controls",
      "model_module_version": "1.5.0",
      "model_name": "DescriptionStyleModel",
      "state": {
       "description_width": ""
      }
     },
     "f8f099269f7c4fc49cce9f9f467bdfba": {
      "model_module": "@jupyter-widgets/controls",
      "model_module_version": "1.5.0",
      "model_name": "DescriptionStyleModel",
      "state": {
       "description_width": ""
      }
     },
     "f8f3290e731845ae962d9e1aacdbe14f": {
      "model_module": "@jupyter-widgets/output",
      "model_module_version": "1.0.0",
      "model_name": "OutputModel",
      "state": {
       "layout": "IPY_MODEL_4bc6b4a9b8b14f2396bdeb23e63d5e57",
       "outputs": [
        {
         "data": {
          "image/png": "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\n",
          "text/plain": "<Figure size 360x360 with 1 Axes>"
         },
         "metadata": {},
         "output_type": "display_data"
        }
       ]
      }
     },
     "f8fd0d53d7334cd99cd4ca72f04bca2e": {
      "model_module": "@jupyter-widgets/controls",
      "model_module_version": "1.5.0",
      "model_name": "DescriptionStyleModel",
      "state": {
       "description_width": ""
      }
     },
     "f9f5bf31703d45cdb4a791264f3261f2": {
      "model_module": "@jupyter-widgets/base",
      "model_module_version": "1.2.0",
      "model_name": "LayoutModel",
      "state": {}
     },
     "fa74d4f8a33b487cb4df0f911ee7d4d0": {
      "model_module": "@jupyter-widgets/controls",
      "model_module_version": "1.5.0",
      "model_name": "HTMLModel",
      "state": {
       "layout": "IPY_MODEL_2ec84375be9349e9b7955b1ae4737a36",
       "style": "IPY_MODEL_4a479fd1cd31498fb6a749ea370a0118",
       "value": "<h5>Status</h5>"
      }
     },
     "fadc9892080148c09c30c1c64a15c159": {
      "model_module": "@jupyter-widgets/base",
      "model_module_version": "1.2.0",
      "model_name": "LayoutModel",
      "state": {
       "max_width": "180px"
      }
     },
     "fb42ddd0ec784f7fa8037d3b6f61dd0d": {
      "model_module": "@jupyter-widgets/controls",
      "model_module_version": "1.5.0",
      "model_name": "DescriptionStyleModel",
      "state": {
       "description_width": ""
      }
     },
     "fbe2b8b61a7042518878bbd67cc1e58d": {
      "model_module": "@jupyter-widgets/base",
      "model_module_version": "1.2.0",
      "model_name": "LayoutModel",
      "state": {
       "justify_content": "center"
      }
     },
     "fc5dc43123cb42b5a75ee8c2b56ab568": {
      "model_module": "@jupyter-widgets/base",
      "model_module_version": "1.2.0",
      "model_name": "LayoutModel",
      "state": {}
     },
     "fd56b4608e0945b6b3e5a138f7126e19": {
      "model_module": "@jupyter-widgets/controls",
      "model_module_version": "1.5.0",
      "model_name": "HTMLModel",
      "state": {
       "layout": "IPY_MODEL_5b12172a792f4e2a8bac5b639a64dd19",
       "style": "IPY_MODEL_2d40ae440de0481f935a0ddc3ee693a6",
       "value": "<h1 style='color:#ffffff;background-color:#000000;padding-top: 1%;padding-bottom: 1%;padding-left: 1%; margin-top: 0px'>fake_johannesburg</h1>"
      }
     },
     "fd889f39d1cc47bcb9751b70051f75d9": {
      "model_module": "@jupyter-widgets/controls",
      "model_module_version": "1.5.0",
      "model_name": "DescriptionStyleModel",
      "state": {
       "description_width": ""
      }
     },
     "ff5e51d57ec24539b748d0cc05a4d01d": {
      "model_module": "@jupyter-widgets/controls",
      "model_module_version": "1.5.0",
      "model_name": "HTMLModel",
      "state": {
       "layout": "IPY_MODEL_52b91f4893754d1787fb2326b3974403",
       "style": "IPY_MODEL_bfb7ef959e604205be2a6bcc47fbff64",
       "value": "<h5>32</h5>"
      }
     },
     "ff990e542dbe43998e68da6272bf5023": {
      "model_module": "@jupyter-widgets/base",
      "model_module_version": "1.2.0",
      "model_name": "LayoutModel",
      "state": {
       "grid_gap": "0px 0px",
       "grid_template_areas": "\n                                                   \"top top top\"\n                                                   \"left middle right\"\n                                                   ",
       "grid_template_columns": "33% 33% 33%",
       "grid_template_rows": "auto auto"
      }
     }
    },
    "version_major": 2,
    "version_minor": 0
   }
  }
 },
 "nbformat": 4,
 "nbformat_minor": 4
}
